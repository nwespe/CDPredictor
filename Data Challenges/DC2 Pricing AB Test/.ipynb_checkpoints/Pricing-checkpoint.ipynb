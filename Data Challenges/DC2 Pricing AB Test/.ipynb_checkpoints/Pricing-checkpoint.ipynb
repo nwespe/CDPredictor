{
 "cells": [
  {
   "cell_type": "code",
   "execution_count": 1,
   "metadata": {
    "collapsed": false
   },
   "outputs": [
    {
     "name": "stdout",
     "output_type": "stream",
     "text": [
      "Populating the interactive namespace from numpy and matplotlib\n"
     ]
    }
   ],
   "source": [
    "import pandas as pd\n",
    "import seaborn as sns\n",
    "sns.set(context='poster', font_scale=1.2, style='white')\n",
    "\n",
    "%pylab inline"
   ]
  },
  {
   "cell_type": "markdown",
   "metadata": {},
   "source": [
    "Import the CSV data into Pandas dataframes"
   ]
  },
  {
   "cell_type": "code",
   "execution_count": 2,
   "metadata": {
    "collapsed": true
   },
   "outputs": [],
   "source": [
    "test_results = pd.read_csv('./test_results.csv')\n",
    "user_table = pd.read_csv('./user_table.csv')"
   ]
  },
  {
   "cell_type": "code",
   "execution_count": 3,
   "metadata": {
    "collapsed": false
   },
   "outputs": [
    {
     "data": {
      "text/html": [
       "<div>\n",
       "<style>\n",
       "    .dataframe thead tr:only-child th {\n",
       "        text-align: right;\n",
       "    }\n",
       "\n",
       "    .dataframe thead th {\n",
       "        text-align: left;\n",
       "    }\n",
       "\n",
       "    .dataframe tbody tr th {\n",
       "        vertical-align: top;\n",
       "    }\n",
       "</style>\n",
       "<table border=\"1\" class=\"dataframe\">\n",
       "  <thead>\n",
       "    <tr style=\"text-align: right;\">\n",
       "      <th></th>\n",
       "      <th>user_id</th>\n",
       "      <th>timestamp</th>\n",
       "      <th>source</th>\n",
       "      <th>device</th>\n",
       "      <th>operative_system</th>\n",
       "      <th>test</th>\n",
       "      <th>price</th>\n",
       "      <th>converted</th>\n",
       "    </tr>\n",
       "  </thead>\n",
       "  <tbody>\n",
       "    <tr>\n",
       "      <th>0</th>\n",
       "      <td>604839</td>\n",
       "      <td>2015-05-08 03:38:34</td>\n",
       "      <td>ads_facebook</td>\n",
       "      <td>mobile</td>\n",
       "      <td>iOS</td>\n",
       "      <td>0</td>\n",
       "      <td>39</td>\n",
       "      <td>0</td>\n",
       "    </tr>\n",
       "    <tr>\n",
       "      <th>1</th>\n",
       "      <td>624057</td>\n",
       "      <td>2015-05-10 21:08:46</td>\n",
       "      <td>seo-google</td>\n",
       "      <td>mobile</td>\n",
       "      <td>android</td>\n",
       "      <td>0</td>\n",
       "      <td>39</td>\n",
       "      <td>0</td>\n",
       "    </tr>\n",
       "    <tr>\n",
       "      <th>2</th>\n",
       "      <td>317970</td>\n",
       "      <td>2015-04-04 15:01:23</td>\n",
       "      <td>ads-bing</td>\n",
       "      <td>mobile</td>\n",
       "      <td>android</td>\n",
       "      <td>0</td>\n",
       "      <td>39</td>\n",
       "      <td>0</td>\n",
       "    </tr>\n",
       "    <tr>\n",
       "      <th>3</th>\n",
       "      <td>685636</td>\n",
       "      <td>2015-05-07 07:26:01</td>\n",
       "      <td>direct_traffic</td>\n",
       "      <td>mobile</td>\n",
       "      <td>iOS</td>\n",
       "      <td>1</td>\n",
       "      <td>59</td>\n",
       "      <td>0</td>\n",
       "    </tr>\n",
       "    <tr>\n",
       "      <th>4</th>\n",
       "      <td>820854</td>\n",
       "      <td>2015-05-24 11:04:40</td>\n",
       "      <td>ads_facebook</td>\n",
       "      <td>web</td>\n",
       "      <td>mac</td>\n",
       "      <td>0</td>\n",
       "      <td>39</td>\n",
       "      <td>0</td>\n",
       "    </tr>\n",
       "  </tbody>\n",
       "</table>\n",
       "</div>"
      ],
      "text/plain": [
       "   user_id            timestamp          source  device operative_system  \\\n",
       "0   604839  2015-05-08 03:38:34    ads_facebook  mobile              iOS   \n",
       "1   624057  2015-05-10 21:08:46      seo-google  mobile          android   \n",
       "2   317970  2015-04-04 15:01:23        ads-bing  mobile          android   \n",
       "3   685636  2015-05-07 07:26:01  direct_traffic  mobile              iOS   \n",
       "4   820854  2015-05-24 11:04:40    ads_facebook     web              mac   \n",
       "\n",
       "   test  price  converted  \n",
       "0     0     39          0  \n",
       "1     0     39          0  \n",
       "2     0     39          0  \n",
       "3     1     59          0  \n",
       "4     0     39          0  "
      ]
     },
     "execution_count": 3,
     "metadata": {},
     "output_type": "execute_result"
    }
   ],
   "source": [
    "test_results.head()"
   ]
  },
  {
   "cell_type": "code",
   "execution_count": 4,
   "metadata": {
    "collapsed": false
   },
   "outputs": [
    {
     "data": {
      "text/html": [
       "<div>\n",
       "<style>\n",
       "    .dataframe thead tr:only-child th {\n",
       "        text-align: right;\n",
       "    }\n",
       "\n",
       "    .dataframe thead th {\n",
       "        text-align: left;\n",
       "    }\n",
       "\n",
       "    .dataframe tbody tr th {\n",
       "        vertical-align: top;\n",
       "    }\n",
       "</style>\n",
       "<table border=\"1\" class=\"dataframe\">\n",
       "  <thead>\n",
       "    <tr style=\"text-align: right;\">\n",
       "      <th></th>\n",
       "      <th>user_id</th>\n",
       "      <th>city</th>\n",
       "      <th>country</th>\n",
       "      <th>lat</th>\n",
       "      <th>long</th>\n",
       "    </tr>\n",
       "  </thead>\n",
       "  <tbody>\n",
       "    <tr>\n",
       "      <th>0</th>\n",
       "      <td>510335</td>\n",
       "      <td>Peabody</td>\n",
       "      <td>USA</td>\n",
       "      <td>42.53</td>\n",
       "      <td>-70.97</td>\n",
       "    </tr>\n",
       "    <tr>\n",
       "      <th>1</th>\n",
       "      <td>89568</td>\n",
       "      <td>Reno</td>\n",
       "      <td>USA</td>\n",
       "      <td>39.54</td>\n",
       "      <td>-119.82</td>\n",
       "    </tr>\n",
       "    <tr>\n",
       "      <th>2</th>\n",
       "      <td>434134</td>\n",
       "      <td>Rialto</td>\n",
       "      <td>USA</td>\n",
       "      <td>34.11</td>\n",
       "      <td>-117.39</td>\n",
       "    </tr>\n",
       "    <tr>\n",
       "      <th>3</th>\n",
       "      <td>289769</td>\n",
       "      <td>Carson City</td>\n",
       "      <td>USA</td>\n",
       "      <td>39.15</td>\n",
       "      <td>-119.74</td>\n",
       "    </tr>\n",
       "    <tr>\n",
       "      <th>4</th>\n",
       "      <td>939586</td>\n",
       "      <td>Chicago</td>\n",
       "      <td>USA</td>\n",
       "      <td>41.84</td>\n",
       "      <td>-87.68</td>\n",
       "    </tr>\n",
       "  </tbody>\n",
       "</table>\n",
       "</div>"
      ],
      "text/plain": [
       "   user_id         city country    lat    long\n",
       "0   510335      Peabody     USA  42.53  -70.97\n",
       "1    89568         Reno     USA  39.54 -119.82\n",
       "2   434134       Rialto     USA  34.11 -117.39\n",
       "3   289769  Carson City     USA  39.15 -119.74\n",
       "4   939586      Chicago     USA  41.84  -87.68"
      ]
     },
     "execution_count": 4,
     "metadata": {},
     "output_type": "execute_result"
    }
   ],
   "source": [
    "user_table.head()"
   ]
  },
  {
   "cell_type": "markdown",
   "metadata": {},
   "source": [
    "Background: \n",
    "Company XYZ sells a software for \\$39. Since revenue has been flat for some time, the VP of\n",
    "Product has decided to run a test increasing the price. She hopes that this would increase\n",
    "revenue. In the experiment, 66% of the users have seen the old price ($39), while a random\n",
    "sample of 33% users a higher price (\\$59).\n",
    "The test has been running for some time and the VP of Product is interested in understanding\n",
    "how it went and whether it would make sense to increase the price for all the users."
   ]
  },
  {
   "cell_type": "markdown",
   "metadata": {},
   "source": [
    "Questions to ask:\n",
    "\n",
    "Should the company sell its software for \\$39 or $59?\n",
    "\n",
    "The VP of Product is interested in having a holistic view into user behavior, especially\n",
    "focusing on actionable insights that might increase conversion rate. What are your main\n",
    "findings looking at the data?\n",
    "\n",
    "[Bonus] The VP of Product feels that the test has been running for too long and she should\n",
    "have been able to get statistically significant results in a shorter time. Do you agree with\n",
    "her intuition? After how many days you would have stopped the test? Please, explain\n",
    "why."
   ]
  },
  {
   "cell_type": "code",
   "execution_count": 5,
   "metadata": {
    "collapsed": false
   },
   "outputs": [
    {
     "data": {
      "text/plain": [
       "price\n",
       "39    202672\n",
       "59    114128\n",
       "Name: converted, dtype: int64"
      ]
     },
     "execution_count": 5,
     "metadata": {},
     "output_type": "execute_result"
    }
   ],
   "source": [
    "test_results.groupby(['price'])['converted'].count()"
   ]
  },
  {
   "cell_type": "code",
   "execution_count": 6,
   "metadata": {
    "collapsed": false
   },
   "outputs": [
    {
     "data": {
      "text/plain": [
       "price  converted\n",
       "39     0            198641\n",
       "       1              4031\n",
       "59     0            112351\n",
       "       1              1777\n",
       "Name: converted, dtype: int64"
      ]
     },
     "execution_count": 6,
     "metadata": {},
     "output_type": "execute_result"
    }
   ],
   "source": [
    "test_results.groupby(['price', 'converted'])['converted'].count()"
   ]
  },
  {
   "cell_type": "markdown",
   "metadata": {},
   "source": [
    "Okay, first I need to figure out the conversion rate at each price point."
   ]
  },
  {
   "cell_type": "code",
   "execution_count": 7,
   "metadata": {
    "collapsed": true
   },
   "outputs": [],
   "source": [
    "conversion_rate = test_results.groupby(['price'])['converted'].mean()"
   ]
  },
  {
   "cell_type": "code",
   "execution_count": 8,
   "metadata": {
    "collapsed": false
   },
   "outputs": [
    {
     "data": {
      "text/plain": [
       "price\n",
       "39    0.019889\n",
       "59    0.015570\n",
       "Name: converted, dtype: float64"
      ]
     },
     "execution_count": 8,
     "metadata": {},
     "output_type": "execute_result"
    }
   ],
   "source": [
    "conversion_rate"
   ]
  },
  {
   "cell_type": "markdown",
   "metadata": {},
   "source": [
    "Okay, so people who saw the lower price bought the product at a higher rate. But is it high enough to offset the difference in price?"
   ]
  },
  {
   "cell_type": "code",
   "execution_count": 9,
   "metadata": {
    "collapsed": false
   },
   "outputs": [
    {
     "data": {
      "text/plain": [
       "(0.775671, 0.9186300000000001)"
      ]
     },
     "execution_count": 9,
     "metadata": {},
     "output_type": "execute_result"
    }
   ],
   "source": [
    "lower_price_return = 39*0.019889\n",
    "higher_price_return = 59*0.01557\n",
    "lower_price_return, higher_price_return"
   ]
  },
  {
   "cell_type": "markdown",
   "metadata": {},
   "source": [
    "Looks like on average, we earn \\$0.92 per visitor with the higher price and $0.78 per visitor with the lower price. So the company should switch."
   ]
  },
  {
   "cell_type": "markdown",
   "metadata": {},
   "source": [
    "I can formalize this analysis more by stating some hypotheses and including information about our sample size. The 'break-even' point for the new higher price is 59\\*x = 39\\*y, where x and y are the conversion rates at each price. So if x > 39y/59, the company should switch to the higher price. If x <= 39y/59, the company should not switch.\n",
    "\n",
    "My null hypothesis is x <= 39y/59, which would lead to no price change.\n",
    "The alternate hypothesis is x > 39y/59, which would lead to a price increase."
   ]
  },
  {
   "cell_type": "code",
   "execution_count": 10,
   "metadata": {
    "collapsed": false
   },
   "outputs": [
    {
     "name": "stdout",
     "output_type": "stream",
     "text": [
      "0.0131469661017\n"
     ]
    },
    {
     "data": {
      "text/plain": [
       "True"
      ]
     },
     "execution_count": 10,
     "metadata": {},
     "output_type": "execute_result"
    }
   ],
   "source": [
    "x = 0.01557\n",
    "y = 0.019889\n",
    "print 39*y/59\n",
    "x > 39*y/59"
   ]
  },
  {
   "cell_type": "markdown",
   "metadata": {},
   "source": [
    "I can test whether the rates x and y depend on the version of price using a chi-squared test for independence."
   ]
  },
  {
   "cell_type": "code",
   "execution_count": 12,
   "metadata": {
    "collapsed": false
   },
   "outputs": [
    {
     "name": "stdout",
     "output_type": "stream",
     "text": [
      "chisq = 75.4383069939, p = 3.77004282817e-18\n"
     ]
    }
   ],
   "source": [
    "from scipy.stats import chi2_contingency\n",
    "observed = np.array([[198641, 4031], [112351, 1777]])\n",
    "#print observed\n",
    "chi2, p, dof, ex = chi2_contingency(observed)\n",
    "print 'chisq = {}, p = {}'.format(chi2, p)"
   ]
  },
  {
   "cell_type": "markdown",
   "metadata": {},
   "source": [
    "Well, they are definitely different, which is not surprising. What I want to know is if the rate for the $59 price is higher than 0.013147, the break-even point."
   ]
  },
  {
   "cell_type": "code",
   "execution_count": 25,
   "metadata": {
    "collapsed": false
   },
   "outputs": [
    {
     "name": "stdout",
     "output_type": "stream",
     "text": [
      "t-statistic =  6.612 pvalue = 0.0000000000\n"
     ]
    }
   ],
   "source": [
    "from scipy.stats import t\n",
    "n = 114128  # sample number for $59 price\n",
    "sv = (x*(1.0-x))/n  # sample variance\n",
    "t_stat = (x-0.0131469661017)/np.sqrt(sv)  # t-statistic for proportion\n",
    "pval = t.sf(t_stat, n-1)  # one-sided pvalue = Prob(t>tt)\n",
    "print 't-statistic = %6.3f pvalue = %6.10f' % (t_stat, pval)"
   ]
  },
  {
   "cell_type": "markdown",
   "metadata": {},
   "source": [
    "Not sure if I'm calculating that correctly, but I'll go with it."
   ]
  },
  {
   "cell_type": "markdown",
   "metadata": {},
   "source": [
    "Let's try to plot the conversion rate over time."
   ]
  },
  {
   "cell_type": "code",
   "execution_count": 14,
   "metadata": {
    "collapsed": false
   },
   "outputs": [
    {
     "data": {
      "text/html": [
       "<div>\n",
       "<style>\n",
       "    .dataframe thead tr:only-child th {\n",
       "        text-align: right;\n",
       "    }\n",
       "\n",
       "    .dataframe thead th {\n",
       "        text-align: left;\n",
       "    }\n",
       "\n",
       "    .dataframe tbody tr th {\n",
       "        vertical-align: top;\n",
       "    }\n",
       "</style>\n",
       "<table border=\"1\" class=\"dataframe\">\n",
       "  <thead>\n",
       "    <tr style=\"text-align: right;\">\n",
       "      <th></th>\n",
       "      <th>user_id</th>\n",
       "      <th>timestamp</th>\n",
       "      <th>source</th>\n",
       "      <th>device</th>\n",
       "      <th>operative_system</th>\n",
       "      <th>test</th>\n",
       "      <th>price</th>\n",
       "      <th>converted</th>\n",
       "    </tr>\n",
       "  </thead>\n",
       "  <tbody>\n",
       "    <tr>\n",
       "      <th>316795</th>\n",
       "      <td>17427</td>\n",
       "      <td>2015-04-11 09:29:15</td>\n",
       "      <td>ads_facebook</td>\n",
       "      <td>web</td>\n",
       "      <td>windows</td>\n",
       "      <td>0</td>\n",
       "      <td>39</td>\n",
       "      <td>0</td>\n",
       "    </tr>\n",
       "    <tr>\n",
       "      <th>316796</th>\n",
       "      <td>687787</td>\n",
       "      <td>2015-03-16 23:31:55</td>\n",
       "      <td>direct_traffic</td>\n",
       "      <td>web</td>\n",
       "      <td>windows</td>\n",
       "      <td>0</td>\n",
       "      <td>39</td>\n",
       "      <td>0</td>\n",
       "    </tr>\n",
       "    <tr>\n",
       "      <th>316797</th>\n",
       "      <td>618863</td>\n",
       "      <td>2015-04-11 01:35:19</td>\n",
       "      <td>ads-google</td>\n",
       "      <td>web</td>\n",
       "      <td>mac</td>\n",
       "      <td>0</td>\n",
       "      <td>39</td>\n",
       "      <td>0</td>\n",
       "    </tr>\n",
       "    <tr>\n",
       "      <th>316798</th>\n",
       "      <td>154636</td>\n",
       "      <td>2015-05-14 05:46:42</td>\n",
       "      <td>friend_referral</td>\n",
       "      <td>mobile</td>\n",
       "      <td>android</td>\n",
       "      <td>0</td>\n",
       "      <td>39</td>\n",
       "      <td>0</td>\n",
       "    </tr>\n",
       "    <tr>\n",
       "      <th>316799</th>\n",
       "      <td>832372</td>\n",
       "      <td>2015-03-08 17:12:33</td>\n",
       "      <td>ads_facebook</td>\n",
       "      <td>mobile</td>\n",
       "      <td>android</td>\n",
       "      <td>1</td>\n",
       "      <td>59</td>\n",
       "      <td>0</td>\n",
       "    </tr>\n",
       "  </tbody>\n",
       "</table>\n",
       "</div>"
      ],
      "text/plain": [
       "        user_id            timestamp           source  device  \\\n",
       "316795    17427  2015-04-11 09:29:15     ads_facebook     web   \n",
       "316796   687787  2015-03-16 23:31:55   direct_traffic     web   \n",
       "316797   618863  2015-04-11 01:35:19       ads-google     web   \n",
       "316798   154636  2015-05-14 05:46:42  friend_referral  mobile   \n",
       "316799   832372  2015-03-08 17:12:33     ads_facebook  mobile   \n",
       "\n",
       "       operative_system  test  price  converted  \n",
       "316795          windows     0     39          0  \n",
       "316796          windows     0     39          0  \n",
       "316797              mac     0     39          0  \n",
       "316798          android     0     39          0  \n",
       "316799          android     1     59          0  "
      ]
     },
     "execution_count": 14,
     "metadata": {},
     "output_type": "execute_result"
    }
   ],
   "source": [
    "test_results.tail()"
   ]
  },
  {
   "cell_type": "code",
   "execution_count": 15,
   "metadata": {
    "collapsed": false
   },
   "outputs": [],
   "source": [
    "test_results['timestamp'].replace(to_replace=':60', value=':59', inplace=True, regex=True)"
   ]
  },
  {
   "cell_type": "code",
   "execution_count": 16,
   "metadata": {
    "collapsed": false
   },
   "outputs": [],
   "source": [
    "ordered_test_results = test_results.sort_values(by='timestamp')\n",
    "ordered_test_results['timestamp'] = pd.to_datetime(ordered_test_results['timestamp'], format='%Y%m%d %H:%M:%S')"
   ]
  },
  {
   "cell_type": "code",
   "execution_count": 17,
   "metadata": {
    "collapsed": false
   },
   "outputs": [],
   "source": [
    "ordered_results_39 = ordered_test_results[ordered_test_results.price == 39].reset_index()\n",
    "ordered_results_59 = ordered_test_results[ordered_test_results.price == 59].reset_index()\n",
    "ordered_results_39['cum_converted'] = ordered_results_39['converted'].cumsum()\n",
    "ordered_results_39['cum_count'] = ordered_results_39.index.values + 1\n",
    "ordered_results_39['cum_rate'] = ordered_results_39['cum_converted'].div(ordered_results_39['cum_count'])\n",
    "ordered_results_59['cum_converted'] = ordered_results_59['converted'].cumsum()\n",
    "ordered_results_59['cum_count'] = ordered_results_59.index.values + 1\n",
    "ordered_results_59['cum_rate'] = ordered_results_59['cum_converted'].div(ordered_results_59['cum_count'])"
   ]
  },
  {
   "cell_type": "code",
   "execution_count": 18,
   "metadata": {
    "collapsed": false
   },
   "outputs": [
    {
     "data": {
      "text/html": [
       "<div>\n",
       "<style>\n",
       "    .dataframe thead tr:only-child th {\n",
       "        text-align: right;\n",
       "    }\n",
       "\n",
       "    .dataframe thead th {\n",
       "        text-align: left;\n",
       "    }\n",
       "\n",
       "    .dataframe tbody tr th {\n",
       "        vertical-align: top;\n",
       "    }\n",
       "</style>\n",
       "<table border=\"1\" class=\"dataframe\">\n",
       "  <thead>\n",
       "    <tr style=\"text-align: right;\">\n",
       "      <th></th>\n",
       "      <th>index</th>\n",
       "      <th>user_id</th>\n",
       "      <th>timestamp</th>\n",
       "      <th>source</th>\n",
       "      <th>device</th>\n",
       "      <th>operative_system</th>\n",
       "      <th>test</th>\n",
       "      <th>price</th>\n",
       "      <th>converted</th>\n",
       "      <th>cum_converted</th>\n",
       "      <th>cum_count</th>\n",
       "      <th>cum_rate</th>\n",
       "    </tr>\n",
       "  </thead>\n",
       "  <tbody>\n",
       "    <tr>\n",
       "      <th>202667</th>\n",
       "      <td>102840</td>\n",
       "      <td>779865</td>\n",
       "      <td>2015-05-31 23:52:41</td>\n",
       "      <td>ads-google</td>\n",
       "      <td>mobile</td>\n",
       "      <td>iOS</td>\n",
       "      <td>0</td>\n",
       "      <td>39</td>\n",
       "      <td>0</td>\n",
       "      <td>4031</td>\n",
       "      <td>202668</td>\n",
       "      <td>0.019890</td>\n",
       "    </tr>\n",
       "    <tr>\n",
       "      <th>202668</th>\n",
       "      <td>309275</td>\n",
       "      <td>281578</td>\n",
       "      <td>2015-05-31 23:52:41</td>\n",
       "      <td>ads-google</td>\n",
       "      <td>mobile</td>\n",
       "      <td>iOS</td>\n",
       "      <td>0</td>\n",
       "      <td>39</td>\n",
       "      <td>0</td>\n",
       "      <td>4031</td>\n",
       "      <td>202669</td>\n",
       "      <td>0.019890</td>\n",
       "    </tr>\n",
       "    <tr>\n",
       "      <th>202669</th>\n",
       "      <td>142938</td>\n",
       "      <td>184420</td>\n",
       "      <td>2015-05-31 23:54:59</td>\n",
       "      <td>seo_facebook</td>\n",
       "      <td>mobile</td>\n",
       "      <td>iOS</td>\n",
       "      <td>0</td>\n",
       "      <td>39</td>\n",
       "      <td>0</td>\n",
       "      <td>4031</td>\n",
       "      <td>202670</td>\n",
       "      <td>0.019889</td>\n",
       "    </tr>\n",
       "    <tr>\n",
       "      <th>202670</th>\n",
       "      <td>246297</td>\n",
       "      <td>891559</td>\n",
       "      <td>2015-05-31 23:54:59</td>\n",
       "      <td>seo_facebook</td>\n",
       "      <td>mobile</td>\n",
       "      <td>iOS</td>\n",
       "      <td>0</td>\n",
       "      <td>39</td>\n",
       "      <td>0</td>\n",
       "      <td>4031</td>\n",
       "      <td>202671</td>\n",
       "      <td>0.019889</td>\n",
       "    </tr>\n",
       "    <tr>\n",
       "      <th>202671</th>\n",
       "      <td>205994</td>\n",
       "      <td>184998</td>\n",
       "      <td>2015-05-31 23:59:45</td>\n",
       "      <td>ads-bing</td>\n",
       "      <td>web</td>\n",
       "      <td>windows</td>\n",
       "      <td>0</td>\n",
       "      <td>39</td>\n",
       "      <td>0</td>\n",
       "      <td>4031</td>\n",
       "      <td>202672</td>\n",
       "      <td>0.019889</td>\n",
       "    </tr>\n",
       "  </tbody>\n",
       "</table>\n",
       "</div>"
      ],
      "text/plain": [
       "         index  user_id           timestamp        source  device  \\\n",
       "202667  102840   779865 2015-05-31 23:52:41    ads-google  mobile   \n",
       "202668  309275   281578 2015-05-31 23:52:41    ads-google  mobile   \n",
       "202669  142938   184420 2015-05-31 23:54:59  seo_facebook  mobile   \n",
       "202670  246297   891559 2015-05-31 23:54:59  seo_facebook  mobile   \n",
       "202671  205994   184998 2015-05-31 23:59:45      ads-bing     web   \n",
       "\n",
       "       operative_system  test  price  converted  cum_converted  cum_count  \\\n",
       "202667              iOS     0     39          0           4031     202668   \n",
       "202668              iOS     0     39          0           4031     202669   \n",
       "202669              iOS     0     39          0           4031     202670   \n",
       "202670              iOS     0     39          0           4031     202671   \n",
       "202671          windows     0     39          0           4031     202672   \n",
       "\n",
       "        cum_rate  \n",
       "202667  0.019890  \n",
       "202668  0.019890  \n",
       "202669  0.019889  \n",
       "202670  0.019889  \n",
       "202671  0.019889  "
      ]
     },
     "execution_count": 18,
     "metadata": {},
     "output_type": "execute_result"
    }
   ],
   "source": [
    "ordered_results_39.tail()"
   ]
  },
  {
   "cell_type": "code",
   "execution_count": 29,
   "metadata": {
    "collapsed": false
   },
   "outputs": [
    {
     "data": {
      "text/html": [
       "<div>\n",
       "<style>\n",
       "    .dataframe thead tr:only-child th {\n",
       "        text-align: right;\n",
       "    }\n",
       "\n",
       "    .dataframe thead th {\n",
       "        text-align: left;\n",
       "    }\n",
       "\n",
       "    .dataframe tbody tr th {\n",
       "        vertical-align: top;\n",
       "    }\n",
       "</style>\n",
       "<table border=\"1\" class=\"dataframe\">\n",
       "  <thead>\n",
       "    <tr style=\"text-align: right;\">\n",
       "      <th></th>\n",
       "      <th>index</th>\n",
       "      <th>user_id</th>\n",
       "      <th>timestamp</th>\n",
       "      <th>source</th>\n",
       "      <th>device</th>\n",
       "      <th>operative_system</th>\n",
       "      <th>test</th>\n",
       "      <th>price</th>\n",
       "      <th>converted</th>\n",
       "      <th>cum_converted</th>\n",
       "      <th>cum_count</th>\n",
       "      <th>cum_rate</th>\n",
       "      <th>p-value</th>\n",
       "    </tr>\n",
       "  </thead>\n",
       "  <tbody>\n",
       "    <tr>\n",
       "      <th>114123</th>\n",
       "      <td>181202</td>\n",
       "      <td>89461</td>\n",
       "      <td>2015-05-31 23:50:13</td>\n",
       "      <td>ads-google</td>\n",
       "      <td>web</td>\n",
       "      <td>mac</td>\n",
       "      <td>1</td>\n",
       "      <td>59</td>\n",
       "      <td>0</td>\n",
       "      <td>1777</td>\n",
       "      <td>114124</td>\n",
       "      <td>0.015571</td>\n",
       "      <td>1.883102e-11</td>\n",
       "    </tr>\n",
       "    <tr>\n",
       "      <th>114124</th>\n",
       "      <td>204981</td>\n",
       "      <td>16527</td>\n",
       "      <td>2015-05-31 23:50:13</td>\n",
       "      <td>ads-google</td>\n",
       "      <td>web</td>\n",
       "      <td>mac</td>\n",
       "      <td>1</td>\n",
       "      <td>59</td>\n",
       "      <td>0</td>\n",
       "      <td>1777</td>\n",
       "      <td>114125</td>\n",
       "      <td>0.015571</td>\n",
       "      <td>1.887111e-11</td>\n",
       "    </tr>\n",
       "    <tr>\n",
       "      <th>114125</th>\n",
       "      <td>313496</td>\n",
       "      <td>241118</td>\n",
       "      <td>2015-05-31 23:53:22</td>\n",
       "      <td>ads-google</td>\n",
       "      <td>mobile</td>\n",
       "      <td>other</td>\n",
       "      <td>1</td>\n",
       "      <td>59</td>\n",
       "      <td>0</td>\n",
       "      <td>1777</td>\n",
       "      <td>114126</td>\n",
       "      <td>0.015571</td>\n",
       "      <td>1.891128e-11</td>\n",
       "    </tr>\n",
       "    <tr>\n",
       "      <th>114126</th>\n",
       "      <td>166405</td>\n",
       "      <td>974763</td>\n",
       "      <td>2015-05-31 23:53:22</td>\n",
       "      <td>ads-google</td>\n",
       "      <td>mobile</td>\n",
       "      <td>other</td>\n",
       "      <td>1</td>\n",
       "      <td>59</td>\n",
       "      <td>0</td>\n",
       "      <td>1777</td>\n",
       "      <td>114127</td>\n",
       "      <td>0.015570</td>\n",
       "      <td>1.895154e-11</td>\n",
       "    </tr>\n",
       "    <tr>\n",
       "      <th>114127</th>\n",
       "      <td>204866</td>\n",
       "      <td>716470</td>\n",
       "      <td>2015-05-31 23:53:22</td>\n",
       "      <td>ads-google</td>\n",
       "      <td>mobile</td>\n",
       "      <td>other</td>\n",
       "      <td>1</td>\n",
       "      <td>59</td>\n",
       "      <td>0</td>\n",
       "      <td>1777</td>\n",
       "      <td>114128</td>\n",
       "      <td>0.015570</td>\n",
       "      <td>1.899188e-11</td>\n",
       "    </tr>\n",
       "  </tbody>\n",
       "</table>\n",
       "</div>"
      ],
      "text/plain": [
       "         index  user_id           timestamp      source  device  \\\n",
       "114123  181202    89461 2015-05-31 23:50:13  ads-google     web   \n",
       "114124  204981    16527 2015-05-31 23:50:13  ads-google     web   \n",
       "114125  313496   241118 2015-05-31 23:53:22  ads-google  mobile   \n",
       "114126  166405   974763 2015-05-31 23:53:22  ads-google  mobile   \n",
       "114127  204866   716470 2015-05-31 23:53:22  ads-google  mobile   \n",
       "\n",
       "       operative_system  test  price  converted  cum_converted  cum_count  \\\n",
       "114123              mac     1     59          0           1777     114124   \n",
       "114124              mac     1     59          0           1777     114125   \n",
       "114125            other     1     59          0           1777     114126   \n",
       "114126            other     1     59          0           1777     114127   \n",
       "114127            other     1     59          0           1777     114128   \n",
       "\n",
       "        cum_rate       p-value  \n",
       "114123  0.015571  1.883102e-11  \n",
       "114124  0.015571  1.887111e-11  \n",
       "114125  0.015571  1.891128e-11  \n",
       "114126  0.015570  1.895154e-11  \n",
       "114127  0.015570  1.899188e-11  "
      ]
     },
     "execution_count": 29,
     "metadata": {},
     "output_type": "execute_result"
    }
   ],
   "source": [
    "ordered_results_59.tail()"
   ]
  },
  {
   "cell_type": "code",
   "execution_count": 20,
   "metadata": {
    "collapsed": false
   },
   "outputs": [
    {
     "data": {
      "image/png": "[encoded data removed]",
      "text/plain": [
       "<matplotlib.figure.Figure at 0x108665710>"
      ]
     },
     "metadata": {},
     "output_type": "display_data"
    }
   ],
   "source": [
    "import datetime\n",
    "enddate = datetime.datetime(2015,5,31)\n",
    "startdate = datetime.datetime(2015,3,2)\n",
    "\n",
    "fig = plt.figure(figsize(12, 6))\n",
    "ax = plt.axes()\n",
    "ax.plot(ordered_results_39.timestamp, ordered_results_39.cum_rate, label='$39')\n",
    "ax.plot(ordered_results_59.timestamp, ordered_results_59.cum_rate, label='$59')\n",
    "plt.axhline(0.0131469661017, linestyle='--', label='break-even')\n",
    "ax.legend(loc='center left', bbox_to_anchor=(1, 0.5))\n",
    "ax.set_ylim(0, 0.03)\n",
    "ax.set_xlim(startdate, enddate)\n",
    "plt.title('Conversion rate over time')\n",
    "plt.show()"
   ]
  },
  {
   "cell_type": "markdown",
   "metadata": {
    "collapsed": true
   },
   "source": [
    "Now I'd like to plot the p-value for the difference between the \\$59 conversion rate and the break-even point over time."
   ]
  },
  {
   "cell_type": "code",
   "execution_count": 24,
   "metadata": {
    "collapsed": false
   },
   "outputs": [
    {
     "name": "stderr",
     "output_type": "stream",
     "text": [
      "/anaconda/envs/my_insight_env/lib/python2.7/site-packages/ipykernel/__main__.py:5: RuntimeWarning: divide by zero encountered in double_scalars\n"
     ]
    }
   ],
   "source": [
    "def find_pval(row):\n",
    "    n = row.cum_count\n",
    "    x = row.cum_rate\n",
    "    sv = (x*(1.0-x))/n  # sample variance\n",
    "    t_stat = (x-0.0131469661017)/np.sqrt(sv)  # t-statistic for proportion\n",
    "    return t.sf(t_stat, n-1)  # one-sided pvalue = Prob(t>tt)\n",
    "\n",
    "test_pval = ordered_results_59.apply(lambda x: find_pval(x), axis=1)"
   ]
  },
  {
   "cell_type": "code",
   "execution_count": 26,
   "metadata": {
    "collapsed": false
   },
   "outputs": [],
   "source": [
    "ordered_results_59['p-value'] = test_pval"
   ]
  },
  {
   "cell_type": "code",
   "execution_count": 33,
   "metadata": {
    "collapsed": false
   },
   "outputs": [
    {
     "data": {
      "image/png": "[encoded data removed]",
      "text/plain": [
       "<matplotlib.figure.Figure at 0x1125c2b10>"
      ]
     },
     "metadata": {},
     "output_type": "display_data"
    }
   ],
   "source": [
    "enddate = datetime.datetime(2015,3,9)\n",
    "startdate = datetime.datetime(2015,3,2)\n",
    "# fig = plt.figure(figsize(12, 6))\n",
    "fig, ax = plt.subplots()\n",
    "ax.semilogy(ordered_results_59.timestamp, ordered_results_59['p-value'])\n",
    "plt.axhline(0.05, linestyle='--', label='p = 0.05')\n",
    "ax.legend(loc='center left', bbox_to_anchor=(1, 0.5))\n",
    "ax.set_ylim(0.0001, 1)\n",
    "ax.set_ylabel('p-value')\n",
    "ax.set_xlim(startdate, enddate)\n",
    "plt.title('P-value over time')\n",
    "# ax[1].plot(ordered_results_59.timestamp, ordered_results_59['cum_count'])\n",
    "# ax[1].set_ylim(0, 10000)\n",
    "# ax[1].set_ylabel('number of customers')\n",
    "# ax[1].set_xlim(startdate, enddate)\n",
    "plt.show()"
   ]
  },
  {
   "cell_type": "code",
   "execution_count": 63,
   "metadata": {
    "collapsed": false
   },
   "outputs": [
    {
     "data": {
      "image/png": "[encoded data removed]",
      "text/plain": [
       "<matplotlib.figure.Figure at 0x110303d10>"
      ]
     },
     "metadata": {},
     "output_type": "display_data"
    }
   ],
   "source": [
    "import datetime\n",
    "enddate = datetime.datetime(2015,3,9)\n",
    "startdate = datetime.datetime(2015,3,2)\n",
    "\n",
    "fig = plt.figure(figsize(12, 6))\n",
    "ax = plt.axes()\n",
    "ax.plot(ordered_results_39.timestamp, ordered_results_39.cum_rate, label='$39')\n",
    "ax.plot(ordered_results_59.timestamp, ordered_results_59.cum_rate, label='$59')\n",
    "plt.axhline(0.0131469661017, linestyle='--', label='break-even')\n",
    "ax.legend(loc='center left', bbox_to_anchor=(1, 0.5))\n",
    "ax.set_ylim(0, 0.03)\n",
    "ax.set_xlim(startdate, enddate)\n",
    "plt.title('Conversion rate over time')\n",
    "plt.show()"
   ]
  },
  {
   "cell_type": "markdown",
   "metadata": {},
   "source": [
    "It's pretty clear that both of the conversion rates and the p-value stabilize by one week into the A/B testing. The length of the testing would depend on how sure the company needs to be before being comfortable changing the price, but I would recommend switching to the higher price after a week of testing. The CEO is correct that the test went on for much longer than necessary."
   ]
  },
  {
   "cell_type": "markdown",
   "metadata": {},
   "source": [
    "Now let's look at all of the other information on our users. I'll plot conversion rate for each variable (source, device, OS) and other features like time of day and location."
   ]
  },
  {
   "cell_type": "code",
   "execution_count": 30,
   "metadata": {
    "collapsed": false
   },
   "outputs": [
    {
     "data": {
      "image/png": "[encoded data removed]",
      "text/plain": [
       "<matplotlib.figure.Figure at 0x116c0c8d0>"
      ]
     },
     "metadata": {},
     "output_type": "display_data"
    }
   ],
   "source": [
    "source_series = test_results.groupby(['price', 'source'])['converted'].mean()\n",
    "source_converted = source_series.reset_index()\n",
    "sns.factorplot(x='source', y='converted', data=source_converted, hue='price', kind='bar', size=6, aspect=2)\n",
    "plt.show()"
   ]
  },
  {
   "cell_type": "code",
   "execution_count": 65,
   "metadata": {
    "collapsed": false
   },
   "outputs": [
    {
     "data": {
      "text/plain": [
       "price  source         \n",
       "39     ads-bing           14601\n",
       "       ads-google         37863\n",
       "       ads-yahoo           4818\n",
       "       ads_facebook       34090\n",
       "       ads_other          19278\n",
       "       direct_traffic     38750\n",
       "       friend_referral    13124\n",
       "       seo-bing            1333\n",
       "       seo-google         15101\n",
       "       seo-other           5885\n",
       "       seo-yahoo           4356\n",
       "       seo_facebook       13473\n",
       "59     ads-bing            8272\n",
       "       ads-google         21516\n",
       "       ads-yahoo           2765\n",
       "       ads_facebook       19306\n",
       "       ads_other          10598\n",
       "       direct_traffic     21607\n",
       "       friend_referral     7571\n",
       "       seo-bing             820\n",
       "       seo-google          8074\n",
       "       seo-other           3375\n",
       "       seo-yahoo           2492\n",
       "       seo_facebook        7732\n",
       "Name: converted, dtype: int64"
      ]
     },
     "execution_count": 65,
     "metadata": {},
     "output_type": "execute_result"
    }
   ],
   "source": [
    "test_results.groupby(['price', 'source'])['converted'].count()"
   ]
  },
  {
   "cell_type": "code",
   "execution_count": 29,
   "metadata": {
    "collapsed": false
   },
   "outputs": [
    {
     "data": {
      "image/png": "[encoded data removed]",
      "text/plain": [
       "<matplotlib.figure.Figure at 0x112241d10>"
      ]
     },
     "metadata": {},
     "output_type": "display_data"
    }
   ],
   "source": [
    "device_series = test_results.groupby(['price', 'device'])['converted'].mean()\n",
    "device_converted = device_series.reset_index()\n",
    "sns.factorplot(x='device', y='converted', data=device_converted, hue='price', kind='bar',size=6, aspect=2)\n",
    "plt.show()"
   ]
  },
  {
   "cell_type": "code",
   "execution_count": 66,
   "metadata": {
    "collapsed": false
   },
   "outputs": [
    {
     "data": {
      "text/plain": [
       "price  device\n",
       "39     mobile    120461\n",
       "       web        82211\n",
       "59     mobile     66010\n",
       "       web        48118\n",
       "Name: converted, dtype: int64"
      ]
     },
     "execution_count": 66,
     "metadata": {},
     "output_type": "execute_result"
    }
   ],
   "source": [
    "test_results.groupby(['price', 'device'])['converted'].count()"
   ]
  },
  {
   "cell_type": "code",
   "execution_count": 28,
   "metadata": {
    "collapsed": false
   },
   "outputs": [
    {
     "data": {
      "image/png": "[encoded data removed]",
      "text/plain": [
       "<matplotlib.figure.Figure at 0x1101f1050>"
      ]
     },
     "metadata": {},
     "output_type": "display_data"
    }
   ],
   "source": [
    "os_series = test_results.groupby(['price', 'operative_system'])['converted'].mean()\n",
    "os_converted = os_series.reset_index()\n",
    "sns.factorplot(x='operative_system', y='converted', data=os_converted, hue='price', kind='bar',size=6, aspect=2)\n",
    "plt.show()"
   ]
  },
  {
   "cell_type": "code",
   "execution_count": 67,
   "metadata": {
    "collapsed": false
   },
   "outputs": [
    {
     "data": {
      "text/plain": [
       "price  operative_system\n",
       "39     android             48209\n",
       "       iOS                 61843\n",
       "       linux                2206\n",
       "       mac                 16354\n",
       "       other               10491\n",
       "       windows             63569\n",
       "59     android             26726\n",
       "       iOS                 33622\n",
       "       linux                1929\n",
       "       mac                  8731\n",
       "       other                5713\n",
       "       windows             37407\n",
       "Name: converted, dtype: int64"
      ]
     },
     "execution_count": 67,
     "metadata": {},
     "output_type": "execute_result"
    }
   ],
   "source": [
    "test_results.groupby(['price', 'operative_system'])['converted'].count()"
   ]
  },
  {
   "cell_type": "code",
   "execution_count": null,
   "metadata": {
    "collapsed": true
   },
   "outputs": [],
   "source": []
  }
 ],
 "metadata": {
  "anaconda-cloud": {},
  "kernelspec": {
   "display_name": "Python [conda env:my_insight_env]",
   "language": "python",
   "name": "conda-env-my_insight_env-py"
  },
  "language_info": {
   "codemirror_mode": {
    "name": "ipython",
    "version": 2
   },
   "file_extension": ".py",
   "mimetype": "text/x-python",
   "name": "python",
   "nbconvert_exporter": "python",
   "pygments_lexer": "ipython2",
   "version": "2.7.13"
  }
 },
 "nbformat": 4,
 "nbformat_minor": 1
}
