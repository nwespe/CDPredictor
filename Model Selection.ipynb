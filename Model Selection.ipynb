{
 "cells": [
  {
   "cell_type": "code",
   "execution_count": 1,
   "metadata": {
    "collapsed": false
   },
   "outputs": [
    {
     "name": "stdout",
     "output_type": "stream",
     "text": [
      "Populating the interactive namespace from numpy and matplotlib\n"
     ]
    }
   ],
   "source": [
    "import pandas as pd\n",
    "import itertools\n",
    "import seaborn as sns\n",
    "sns.set_context('poster')\n",
    "sns.set(font_scale=1.2, style='white')\n",
    "\n",
    "%pylab inline\n",
    "%load_ext autoreload\n",
    "%autoreload 2"
   ]
  },
  {
   "cell_type": "code",
   "execution_count": 2,
   "metadata": {
    "collapsed": false
   },
   "outputs": [
    {
     "name": "stderr",
     "output_type": "stream",
     "text": [
      "//anaconda/envs/my_insight_env/lib/python2.7/site-packages/sklearn/cross_validation.py:41: DeprecationWarning: This module was deprecated in version 0.18 in favor of the model_selection module into which all the refactored classes and functions are moved. Also note that the interface of the new CV iterators are different from that of this module. This module will be removed in 0.20.\n",
      "  \"This module will be removed in 0.20.\", DeprecationWarning)\n"
     ]
    }
   ],
   "source": [
    "from application import get_sql_dataset, prepare_dataset, run_model, add_ab_info\n",
    "from sklearn.model_selection import GridSearchCV\n",
    "from sklearn.ensemble import RandomForestClassifier\n",
    "from sklearn.linear_model import LogisticRegressionCV\n",
    "import xgboost as xgb\n",
    "from sklearn.metrics import confusion_matrix\n",
    "from sklearn import metrics"
   ]
  },
  {
   "cell_type": "markdown",
   "metadata": {},
   "source": [
    "Get dataset and prepare it for running through a model"
   ]
  },
  {
   "cell_type": "code",
   "execution_count": 3,
   "metadata": {
    "collapsed": false
   },
   "outputs": [
    {
     "name": "stdout",
     "output_type": "stream",
     "text": [
      "postgresql://nwespe@localhost/mimic\n",
      "Retrieved data from SQL, have outcomes of length: 39429\n",
      "Flag value counts: False    38049\n",
      "True      1380\n",
      "Name: cdiff, dtype: int64\n",
      "Adjusted data values for age, admission time\n",
      "Removed outliers for height and weight\n",
      "Log-transformed values for bands, bilirubin, bun, creatinine, glucose, lactate, inr, and wbc\n",
      "Merged hospital stays within 90 days, now have outcomes: 35268\n",
      "Flag value counts: False    34016\n",
      "True      1252\n",
      "Name: cdiff, dtype: int64\n",
      "Removed young patients, now have outcomes: 32092\n",
      "Flag value counts: False    30840\n",
      "True      1252\n",
      "Name: cdiff, dtype: int64\n",
      "Removed admits for cdiff, now have outcomes: 32000\n",
      "Flag value counts: False    30840\n",
      "True      1160\n",
      "Name: cdiff, dtype: int64\n",
      "Combined features with outcomes, now have data of length: 31331\n",
      "Flag value counts: 0    30189\n",
      "1     1142\n",
      "Name: outcome, dtype: int64\n"
     ]
    }
   ],
   "source": [
    "all_features, cdiff_data, outcomes = get_sql_dataset.main()"
   ]
  },
  {
   "cell_type": "code",
   "execution_count": 39,
   "metadata": {
    "collapsed": false
   },
   "outputs": [
    {
     "name": "stdout",
     "output_type": "stream",
     "text": [
      "Selected features and dropped low-feature rows, now have dataset of length: 31319\n",
      "Flag value counts: 0    30177\n",
      "1     1142\n",
      "Name: outcome, dtype: int64\n",
      "Balanced dataset by undersampling dominant class, now have dataset of length: 2284\n",
      "Flag value counts: 1    1142\n",
      "0    1142\n",
      "Name: outcome, dtype: int64\n"
     ]
    }
   ],
   "source": [
    "x_train, y_train, test_set = prepare_dataset.main(cdiff_data, only_ab=False, \n",
    "                                                  add_ab=True, multioutcome=False)"
   ]
  },
  {
   "cell_type": "code",
   "execution_count": 40,
   "metadata": {
    "collapsed": false
   },
   "outputs": [
    {
     "data": {
      "text/plain": [
       "['aniongap',\n",
       " 'albumin',\n",
       " 'log_bands',\n",
       " 'bicarbonate',\n",
       " 'log_bilirubin',\n",
       " 'log_bun',\n",
       " 'log_creatinine',\n",
       " 'chloride',\n",
       " 'log_glucose',\n",
       " 'hemoglobin',\n",
       " 'log_lactate',\n",
       " 'platelet',\n",
       " 'potassium',\n",
       " 'log_inr',\n",
       " 'sodium',\n",
       " 'log_wbc',\n",
       " 'heartrate_mean',\n",
       " 'sysbp_mean',\n",
       " 'diasbp_mean',\n",
       " 'meanbp_mean',\n",
       " 'resprate_mean',\n",
       " 'tempc_mean',\n",
       " 'spo2_mean_3',\n",
       " 'weight',\n",
       " 'bmi',\n",
       " 'age',\n",
       " 'rescaled_time',\n",
       " 'Aminoglycoside',\n",
       " 'Antifungal',\n",
       " 'Carbapenem',\n",
       " 'Cephalosporin',\n",
       " 'Combination',\n",
       " 'Fluoroquinolone',\n",
       " 'Glycopeptide',\n",
       " 'Lincosamide',\n",
       " 'Macrolide',\n",
       " 'Metronidazole',\n",
       " 'None',\n",
       " 'Other',\n",
       " 'Penicillin BS',\n",
       " 'Sulfonamide',\n",
       " 'gender',\n",
       " 'am_admit',\n",
       " 'admission_type_ELECTIVE',\n",
       " 'admission_type_EMERGENCY',\n",
       " 'admission_location_EMERGENCY ROOM ADMIT',\n",
       " 'admission_location_REFERRAL',\n",
       " 'admission_location_TRANSFER',\n",
       " 'ethnicity_WHITE',\n",
       " 'ethnicity_BLACK',\n",
       " 'insurance_Medicaid',\n",
       " 'insurance_Medicare',\n",
       " 'insurance_Private',\n",
       " 'marital_status_DIVORCED',\n",
       " 'marital_status_MARRIED',\n",
       " 'marital_status_SINGLE',\n",
       " 'marital_status_WIDOWED',\n",
       " 'hadm_id']"
      ]
     },
     "execution_count": 40,
     "metadata": {},
     "output_type": "execute_result"
    }
   ],
   "source": [
    "list(x_train.columns)"
   ]
  },
  {
   "cell_type": "code",
   "execution_count": 41,
   "metadata": {
    "collapsed": true
   },
   "outputs": [],
   "source": [
    "x_vals = x_train.drop(['hadm_id'], axis=1)  #, 'expire'\n",
    "prefix = 'feat_both_1016'\n",
    "#test_set.to_csv('/Users/nwespe/Desktop/test_set_' + prefix + '.csv')"
   ]
  },
  {
   "cell_type": "code",
   "execution_count": 42,
   "metadata": {
    "collapsed": true
   },
   "outputs": [],
   "source": [
    "x_test = test_set.drop(['outcome', 'hadm_id'], axis=1)\n",
    "y_test = test_set['outcome'].copy().reset_index(drop=True)"
   ]
  },
  {
   "cell_type": "code",
   "execution_count": 74,
   "metadata": {
    "collapsed": false
   },
   "outputs": [
    {
     "name": "stdout",
     "output_type": "stream",
     "text": [
      "<a list of 0 Text xticklabel objects>\n"
     ]
    },
    {
     "data": {
      "text/plain": [
       "<matplotlib.figure.Figure at 0x117f93fd0>"
      ]
     },
     "metadata": {},
     "output_type": "display_data"
    },
    {
     "data": {
      "image/png": "[encoded data removed]",
      "text/plain": [
       "<matplotlib.figure.Figure at 0x117f93a50>"
      ]
     },
     "metadata": {},
     "output_type": "display_data"
    }
   ],
   "source": [
    "fig = plt.figure(figsize=(24, 24))\n",
    "g = sns.clustermap(x_vals, cmap='RdBu', xticklabels=1)\n",
    "locs, labels = plt.xticks()\n",
    "print labels"
   ]
  },
  {
   "cell_type": "markdown",
   "metadata": {},
   "source": [
    "# First fit data with logistic regression and random forest"
   ]
  },
  {
   "cell_type": "code",
   "execution_count": 91,
   "metadata": {
    "collapsed": false
   },
   "outputs": [
    {
     "name": "stdout",
     "output_type": "stream",
     "text": [
      "Accuracy: 0.648604269294\n",
      "Classification report: \n",
      "             precision    recall  f1-score   support\n",
      "\n",
      "          0       0.64      0.67      0.66       913\n",
      "          1       0.66      0.62      0.64       914\n",
      "\n",
      "avg / total       0.65      0.65      0.65      1827\n",
      "\n",
      "Confusion matrix results: \n",
      "[[615 298]\n",
      " [344 570]]\n",
      "False positives: 298\n",
      "False negatives: 344\n"
     ]
    },
    {
     "data": {
      "image/png": "[encoded data removed]",
      "text/plain": [
       "<matplotlib.figure.Figure at 0x11948cc10>"
      ]
     },
     "metadata": {},
     "output_type": "display_data"
    }
   ],
   "source": [
    "prefix = 'logistic_both_1015'\n",
    "log_model = run_model.fit_model(x_train, y_train, model='logistic', save=False)\n",
    "run_model.evaluate_model(x_train, y_train, log_model)\n",
    "run_model.plot_roc_curve(log_model, x_train, y_train, save=False, prefix=prefix)"
   ]
  },
  {
   "cell_type": "code",
   "execution_count": null,
   "metadata": {
    "collapsed": false
   },
   "outputs": [],
   "source": [
    "run_model.plot_learning_curve(log_model, x_train, y_train, save=True, prefix=prefix)"
   ]
  },
  {
   "cell_type": "code",
   "execution_count": 35,
   "metadata": {
    "collapsed": false
   },
   "outputs": [
    {
     "data": {
      "text/plain": [
       "Metronidazole              0.386707\n",
       "Glycopeptide               0.265766\n",
       "albumin                    0.248068\n",
       "Fluoroquinolone            0.243800\n",
       "bmi                        0.225062\n",
       "weight                     0.221061\n",
       "aniongap                   0.214059\n",
       "admission_type_ELECTIVE    0.212629\n",
       "sysbp_mean                 0.176048\n",
       "bicarbonate                0.167046\n",
       "Name: 1, dtype: float64"
      ]
     },
     "execution_count": 35,
     "metadata": {},
     "output_type": "execute_result"
    }
   ],
   "source": [
    "coefs = np.around(log_model.coef_, 3)\n",
    "coefs.reshape(-1)\n",
    "std = x_vals.std(axis=0)\n",
    "std_coef_series = pd.Series(np.reshape(np.array(std)*coefs, -1), index=std.index)\n",
    "featimp_df = pd.DataFrame(data=[std, std_coef_series])\n",
    "model_feature_importance = featimp_df.loc[1].abs().sort_values(ascending=False) #\n",
    "model_feature_importance[:10]"
   ]
  },
  {
   "cell_type": "markdown",
   "metadata": {},
   "source": [
    "Use a Random Forest classifier with default settings (n_estimators=10, criterion=’gini’, max_depth=None, min_samples_split=2, min_samples_leaf=1, min_weight_fraction_leaf=0.0, max_features=’auto’, max_leaf_nodes=None, min_impurity_decrease=0.0, min_impurity_split=None, bootstrap=True, oob_score=False, warm_start=False, class_weight=None)"
   ]
  },
  {
   "cell_type": "code",
   "execution_count": 61,
   "metadata": {
    "collapsed": false
   },
   "outputs": [
    {
     "name": "stdout",
     "output_type": "stream",
     "text": [
      "Accuracy: 0.6026272578\n",
      "Classification report: \n",
      "             precision    recall  f1-score   support\n",
      "\n",
      "          0       0.59      0.68      0.63       913\n",
      "          1       0.62      0.52      0.57       914\n",
      "\n",
      "avg / total       0.61      0.60      0.60      1827\n",
      "\n",
      "Confusion matrix results: \n",
      "[[625 288]\n",
      " [438 476]]\n",
      "False positives: 288\n",
      "False negatives: 438\n"
     ]
    },
    {
     "data": {
      "image/png": "[encoded data removed]",
      "text/plain": [
       "<matplotlib.figure.Figure at 0x1185e3910>"
      ]
     },
     "metadata": {},
     "output_type": "display_data"
    }
   ],
   "source": [
    "rf_model = RandomForestClassifier()\n",
    "rf_model.fit(x_vals, y_train)\n",
    "\n",
    "prefix = 'rf_default_both_1015'\n",
    "run_model.evaluate_model(x_train, y_train, rf_model)\n",
    "run_model.plot_roc_curve(rf_model, x_train, y_train, save=False, prefix=prefix)"
   ]
  },
  {
   "cell_type": "markdown",
   "metadata": {},
   "source": [
    "# Use LogisticRegressionCV to optimize regularization"
   ]
  },
  {
   "cell_type": "code",
   "execution_count": 109,
   "metadata": {
    "collapsed": false
   },
   "outputs": [
    {
     "data": {
      "text/plain": [
       "LogisticRegressionCV(Cs=10, class_weight=None, cv=None, dual=False,\n",
       "           fit_intercept=True, intercept_scaling=1.0, max_iter=200,\n",
       "           multi_class='ovr', n_jobs=1, penalty='l2', random_state=42,\n",
       "           refit=True, scoring='roc_auc', solver='saga', tol=0.0001,\n",
       "           verbose=0)"
      ]
     },
     "execution_count": 109,
     "metadata": {},
     "output_type": "execute_result"
    }
   ],
   "source": [
    "# now run model with score = roc_auc\n",
    "logcv = LogisticRegressionCV(solver='saga', penalty='l2', scoring='roc_auc', \n",
    "                             max_iter=200, random_state=42)\n",
    "logcv.fit(x_vals, y_train)"
   ]
  },
  {
   "cell_type": "code",
   "execution_count": 110,
   "metadata": {
    "collapsed": false
   },
   "outputs": [
    {
     "data": {
      "text/plain": [
       "(array([  1.00e-04,   7.74e-04,   5.99e-03,   4.64e-02,   3.59e-01,\n",
       "          2.78e+00,   2.15e+01,   1.67e+02,   1.29e+03,   1.00e+04]),\n",
       " {1: array([[ 0.69,  0.69,  0.69,  0.69,  0.69,  0.69,  0.69,  0.69,  0.69,\n",
       "           0.69],\n",
       "         [ 0.68,  0.69,  0.69,  0.69,  0.69,  0.69,  0.69,  0.69,  0.69,\n",
       "           0.69],\n",
       "         [ 0.7 ,  0.7 ,  0.71,  0.71,  0.71,  0.71,  0.71,  0.71,  0.71,\n",
       "           0.71]])},\n",
       " array([[[ 13,  11,  24,  93, 200, 200, 200, 200, 200, 200],\n",
       "         [ 15,  12,  26,  99, 200, 200, 188,  70,  14,   3],\n",
       "         [ 14,  12,  26,  91, 150, 200, 200, 200, 200, 200]]], dtype=int32),\n",
       " array([ 0.01]))"
      ]
     },
     "execution_count": 110,
     "metadata": {},
     "output_type": "execute_result"
    }
   ],
   "source": [
    "logcv.Cs_, logcv.scores_, logcv.n_iter_, logcv.C_"
   ]
  },
  {
   "cell_type": "code",
   "execution_count": 111,
   "metadata": {
    "collapsed": false
   },
   "outputs": [
    {
     "data": {
      "text/plain": [
       "array([ 0.06, -0.21, -0.04,  0.04, -0.07,  0.1 ,  0.15, -0.03, -0.03,\n",
       "       -0.12, -0.05,  0.04, -0.02,  0.06,  0.02,  0.1 ,  0.18,  0.  ,\n",
       "       -0.03, -0.04,  0.1 ,  0.  , -0.04, -0.08,  0.09,  0.14,  0.02,\n",
       "       -0.05, -0.08, -0.11,  0.11,  0.07, -0.09,  0.02,  0.04,  0.01,\n",
       "        0.01,  0.1 , -0.08, -0.04, -0.03,  0.02,  0.06])"
      ]
     },
     "execution_count": 111,
     "metadata": {},
     "output_type": "execute_result"
    }
   ],
   "source": [
    "logcv.coef_[0]"
   ]
  },
  {
   "cell_type": "code",
   "execution_count": 112,
   "metadata": {
    "collapsed": false
   },
   "outputs": [
    {
     "name": "stdout",
     "output_type": "stream",
     "text": [
      "Accuracy: 0.64258347017\n",
      "Classification report: \n",
      "             precision    recall  f1-score   support\n",
      "\n",
      "          0       0.64      0.64      0.64       913\n",
      "          1       0.64      0.65      0.64       914\n",
      "\n",
      "avg / total       0.64      0.64      0.64      1827\n",
      "\n",
      "Confusion matrix results: \n",
      "[[582 331]\n",
      " [322 592]]\n",
      "False positives: 331\n",
      "False negatives: 322\n"
     ]
    },
    {
     "data": {
      "image/png": "[encoded data removed]",
      "text/plain": [
       "<matplotlib.figure.Figure at 0x1180adfd0>"
      ]
     },
     "metadata": {},
     "output_type": "display_data"
    }
   ],
   "source": [
    "# evaluate model by CV\n",
    "run_model.evaluate_model(x_train, y_train, logcv)\n",
    "run_model.plot_roc_curve(logcv, x_train, y_train)"
   ]
  },
  {
   "cell_type": "code",
   "execution_count": null,
   "metadata": {
    "collapsed": false
   },
   "outputs": [],
   "source": [
    "run_model.plot_learning_curve(logcv, x_train, y_train)"
   ]
  },
  {
   "cell_type": "code",
   "execution_count": 113,
   "metadata": {
    "collapsed": false
   },
   "outputs": [
    {
     "data": {
      "text/plain": [
       "<matplotlib.text.Text at 0x11a792690>"
      ]
     },
     "execution_count": 113,
     "metadata": {},
     "output_type": "execute_result"
    },
    {
     "data": {
      "text/plain": [
       "<matplotlib.figure.Figure at 0x11b2e5bd0>"
      ]
     },
     "metadata": {},
     "output_type": "display_data"
    },
    {
     "data": {
      "image/png": "[encoded data removed]",
      "text/plain": [
       "<matplotlib.figure.Figure at 0x119a53250>"
      ]
     },
     "metadata": {},
     "output_type": "display_data"
    }
   ],
   "source": [
    "log_feature_imps = pd.DataFrame({'Feature': list(x_vals.columns), \n",
    "                             'Importance': logcv.coef_[0], 'Absolute': abs(logcv.coef_[0])})\n",
    "log_feature_imps.sort_values(by='Absolute', ascending=False, inplace=True)\n",
    "log_feature_imps.head(10)\n",
    "\n",
    "\n",
    "plt.figure(figsize=(10, 20))\n",
    "log_feature_imps[:10].plot(kind='barh', x='Feature', y='Importance', color='#38a3d5', legend=False)\n",
    "plt.gca().invert_yaxis()\n",
    "plt.xlabel('Importance')\n",
    "plt.title(\"Top 10 Feature Importances\")\n",
    "#plt.savefig('/Users/nwespe/Desktop/logcv_both_feature_importances.svg', bbox_inches='tight')"
   ]
  },
  {
   "cell_type": "code",
   "execution_count": 114,
   "metadata": {
    "collapsed": false
   },
   "outputs": [
    {
     "data": {
      "text/html": [
       "<div>\n",
       "<style>\n",
       "    .dataframe thead tr:only-child th {\n",
       "        text-align: right;\n",
       "    }\n",
       "\n",
       "    .dataframe thead th {\n",
       "        text-align: left;\n",
       "    }\n",
       "\n",
       "    .dataframe tbody tr th {\n",
       "        vertical-align: top;\n",
       "    }\n",
       "</style>\n",
       "<table border=\"1\" class=\"dataframe\">\n",
       "  <thead>\n",
       "    <tr style=\"text-align: right;\">\n",
       "      <th></th>\n",
       "      <th>Absolute</th>\n",
       "      <th>Feature</th>\n",
       "      <th>Importance</th>\n",
       "    </tr>\n",
       "  </thead>\n",
       "  <tbody>\n",
       "    <tr>\n",
       "      <th>1</th>\n",
       "      <td>0.205630</td>\n",
       "      <td>albumin</td>\n",
       "      <td>-0.205630</td>\n",
       "    </tr>\n",
       "    <tr>\n",
       "      <th>16</th>\n",
       "      <td>0.179892</td>\n",
       "      <td>heartrate_mean</td>\n",
       "      <td>0.179892</td>\n",
       "    </tr>\n",
       "    <tr>\n",
       "      <th>6</th>\n",
       "      <td>0.146534</td>\n",
       "      <td>log_creatinine</td>\n",
       "      <td>0.146534</td>\n",
       "    </tr>\n",
       "    <tr>\n",
       "      <th>25</th>\n",
       "      <td>0.136406</td>\n",
       "      <td>age</td>\n",
       "      <td>0.136406</td>\n",
       "    </tr>\n",
       "    <tr>\n",
       "      <th>9</th>\n",
       "      <td>0.117471</td>\n",
       "      <td>hemoglobin</td>\n",
       "      <td>-0.117471</td>\n",
       "    </tr>\n",
       "    <tr>\n",
       "      <th>29</th>\n",
       "      <td>0.113988</td>\n",
       "      <td>admission_type_ELECTIVE</td>\n",
       "      <td>-0.113988</td>\n",
       "    </tr>\n",
       "    <tr>\n",
       "      <th>30</th>\n",
       "      <td>0.109412</td>\n",
       "      <td>admission_type_EMERGENCY</td>\n",
       "      <td>0.109412</td>\n",
       "    </tr>\n",
       "    <tr>\n",
       "      <th>37</th>\n",
       "      <td>0.104690</td>\n",
       "      <td>insurance_Medicare</td>\n",
       "      <td>0.104690</td>\n",
       "    </tr>\n",
       "    <tr>\n",
       "      <th>15</th>\n",
       "      <td>0.099867</td>\n",
       "      <td>log_wbc</td>\n",
       "      <td>0.099867</td>\n",
       "    </tr>\n",
       "    <tr>\n",
       "      <th>20</th>\n",
       "      <td>0.098683</td>\n",
       "      <td>resprate_mean</td>\n",
       "      <td>0.098683</td>\n",
       "    </tr>\n",
       "  </tbody>\n",
       "</table>\n",
       "</div>"
      ],
      "text/plain": [
       "    Absolute                   Feature  Importance\n",
       "1   0.205630                   albumin   -0.205630\n",
       "16  0.179892            heartrate_mean    0.179892\n",
       "6   0.146534            log_creatinine    0.146534\n",
       "25  0.136406                       age    0.136406\n",
       "9   0.117471                hemoglobin   -0.117471\n",
       "29  0.113988   admission_type_ELECTIVE   -0.113988\n",
       "30  0.109412  admission_type_EMERGENCY    0.109412\n",
       "37  0.104690        insurance_Medicare    0.104690\n",
       "15  0.099867                   log_wbc    0.099867\n",
       "20  0.098683             resprate_mean    0.098683"
      ]
     },
     "execution_count": 114,
     "metadata": {},
     "output_type": "execute_result"
    }
   ],
   "source": [
    "log_feature_imps.head(10)"
   ]
  },
  {
   "cell_type": "code",
   "execution_count": null,
   "metadata": {
    "collapsed": false
   },
   "outputs": [],
   "source": [
    "y_pred = logcv.predict(x_test)\n",
    "class_names = ['No C diff', 'C diff']\n",
    "\n",
    "# function copied from http://scikit-learn.org/stable/auto_examples/model_selection/plot_confusion_matrix.html\n",
    "def plot_confusion_matrix(cm, classes,\n",
    "                          normalize=False,\n",
    "                          title='Confusion matrix',\n",
    "                          cmap=plt.cm.Blues):\n",
    "    \"\"\"\n",
    "    This function prints and plots the confusion matrix.\n",
    "    Normalization can be applied by setting `normalize=True`.\n",
    "    \"\"\"\n",
    "    if normalize:\n",
    "        cm = cm.astype('float') / cm.sum(axis=1)[:, np.newaxis]\n",
    "        print(\"Normalized confusion matrix\")\n",
    "    else:\n",
    "        print('Confusion matrix, without normalization')\n",
    "\n",
    "    print(cm)\n",
    "\n",
    "    plt.imshow(cm, interpolation='nearest', cmap=cmap)\n",
    "    plt.title(title)\n",
    "    plt.colorbar()\n",
    "    tick_marks = np.arange(len(classes))\n",
    "    plt.xticks(tick_marks, classes)\n",
    "    plt.yticks(tick_marks, classes)\n",
    "\n",
    "    fmt = '.2f' if normalize else 'd'\n",
    "    thresh = 0.5\n",
    "    for i, j in itertools.product(range(cm.shape[0]), range(cm.shape[1])):\n",
    "        plt.text(j, i, format(cm[i, j], fmt),\n",
    "                 horizontalalignment=\"center\",\n",
    "                 color=\"white\" if cm[i, j] > thresh else \"black\")\n",
    "\n",
    "    plt.tight_layout()\n",
    "    plt.ylabel('True label')\n",
    "    plt.xlabel('Predicted label')\n",
    "    \n",
    "cnf_matrix = confusion_matrix(y_test, y_pred)\n",
    "np.set_printoptions(precision=2)\n",
    "plt.figure(figsize=(8, 8))\n",
    "plot_confusion_matrix(cnf_matrix, classes=class_names, normalize=True,\n",
    "                      title='Normalized confusion matrix')\n",
    "plt.savefig('/Users/nwespe/Desktop/log_both_confusion_matrix.svg', bbox_inches='tight')"
   ]
  },
  {
   "cell_type": "code",
   "execution_count": 116,
   "metadata": {
    "collapsed": false
   },
   "outputs": [
    {
     "name": "stdout",
     "output_type": "stream",
     "text": [
      "Accuracy: 0.64989059081\n",
      "Classification report: \n",
      "             precision    recall  f1-score   support\n",
      "\n",
      "          0       0.65      0.64      0.65       229\n",
      "          1       0.65      0.66      0.65       228\n",
      "\n",
      "avg / total       0.65      0.65      0.65       457\n",
      "\n"
     ]
    },
    {
     "data": {
      "text/plain": [
       "<matplotlib.legend.Legend at 0x11b2e50d0>"
      ]
     },
     "execution_count": 116,
     "metadata": {},
     "output_type": "execute_result"
    },
    {
     "data": {
      "image/png": "[encoded data removed]",
      "text/plain": [
       "<matplotlib.figure.Figure at 0x11a76c910>"
      ]
     },
     "metadata": {},
     "output_type": "display_data"
    }
   ],
   "source": [
    "# evaluate model on test set\n",
    "predictions = logcv.predict(x_test)\n",
    "print 'Accuracy: ' + str(metrics.accuracy_score(y_test, predictions))\n",
    "print 'Classification report: \\n' + str(metrics.classification_report(y_test, predictions))\n",
    "mat = metrics.confusion_matrix(y_test, predictions)\n",
    "\n",
    "preds = logcv.predict_proba(x_test)[:, 1]\n",
    "fpr, tpr, _ = metrics.roc_curve(y_test, preds)\n",
    "roc_auc = metrics.auc(fpr, tpr)\n",
    "\n",
    "plt.plot(fpr, tpr, color='blue', label='ROC curve (AUC = %0.2f)' % roc_auc)\n",
    "\n",
    "plt.plot([0, 1], [0, 1], color='k', linestyle='--')\n",
    "plt.xlim([-0.05, 1.0])\n",
    "plt.ylim([0.0, 1.05])\n",
    "plt.xlabel('False Positive Rate')\n",
    "plt.ylabel('True Positive Rate')\n",
    "plt.title('Receiver Operating Characteristic Curve')\n",
    "plt.legend(loc=\"lower right\")"
   ]
  },
  {
   "cell_type": "markdown",
   "metadata": {},
   "source": [
    "# Use GridSearchCV to optimize random forest"
   ]
  },
  {
   "cell_type": "code",
   "execution_count": 9,
   "metadata": {
    "collapsed": false
   },
   "outputs": [
    {
     "data": {
      "text/plain": [
       "{'max_depth': 10, 'min_samples_leaf': 10, 'n_estimators': 250}"
      ]
     },
     "execution_count": 9,
     "metadata": {},
     "output_type": "execute_result"
    }
   ],
   "source": [
    "n_features = x_vals.shape[1]\n",
    "clf = RandomForestClassifier(random_state=42, n_jobs=-1)\n",
    "param_grid = {\"n_estimators\": [250],  #50, 100, 500\n",
    "              #'max_features': ['sqrt', 0.5],\n",
    "              \"max_depth\": [4, 10, 20],\n",
    "              \"min_samples_leaf\": [1, 3, 10]\n",
    "             }\n",
    "\n",
    "search = GridSearchCV(estimator=clf, param_grid=param_grid, scoring='roc_auc', cv=5)\n",
    "search.fit(x_vals, y_train)\n",
    "search.best_params_"
   ]
  },
  {
   "cell_type": "code",
   "execution_count": 10,
   "metadata": {
    "collapsed": false
   },
   "outputs": [
    {
     "data": {
      "text/html": [
       "<div>\n",
       "<style>\n",
       "    .dataframe thead tr:only-child th {\n",
       "        text-align: right;\n",
       "    }\n",
       "\n",
       "    .dataframe thead th {\n",
       "        text-align: left;\n",
       "    }\n",
       "\n",
       "    .dataframe tbody tr th {\n",
       "        vertical-align: top;\n",
       "    }\n",
       "</style>\n",
       "<table border=\"1\" class=\"dataframe\">\n",
       "  <thead>\n",
       "    <tr style=\"text-align: right;\">\n",
       "      <th></th>\n",
       "      <th>mean_fit_time</th>\n",
       "      <th>mean_score_time</th>\n",
       "      <th>mean_test_score</th>\n",
       "      <th>mean_train_score</th>\n",
       "      <th>param_max_depth</th>\n",
       "      <th>param_min_samples_leaf</th>\n",
       "      <th>param_n_estimators</th>\n",
       "      <th>params</th>\n",
       "      <th>rank_test_score</th>\n",
       "      <th>split0_test_score</th>\n",
       "      <th>...</th>\n",
       "      <th>split2_test_score</th>\n",
       "      <th>split2_train_score</th>\n",
       "      <th>split3_test_score</th>\n",
       "      <th>split3_train_score</th>\n",
       "      <th>split4_test_score</th>\n",
       "      <th>split4_train_score</th>\n",
       "      <th>std_fit_time</th>\n",
       "      <th>std_score_time</th>\n",
       "      <th>std_test_score</th>\n",
       "      <th>std_train_score</th>\n",
       "    </tr>\n",
       "  </thead>\n",
       "  <tbody>\n",
       "    <tr>\n",
       "      <th>5</th>\n",
       "      <td>0.951965</td>\n",
       "      <td>0.116277</td>\n",
       "      <td>0.711143</td>\n",
       "      <td>0.941267</td>\n",
       "      <td>10</td>\n",
       "      <td>10</td>\n",
       "      <td>250</td>\n",
       "      <td>{u'n_estimators': 250, u'max_depth': 10, u'min...</td>\n",
       "      <td>1</td>\n",
       "      <td>0.744483</td>\n",
       "      <td>...</td>\n",
       "      <td>0.667234</td>\n",
       "      <td>0.939258</td>\n",
       "      <td>0.736264</td>\n",
       "      <td>0.942116</td>\n",
       "      <td>0.712927</td>\n",
       "      <td>0.939638</td>\n",
       "      <td>0.008654</td>\n",
       "      <td>0.002955</td>\n",
       "      <td>0.028082</td>\n",
       "      <td>0.001693</td>\n",
       "    </tr>\n",
       "    <tr>\n",
       "      <th>1</th>\n",
       "      <td>0.874222</td>\n",
       "      <td>0.133561</td>\n",
       "      <td>0.709880</td>\n",
       "      <td>0.816626</td>\n",
       "      <td>4</td>\n",
       "      <td>3</td>\n",
       "      <td>250</td>\n",
       "      <td>{u'n_estimators': 250, u'max_depth': 4, u'min_...</td>\n",
       "      <td>2</td>\n",
       "      <td>0.743289</td>\n",
       "      <td>...</td>\n",
       "      <td>0.667294</td>\n",
       "      <td>0.817025</td>\n",
       "      <td>0.725605</td>\n",
       "      <td>0.813209</td>\n",
       "      <td>0.717788</td>\n",
       "      <td>0.817813</td>\n",
       "      <td>0.017248</td>\n",
       "      <td>0.014418</td>\n",
       "      <td>0.026270</td>\n",
       "      <td>0.005296</td>\n",
       "    </tr>\n",
       "    <tr>\n",
       "      <th>8</th>\n",
       "      <td>0.976039</td>\n",
       "      <td>0.118771</td>\n",
       "      <td>0.709539</td>\n",
       "      <td>0.950250</td>\n",
       "      <td>20</td>\n",
       "      <td>10</td>\n",
       "      <td>250</td>\n",
       "      <td>{u'n_estimators': 250, u'max_depth': 20, u'min...</td>\n",
       "      <td>3</td>\n",
       "      <td>0.742990</td>\n",
       "      <td>...</td>\n",
       "      <td>0.661949</td>\n",
       "      <td>0.948294</td>\n",
       "      <td>0.733652</td>\n",
       "      <td>0.951490</td>\n",
       "      <td>0.713863</td>\n",
       "      <td>0.948315</td>\n",
       "      <td>0.018376</td>\n",
       "      <td>0.006247</td>\n",
       "      <td>0.028951</td>\n",
       "      <td>0.001606</td>\n",
       "    </tr>\n",
       "    <tr>\n",
       "      <th>7</th>\n",
       "      <td>0.941234</td>\n",
       "      <td>0.122362</td>\n",
       "      <td>0.709228</td>\n",
       "      <td>0.999804</td>\n",
       "      <td>20</td>\n",
       "      <td>3</td>\n",
       "      <td>250</td>\n",
       "      <td>{u'n_estimators': 250, u'max_depth': 20, u'min...</td>\n",
       "      <td>4</td>\n",
       "      <td>0.747798</td>\n",
       "      <td>...</td>\n",
       "      <td>0.665084</td>\n",
       "      <td>0.999631</td>\n",
       "      <td>0.738516</td>\n",
       "      <td>0.999749</td>\n",
       "      <td>0.705501</td>\n",
       "      <td>0.999826</td>\n",
       "      <td>0.013443</td>\n",
       "      <td>0.010680</td>\n",
       "      <td>0.030693</td>\n",
       "      <td>0.000107</td>\n",
       "    </tr>\n",
       "    <tr>\n",
       "      <th>2</th>\n",
       "      <td>0.849690</td>\n",
       "      <td>0.138058</td>\n",
       "      <td>0.709071</td>\n",
       "      <td>0.805243</td>\n",
       "      <td>4</td>\n",
       "      <td>10</td>\n",
       "      <td>250</td>\n",
       "      <td>{u'n_estimators': 250, u'max_depth': 4, u'min_...</td>\n",
       "      <td>5</td>\n",
       "      <td>0.741318</td>\n",
       "      <td>...</td>\n",
       "      <td>0.666637</td>\n",
       "      <td>0.806892</td>\n",
       "      <td>0.725245</td>\n",
       "      <td>0.800973</td>\n",
       "      <td>0.716610</td>\n",
       "      <td>0.806757</td>\n",
       "      <td>0.024011</td>\n",
       "      <td>0.008645</td>\n",
       "      <td>0.025861</td>\n",
       "      <td>0.005623</td>\n",
       "    </tr>\n",
       "  </tbody>\n",
       "</table>\n",
       "<p>5 rows × 23 columns</p>\n",
       "</div>"
      ],
      "text/plain": [
       "   mean_fit_time  mean_score_time  mean_test_score  mean_train_score  \\\n",
       "5       0.951965         0.116277         0.711143          0.941267   \n",
       "1       0.874222         0.133561         0.709880          0.816626   \n",
       "8       0.976039         0.118771         0.709539          0.950250   \n",
       "7       0.941234         0.122362         0.709228          0.999804   \n",
       "2       0.849690         0.138058         0.709071          0.805243   \n",
       "\n",
       "  param_max_depth param_min_samples_leaf param_n_estimators  \\\n",
       "5              10                     10                250   \n",
       "1               4                      3                250   \n",
       "8              20                     10                250   \n",
       "7              20                      3                250   \n",
       "2               4                     10                250   \n",
       "\n",
       "                                              params  rank_test_score  \\\n",
       "5  {u'n_estimators': 250, u'max_depth': 10, u'min...                1   \n",
       "1  {u'n_estimators': 250, u'max_depth': 4, u'min_...                2   \n",
       "8  {u'n_estimators': 250, u'max_depth': 20, u'min...                3   \n",
       "7  {u'n_estimators': 250, u'max_depth': 20, u'min...                4   \n",
       "2  {u'n_estimators': 250, u'max_depth': 4, u'min_...                5   \n",
       "\n",
       "   split0_test_score       ...         split2_test_score  split2_train_score  \\\n",
       "5           0.744483       ...                  0.667234            0.939258   \n",
       "1           0.743289       ...                  0.667294            0.817025   \n",
       "8           0.742990       ...                  0.661949            0.948294   \n",
       "7           0.747798       ...                  0.665084            0.999631   \n",
       "2           0.741318       ...                  0.666637            0.806892   \n",
       "\n",
       "   split3_test_score  split3_train_score  split4_test_score  \\\n",
       "5           0.736264            0.942116           0.712927   \n",
       "1           0.725605            0.813209           0.717788   \n",
       "8           0.733652            0.951490           0.713863   \n",
       "7           0.738516            0.999749           0.705501   \n",
       "2           0.725245            0.800973           0.716610   \n",
       "\n",
       "   split4_train_score  std_fit_time  std_score_time  std_test_score  \\\n",
       "5            0.939638      0.008654        0.002955        0.028082   \n",
       "1            0.817813      0.017248        0.014418        0.026270   \n",
       "8            0.948315      0.018376        0.006247        0.028951   \n",
       "7            0.999826      0.013443        0.010680        0.030693   \n",
       "2            0.806757      0.024011        0.008645        0.025861   \n",
       "\n",
       "   std_train_score  \n",
       "5         0.001693  \n",
       "1         0.005296  \n",
       "8         0.001606  \n",
       "7         0.000107  \n",
       "2         0.005623  \n",
       "\n",
       "[5 rows x 23 columns]"
      ]
     },
     "execution_count": 10,
     "metadata": {},
     "output_type": "execute_result"
    }
   ],
   "source": [
    "search_results = pd.DataFrame(search.cv_results_)\n",
    "search_results.sort_values('rank_test_score')[:5]"
   ]
  },
  {
   "cell_type": "markdown",
   "metadata": {},
   "source": [
    "Run and evaluate the optimized RF model"
   ]
  },
  {
   "cell_type": "code",
   "execution_count": 125,
   "metadata": {
    "collapsed": false
   },
   "outputs": [
    {
     "data": {
      "text/plain": [
       "Index([u'aniongap', u'albumin', u'log_bands', u'bicarbonate', u'log_bilirubin',\n",
       "       u'log_bun', u'log_creatinine', u'chloride', u'log_glucose',\n",
       "       u'hemoglobin', u'log_lactate', u'platelet', u'potassium', u'log_inr',\n",
       "       u'sodium', u'log_wbc', u'heartrate_mean', u'sysbp_mean', u'diasbp_mean',\n",
       "       u'meanbp_mean', u'resprate_mean', u'tempc_mean', u'spo2_mean_3',\n",
       "       u'weight', u'bmi', u'age', u'rescaled_time', u'Aminoglycoside',\n",
       "       u'Antifungal', u'Carbapenem', u'Cephalosporin', u'Combination',\n",
       "       u'Fluoroquinolone', u'Glycopeptide', u'Lincosamide', u'Macrolide',\n",
       "       u'Metronidazole', u'None', u'Other', u'Penicillin BS', u'Sulfonamide',\n",
       "       u'gender', u'am_admit', u'admission_type_ELECTIVE',\n",
       "       u'admission_type_EMERGENCY', u'admission_location_EMERGENCY ROOM ADMIT',\n",
       "       u'admission_location_REFERRAL', u'admission_location_TRANSFER',\n",
       "       u'ethnicity_WHITE', u'ethnicity_BLACK', u'insurance_Medicaid',\n",
       "       u'insurance_Medicare', u'insurance_Private', u'marital_status_DIVORCED',\n",
       "       u'marital_status_MARRIED', u'marital_status_SINGLE',\n",
       "       u'marital_status_WIDOWED', u'hadm_id'],\n",
       "      dtype='object')"
      ]
     },
     "execution_count": 125,
     "metadata": {},
     "output_type": "execute_result"
    }
   ],
   "source": [
    "x_train.columns"
   ]
  },
  {
   "cell_type": "code",
   "execution_count": 44,
   "metadata": {
    "collapsed": false
   },
   "outputs": [
    {
     "name": "stdout",
     "output_type": "stream",
     "text": [
      "Accuracy: 0.63601532567\n",
      "Classification report: \n",
      "             precision    recall  f1-score   support\n",
      "\n",
      "          0       0.64      0.62      0.63       913\n",
      "          1       0.63      0.65      0.64       914\n",
      "\n",
      "avg / total       0.64      0.64      0.64      1827\n",
      "\n",
      "Confusion matrix results: \n",
      "[[567 346]\n",
      " [319 595]]\n",
      "False positives: 346\n",
      "False negatives: 319\n"
     ]
    },
    {
     "data": {
      "image/png": "[encoded data removed]",
      "text/plain": [
       "<matplotlib.figure.Figure at 0x1139c0210>"
      ]
     },
     "metadata": {},
     "output_type": "display_data"
    }
   ],
   "source": [
    "# evaluate model by CV\n",
    "prefix = 'rf_opt_1016'\n",
    "rf_opt = run_model.fit_model(x_train, y_train, model='rf', save=False, prefix=prefix)\n",
    "run_model.evaluate_model(x_train, y_train, rf_opt)\n",
    "run_model.plot_roc_curve(rf_opt, x_train, y_train, save=False, prefix=prefix)"
   ]
  },
  {
   "cell_type": "code",
   "execution_count": 45,
   "metadata": {
    "collapsed": false
   },
   "outputs": [
    {
     "data": {
      "text/plain": [
       "<matplotlib.text.Text at 0x1147d7110>"
      ]
     },
     "execution_count": 45,
     "metadata": {},
     "output_type": "execute_result"
    },
    {
     "data": {
      "text/plain": [
       "<matplotlib.figure.Figure at 0x1145bbe90>"
      ]
     },
     "metadata": {},
     "output_type": "display_data"
    },
    {
     "data": {
      "image/png": "[encoded data removed]",
      "text/plain": [
       "<matplotlib.figure.Figure at 0x1145bb7d0>"
      ]
     },
     "metadata": {},
     "output_type": "display_data"
    }
   ],
   "source": [
    "feature_imps = pd.DataFrame({'Feature': list(x_vals.columns), \n",
    "                             'Importance': rf_opt.feature_importances_,\n",
    "                             'Std': np.std([tree.feature_importances_ for tree in rf_opt.estimators_], axis=0)})\n",
    "feature_imps.sort_values(by='Importance', ascending=False, inplace=True)\n",
    "feature_imps.head()\n",
    "\n",
    "plt.figure(figsize=(10, 20))\n",
    "feature_imps[:10].plot(kind='barh', x='Feature', y='Importance', color='#38a3d5', legend=False) # , xerr='Std'\n",
    "plt.gca().invert_yaxis()\n",
    "plt.xlabel('Importance')\n",
    "plt.title(\"Top 10 Feature Importances\")\n",
    "#plt.savefig('/Users/nwespe/Desktop/rf_both_nostd_feature_importances.svg', bbox_inches='tight')"
   ]
  },
  {
   "cell_type": "code",
   "execution_count": 47,
   "metadata": {
    "collapsed": false
   },
   "outputs": [
    {
     "name": "stdout",
     "output_type": "stream",
     "text": [
      "Accuracy: 0.689277899344\n",
      "Classification report: \n",
      "             precision    recall  f1-score   support\n",
      "\n",
      "          0       0.68      0.71      0.70       229\n",
      "          1       0.70      0.67      0.68       228\n",
      "\n",
      "avg / total       0.69      0.69      0.69       457\n",
      "\n"
     ]
    },
    {
     "data": {
      "text/plain": [
       "(0.0, 1.0)"
      ]
     },
     "execution_count": 47,
     "metadata": {},
     "output_type": "execute_result"
    },
    {
     "data": {
      "image/png": "[encoded data removed]",
      "text/plain": [
       "<matplotlib.figure.Figure at 0x1146405d0>"
      ]
     },
     "metadata": {},
     "output_type": "display_data"
    }
   ],
   "source": [
    "# evaluate model on test set\n",
    "predictions = rf_opt.predict(x_test)\n",
    "print 'Accuracy: ' + str(metrics.accuracy_score(y_test, predictions))\n",
    "print 'Classification report: \\n' + str(metrics.classification_report(y_test, predictions))\n",
    "mat = metrics.confusion_matrix(y_test, predictions)\n",
    "\n",
    "preds = rf_opt.predict_proba(x_test)[:, 1]\n",
    "fpr, tpr, thresholds = metrics.roc_curve(y_test, preds)\n",
    "roc_auc = metrics.auc(fpr, tpr)\n",
    "\n",
    "plt.figure(figsize=(5, 5))\n",
    "plt.plot(fpr, tpr, color='blue', label='ROC curve (AUC = %0.2f)' % roc_auc)\n",
    "\n",
    "plt.plot([0, 1], [0, 1], color='k', linestyle='--')\n",
    "plt.xlim([0, 1.0])\n",
    "plt.ylim([0.0, 1.0])\n",
    "plt.xlabel('False Positive Rate')\n",
    "plt.ylabel('True Positive Rate')\n",
    "plt.title('Receiver Operating Characteristic Curve')\n",
    "plt.legend(loc=\"lower right\")\n",
    "\n",
    "ax2 = plt.gca().twinx()\n",
    "ax2.plot(fpr, thresholds, markeredgecolor='r', linestyle='dashed', color='r', label='Threshold')\n",
    "ax2.set_ylabel('Threshold')\n",
    "#ax2.set_ylim([thresholds[-1], thresholds[0]])\n",
    "ax2.set_xlim([fpr[0], fpr[-1]])\n",
    "\n",
    "\n",
    "#plt.savefig('/Users/nwespe/Desktop/rf_opt_test_thresh_roc_curve.svg', bbox_inches='tight')"
   ]
  },
  {
   "cell_type": "code",
   "execution_count": 14,
   "metadata": {
    "collapsed": false
   },
   "outputs": [
    {
     "name": "stdout",
     "output_type": "stream",
     "text": [
      "Normalized confusion matrix\n",
      "[[ 0.69  0.31]\n",
      " [ 0.33  0.67]]\n"
     ]
    },
    {
     "data": {
      "image/png": "[encoded data removed]",
      "text/plain": [
       "<matplotlib.figure.Figure at 0x11359ac10>"
      ]
     },
     "metadata": {},
     "output_type": "display_data"
    }
   ],
   "source": [
    "y_pred = rf_opt.predict(x_test)\n",
    "class_names = ['No C diff', 'C diff']\n",
    "\n",
    "# function copied from http://scikit-learn.org/stable/auto_examples/model_selection/plot_confusion_matrix.html\n",
    "def plot_confusion_matrix(cm, classes,\n",
    "                          normalize=False,\n",
    "                          title='Confusion matrix',\n",
    "                          cmap=plt.cm.Blues):\n",
    "    \"\"\"\n",
    "    This function prints and plots the confusion matrix.\n",
    "    Normalization can be applied by setting `normalize=True`.\n",
    "    \"\"\"\n",
    "    if normalize:\n",
    "        cm = cm.astype('float') / cm.sum(axis=1)[:, np.newaxis]\n",
    "        print(\"Normalized confusion matrix\")\n",
    "    else:\n",
    "        print('Confusion matrix, without normalization')\n",
    "\n",
    "    print(cm)\n",
    "\n",
    "    plt.imshow(cm, interpolation='nearest', cmap=cmap)\n",
    "    plt.title(title)\n",
    "    plt.colorbar()\n",
    "    tick_marks = np.arange(len(classes))\n",
    "    plt.xticks(tick_marks, classes)\n",
    "    plt.yticks(tick_marks, classes)\n",
    "\n",
    "    fmt = '.2f' if normalize else 'd'\n",
    "    thresh = 0.5\n",
    "    for i, j in itertools.product(range(cm.shape[0]), range(cm.shape[1])):\n",
    "        plt.text(j, i, format(cm[i, j], fmt),\n",
    "                 horizontalalignment=\"center\",\n",
    "                 color=\"white\" if cm[i, j] > thresh else \"black\")\n",
    "\n",
    "    plt.tight_layout()\n",
    "    plt.ylabel('True label')\n",
    "    plt.xlabel('Predicted label')\n",
    "    \n",
    "cnf_matrix = confusion_matrix(y_test, y_pred)\n",
    "np.set_printoptions(precision=2)\n",
    "plt.figure(figsize=(8, 8))\n",
    "plot_confusion_matrix(cnf_matrix, classes=class_names, normalize=True,\n",
    "                      title='Normalized confusion matrix')\n",
    "plt.savefig('/Users/nwespe/Desktop/rf_both_confusion_matrix.svg', bbox_inches='tight')"
   ]
  },
  {
   "cell_type": "code",
   "execution_count": 15,
   "metadata": {
    "collapsed": false
   },
   "outputs": [
    {
     "data": {
      "text/html": [
       "<div>\n",
       "<style>\n",
       "    .dataframe thead tr:only-child th {\n",
       "        text-align: right;\n",
       "    }\n",
       "\n",
       "    .dataframe thead th {\n",
       "        text-align: left;\n",
       "    }\n",
       "\n",
       "    .dataframe tbody tr th {\n",
       "        vertical-align: top;\n",
       "    }\n",
       "</style>\n",
       "<table border=\"1\" class=\"dataframe\">\n",
       "  <thead>\n",
       "    <tr style=\"text-align: right;\">\n",
       "      <th></th>\n",
       "      <th>importance</th>\n",
       "      <th>name</th>\n",
       "    </tr>\n",
       "  </thead>\n",
       "  <tbody>\n",
       "    <tr>\n",
       "      <th>5</th>\n",
       "      <td>0.057950</td>\n",
       "      <td>log_bun</td>\n",
       "    </tr>\n",
       "    <tr>\n",
       "      <th>36</th>\n",
       "      <td>0.055621</td>\n",
       "      <td>Metronidazole</td>\n",
       "    </tr>\n",
       "    <tr>\n",
       "      <th>1</th>\n",
       "      <td>0.047577</td>\n",
       "      <td>albumin</td>\n",
       "    </tr>\n",
       "    <tr>\n",
       "      <th>25</th>\n",
       "      <td>0.047312</td>\n",
       "      <td>age</td>\n",
       "    </tr>\n",
       "    <tr>\n",
       "      <th>9</th>\n",
       "      <td>0.046241</td>\n",
       "      <td>hemoglobin</td>\n",
       "    </tr>\n",
       "    <tr>\n",
       "      <th>15</th>\n",
       "      <td>0.042498</td>\n",
       "      <td>log_wbc</td>\n",
       "    </tr>\n",
       "    <tr>\n",
       "      <th>33</th>\n",
       "      <td>0.040647</td>\n",
       "      <td>Glycopeptide</td>\n",
       "    </tr>\n",
       "    <tr>\n",
       "      <th>16</th>\n",
       "      <td>0.037781</td>\n",
       "      <td>heartrate_mean</td>\n",
       "    </tr>\n",
       "    <tr>\n",
       "      <th>23</th>\n",
       "      <td>0.037007</td>\n",
       "      <td>weight</td>\n",
       "    </tr>\n",
       "    <tr>\n",
       "      <th>6</th>\n",
       "      <td>0.036093</td>\n",
       "      <td>log_creatinine</td>\n",
       "    </tr>\n",
       "  </tbody>\n",
       "</table>\n",
       "</div>"
      ],
      "text/plain": [
       "    importance            name\n",
       "5     0.057950         log_bun\n",
       "36    0.055621   Metronidazole\n",
       "1     0.047577         albumin\n",
       "25    0.047312             age\n",
       "9     0.046241      hemoglobin\n",
       "15    0.042498         log_wbc\n",
       "33    0.040647    Glycopeptide\n",
       "16    0.037781  heartrate_mean\n",
       "23    0.037007          weight\n",
       "6     0.036093  log_creatinine"
      ]
     },
     "execution_count": 15,
     "metadata": {},
     "output_type": "execute_result"
    }
   ],
   "source": [
    "feature_imps = pd.DataFrame({'name': list(x_vals.columns), 'importance': rf_opt.feature_importances_})\n",
    "feature_imps.sort_values('importance', ascending=False)[:10]"
   ]
  },
  {
   "cell_type": "code",
   "execution_count": null,
   "metadata": {
    "collapsed": true
   },
   "outputs": [],
   "source": [
    "cal_model = CalibratedClassifierCV(base_estimator=rf_opt, cv='prefit')"
   ]
  },
  {
   "cell_type": "code",
   "execution_count": null,
   "metadata": {
    "collapsed": false
   },
   "outputs": [],
   "source": [
    "# check probabilities and calibrate\n",
    "from sklearn.calibration import CalibratedClassifierCV, calibration_curve\n",
    "\n",
    "x_test = test_set.drop(['outcome', 'hadm_id'], axis=1)\n",
    "y_test = test_set['outcome'].copy().reset_index(drop=True)\n",
    "\n",
    "y_pred = rf_opt.predict(x_test)\n",
    "prob_pos = rf_opt.predict_proba(x_test)[:, 1]\n",
    "\n",
    "cal_model = CalibratedClassifierCV(base_estimator=rf_opt, cv='prefit')\n",
    "y_pred2 = cal_model.predict(x_test)\n",
    "prob_pos2 = cal_model.predict_proba(x_test)[:, 1]\n",
    "\n",
    "fig = plt.figure(1, figsize=(10, 10))\n",
    "ax1 = plt.subplot2grid((3, 1), (0, 0), rowspan=2)\n",
    "\n",
    "ax1.plot([0, 1], [0, 1], \"k:\", label=\"Perfectly calibrated\")\n",
    "fraction_of_positives, mean_predicted_value = \\\n",
    "            calibration_curve(y_test, prob_pos, n_bins=11)\n",
    "ax1.plot(mean_predicted_value, fraction_of_positives, \"s-\")"
   ]
  },
  {
   "cell_type": "code",
   "execution_count": 105,
   "metadata": {
    "collapsed": false
   },
   "outputs": [
    {
     "data": {
      "image/png": "[encoded data removed]",
      "text/plain": [
       "<matplotlib.figure.Figure at 0x118d64910>"
      ]
     },
     "metadata": {},
     "output_type": "display_data"
    }
   ],
   "source": [
    "run_model.plot_probas(rf_opt, x_test, y_test)"
   ]
  },
  {
   "cell_type": "code",
   "execution_count": null,
   "metadata": {
    "collapsed": false
   },
   "outputs": [],
   "source": [
    "curr_model = rf_opt\n",
    "X = x_test\n",
    "y = y_test\n",
    "probs = curr_model.predict_proba(X)\n",
    "preds = curr_model.predict(X)\n",
    "prob_df = pd.DataFrame(y)\n",
    "prob_df['prob_0'] = probs[:,0]\n",
    "prob_df['prob_1'] = probs[:,1]\n",
    "prob_df['predict'] = preds\n",
    "prob_df = prob_df.join([id_col, X])\n",
    "\n",
    "true_pos = prob_df[(prob_df.outcome == 1) & (prob_df.predict == 1)]\n",
    "true_neg = prob_df[(prob_df.outcome == 0) & (prob_df.predict == 0)]\n",
    "false_pos = prob_df[(prob_df.outcome == 0) & (prob_df.predict == 1)]\n",
    "false_neg = prob_df[(prob_df.outcome == 1) & (prob_df.predict == 0)]\n",
    "\n",
    "bins = np.linspace(0, 1, 20)\n",
    "fix, ax = plt.subplots(1, 2, figsize=(8, 4))\n",
    "ax[0].hist(list(true_pos.prob_1.values), color='#34A5DA', alpha=1, bins=bins)\n",
    "ax[0].hist(list(false_neg.prob_1.values), color='#F96928', alpha=1, bins=bins)\n",
    "ax[1].hist(list(false_pos.prob_1.values), color='#F96928', alpha=1, bins=bins)\n",
    "ax[1].hist(list(true_neg.prob_1.values), color='#34A5DA', alpha=1, bins=bins)\n",
    "\n",
    "#plt.savefig('/Users/nwespe/Desktop/' + prefix + '_train_probas.svg', bbox_inches='tight')"
   ]
  },
  {
   "cell_type": "markdown",
   "metadata": {},
   "source": [
    "# Now try XGBoost"
   ]
  },
  {
   "cell_type": "code",
   "execution_count": null,
   "metadata": {
    "collapsed": false
   },
   "outputs": [],
   "source": [
    "# test XGBoost with params from Random Forest\n",
    "params = {'objective':'binary:logistic', 'n_estimators':500, 'max_depth': 10, 'seed': 42}\n",
    "xgb_clf = xgb.XGBClassifier(**params)\n",
    "xgb_clf.fit(x_vals, y_train)\n",
    "\n",
    "prefix = 'xgb'\n",
    "run_model.evaluate_model(x_train, y_train, xgb_clf)\n",
    "run_model.plot_roc_curve(xgb_clf, x_train, y_train, save=True, prefix=prefix)"
   ]
  },
  {
   "cell_type": "code",
   "execution_count": null,
   "metadata": {
    "collapsed": false
   },
   "outputs": [],
   "source": [
    "# Optimize estimator number\n",
    "xgdmat = xgb.DMatrix(x_train, y_train) # Create a DMatrix to make XGBoost more efficient\n",
    "ind_params = {'eta': 0.06, 'seed': 42, 'objective': 'binary:logistic'}  # 'subsample': 0.8, 'colsample_bytree': 0.8, 'eta': 0.1,  \n",
    "\n",
    "cv_xgb = xgb.cv(params = ind_params, dtrain = xgdmat, num_boost_round = 2000, nfold = 5,\n",
    "                metrics = ['error'], # Make sure you enter metrics inside a list or you may encounter issues!\n",
    "                early_stopping_rounds = 100) # Look for early stopping that minimizes error"
   ]
  },
  {
   "cell_type": "code",
   "execution_count": null,
   "metadata": {
    "collapsed": false
   },
   "outputs": [],
   "source": [
    "cv_xgb.tail(5)"
   ]
  },
  {
   "cell_type": "code",
   "execution_count": null,
   "metadata": {
    "collapsed": false
   },
   "outputs": [],
   "source": [
    "ind_params = {'learning_rate': 0.06, 'seed': 42, 'objective': 'binary:logistic', 'n_estimators': 100}\n",
    "cv_params = {'max_depth': [6],\n",
    "             'min_child_weight': [1]\n",
    "            }\n",
    "\n",
    "xgb_opt = GridSearchCV(xgb.XGBClassifier(**ind_params), cv_params, scoring='recall', cv=5, n_jobs=-1) \n",
    "xgb_opt.fit(x_vals, y_train)"
   ]
  },
  {
   "cell_type": "code",
   "execution_count": null,
   "metadata": {
    "collapsed": true
   },
   "outputs": [],
   "source": [
    "xgb_opt.best_params_, xgb_opt.best_score_"
   ]
  },
  {
   "cell_type": "code",
   "execution_count": null,
   "metadata": {
    "collapsed": false
   },
   "outputs": [],
   "source": [
    "xgb_opt_results = pd.DataFrame(xgb_opt.cv_results_)\n",
    "xgb_opt_results.sort_values('rank_test_score')[:5] #[(search_results['param_max_depth'] == 10) & (search_results['param_max_features'] == 'log2')]"
   ]
  },
  {
   "cell_type": "code",
   "execution_count": null,
   "metadata": {
    "collapsed": true
   },
   "outputs": [],
   "source": [
    "our_params = {'eta': 0.1, 'seed':0, 'subsample': 0.8, 'colsample_bytree': 0.8, \n",
    "             'objective': 'binary:logistic', 'max_depth': 5, 'min_child_weight': 4} \n",
    "final_gb = xgb.train(our_params, xgdmat, num_boost_round = 48)"
   ]
  },
  {
   "cell_type": "code",
   "execution_count": null,
   "metadata": {
    "collapsed": false
   },
   "outputs": [],
   "source": [
    "xgb.plot_importance(final_gb)"
   ]
  },
  {
   "cell_type": "code",
   "execution_count": null,
   "metadata": {
    "collapsed": false
   },
   "outputs": [],
   "source": [
    "importances = final_gb.get_fscore()\n",
    "importance_frame = pd.DataFrame({'Importance': list(importances.values()), 'Feature': list(importances.keys())})\n",
    "importance_frame.sort_values(by='Importance', inplace=True)\n",
    "importance_frame.plot(kind = 'barh', x = 'Feature', figsize = (8,8), color = 'orange')"
   ]
  },
  {
   "cell_type": "markdown",
   "metadata": {},
   "source": [
    "Check the best model on the test set"
   ]
  },
  {
   "cell_type": "code",
   "execution_count": null,
   "metadata": {
    "collapsed": false
   },
   "outputs": [],
   "source": [
    "curr_model = rf_opt\n",
    "\n",
    "x_test = test_set.drop('outcome', axis=1)\n",
    "y_test = test_set['outcome'].copy().reset_index(drop=True)\n",
    "\n",
    "run_model.evaluate_model(x_test, y_test, curr_model)\n",
    "run_model.plot_roc_curve(curr_model, x_test, y_test, save=True, prefix=prefix)"
   ]
  },
  {
   "cell_type": "code",
   "execution_count": null,
   "metadata": {
    "collapsed": false
   },
   "outputs": [],
   "source": [
    "risk, results = run_model.eval_risk(rf_opt)"
   ]
  },
  {
   "cell_type": "code",
   "execution_count": null,
   "metadata": {
    "collapsed": false
   },
   "outputs": [],
   "source": [
    "results['Probability'] = results['Probability'].apply(lambda x: \"{{:{}%}}\".format('0.1').format(x))"
   ]
  },
  {
   "cell_type": "code",
   "execution_count": null,
   "metadata": {
    "collapsed": false
   },
   "outputs": [],
   "source": [
    "risk, results"
   ]
  },
  {
   "cell_type": "code",
   "execution_count": null,
   "metadata": {
    "collapsed": false
   },
   "outputs": [],
   "source": [
    "ab_profile.iloc[:, 27:41]"
   ]
  },
  {
   "cell_type": "code",
   "execution_count": null,
   "metadata": {
    "collapsed": false
   },
   "outputs": [],
   "source": [
    "import pickle\n",
    "filename = 'finalized_model.sav'\n",
    "pickle.dump(rf_opt, open(filename, 'wb'))"
   ]
  },
  {
   "cell_type": "markdown",
   "metadata": {},
   "source": [
    "# Plot raw data"
   ]
  },
  {
   "cell_type": "code",
   "execution_count": null,
   "metadata": {
    "collapsed": true
   },
   "outputs": [],
   "source": [
    "bal_data = prepare_dataset.balance_dataset(cdiff_data, 'outcome')"
   ]
  },
  {
   "cell_type": "code",
   "execution_count": null,
   "metadata": {
    "collapsed": true
   },
   "outputs": [],
   "source": [
    "get_sql_dataset.plot_feature_counts(cdiff_data)"
   ]
  },
  {
   "cell_type": "code",
   "execution_count": null,
   "metadata": {
    "collapsed": true
   },
   "outputs": [],
   "source": [
    "get_sql_dataset.plot_probability_quantiles(cdiff_data, save=True)"
   ]
  },
  {
   "cell_type": "code",
   "execution_count": null,
   "metadata": {
    "collapsed": true
   },
   "outputs": [],
   "source": [
    "get_sql_dataset.plot_correlations(cdiff_data)"
   ]
  },
  {
   "cell_type": "code",
   "execution_count": null,
   "metadata": {
    "collapsed": true
   },
   "outputs": [],
   "source": [
    "get_sql_dataset.plot_features(cdiff_data, save=True)"
   ]
  }
 ],
 "metadata": {
  "anaconda-cloud": {},
  "kernelspec": {
   "display_name": "Python [conda env:my_insight_env]",
   "language": "python",
   "name": "conda-env-my_insight_env-py"
  },
  "language_info": {
   "codemirror_mode": {
    "name": "ipython",
    "version": 2
   },
   "file_extension": ".py",
   "mimetype": "text/x-python",
   "name": "python",
   "nbconvert_exporter": "python",
   "pygments_lexer": "ipython2",
   "version": "2.7.13"
  }
 },
 "nbformat": 4,
 "nbformat_minor": 1
}
