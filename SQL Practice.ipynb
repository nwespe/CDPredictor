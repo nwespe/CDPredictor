{
 "cells": [
  {
   "cell_type": "markdown",
   "metadata": {},
   "source": [
    "This notebook uses ipython-sql (pip install ipython-sql) to type SQL queries directly. Use %sql before a single-line query and %%sql before a multi-line query."
   ]
  },
  {
   "cell_type": "code",
   "execution_count": 1,
   "metadata": {
    "collapsed": true
   },
   "outputs": [],
   "source": [
    "%load_ext sql"
   ]
  },
  {
   "cell_type": "code",
   "execution_count": 2,
   "metadata": {
    "collapsed": false
   },
   "outputs": [
    {
     "data": {
      "text/plain": [
       "u'Connected: postgres@birth_db'"
      ]
     },
     "execution_count": 2,
     "metadata": {},
     "output_type": "execute_result"
    }
   ],
   "source": [
    "%sql postgresql://postgres@localhost/birth_db"
   ]
  },
  {
   "cell_type": "code",
   "execution_count": 18,
   "metadata": {
    "collapsed": false
   },
   "outputs": [
    {
     "name": "stdout",
     "output_type": "stream",
     "text": [
      "Done.\n"
     ]
    },
    {
     "data": {
      "text/plain": [
       "[]"
      ]
     },
     "execution_count": 18,
     "metadata": {},
     "output_type": "execute_result"
    }
   ],
   "source": [
    "# use SET search_path TO schema_name if schema is used\n",
    "%sql reset search_path"
   ]
  },
  {
   "cell_type": "code",
   "execution_count": 3,
   "metadata": {
    "collapsed": false
   },
   "outputs": [
    {
     "name": "stdout",
     "output_type": "stream",
     "text": [
      "10 rows affected.\n"
     ]
    },
    {
     "data": {
      "text/html": [
       "<table>\n",
       "    <tr>\n",
       "        <th>index</th>\n",
       "        <th>alcohol_use</th>\n",
       "        <th>anencephaly</th>\n",
       "        <th>attendant</th>\n",
       "        <th>birth_loc_type</th>\n",
       "        <th>birth_month</th>\n",
       "        <th>birth_state</th>\n",
       "        <th>birth_weight</th>\n",
       "        <th>birth_year</th>\n",
       "        <th>cigarette_use</th>\n",
       "        <th>cigarettes_per_day</th>\n",
       "        <th>cigarettes_trimester1</th>\n",
       "        <th>cigarettes_trimester2</th>\n",
       "        <th>cigarettes_trimester3</th>\n",
       "        <th>day</th>\n",
       "        <th>delivery_method</th>\n",
       "        <th>downs syndrome</th>\n",
       "        <th>drinks_per_week</th>\n",
       "        <th>father_age</th>\n",
       "        <th>father_race</th>\n",
       "        <th>gestation_weeks</th>\n",
       "        <th>infant_sex</th>\n",
       "        <th>mother_age</th>\n",
       "        <th>mother_birth_country</th>\n",
       "        <th>mother_birth_state</th>\n",
       "        <th>mother_education</th>\n",
       "        <th>mother_marital_status</th>\n",
       "        <th>mother_race</th>\n",
       "        <th>mother_state</th>\n",
       "        <th>population</th>\n",
       "        <th>pregnancy_weight</th>\n",
       "        <th>resident</th>\n",
       "        <th>revision</th>\n",
       "        <th>spina_bifida</th>\n",
       "        <th>table</th>\n",
       "        <th>timestamp</th>\n",
       "        <th>uses_tobacco</th>\n",
       "        <th>weight_gain</th>\n",
       "    </tr>\n",
       "    <tr>\n",
       "        <td>50</td>\n",
       "        <td>None</td>\n",
       "        <td>None</td>\n",
       "        <td>MD</td>\n",
       "        <td>None</td>\n",
       "        <td>Jan</td>\n",
       "        <td>None</td>\n",
       "        <td>5000.0</td>\n",
       "        <td>2012</td>\n",
       "        <td>None</td>\n",
       "        <td>None</td>\n",
       "        <td>None</td>\n",
       "        <td>None</td>\n",
       "        <td>None</td>\n",
       "        <td>Fri</td>\n",
       "        <td>Vaginal</td>\n",
       "        <td>None</td>\n",
       "        <td>None</td>\n",
       "        <td>None</td>\n",
       "        <td>None</td>\n",
       "        <td>42.0</td>\n",
       "        <td>F</td>\n",
       "        <td>20</td>\n",
       "        <td>None</td>\n",
       "        <td>None</td>\n",
       "        <td>None</td>\n",
       "        <td>Yes</td>\n",
       "        <td>White</td>\n",
       "        <td>None</td>\n",
       "        <td>None</td>\n",
       "        <td>None</td>\n",
       "        <td>Resident</td>\n",
       "        <td>S</td>\n",
       "        <td>None</td>\n",
       "        <td>births12.txt</td>\n",
       "        <td>1325456800</td>\n",
       "        <td>None</td>\n",
       "        <td>30.0</td>\n",
       "    </tr>\n",
       "    <tr>\n",
       "        <td>51</td>\n",
       "        <td>None</td>\n",
       "        <td>None</td>\n",
       "        <td>MD</td>\n",
       "        <td>None</td>\n",
       "        <td>Jan</td>\n",
       "        <td>None</td>\n",
       "        <td>3000.0</td>\n",
       "        <td>2012</td>\n",
       "        <td>None</td>\n",
       "        <td>None</td>\n",
       "        <td>None</td>\n",
       "        <td>None</td>\n",
       "        <td>None</td>\n",
       "        <td>Fri</td>\n",
       "        <td>Vaginal</td>\n",
       "        <td>None</td>\n",
       "        <td>None</td>\n",
       "        <td>None</td>\n",
       "        <td>None</td>\n",
       "        <td>42.0</td>\n",
       "        <td>F</td>\n",
       "        <td>20</td>\n",
       "        <td>None</td>\n",
       "        <td>None</td>\n",
       "        <td>None</td>\n",
       "        <td>Yes</td>\n",
       "        <td>White</td>\n",
       "        <td>None</td>\n",
       "        <td>None</td>\n",
       "        <td>None</td>\n",
       "        <td>Resident</td>\n",
       "        <td>S</td>\n",
       "        <td>None</td>\n",
       "        <td>births12.txt</td>\n",
       "        <td>1326371490</td>\n",
       "        <td>None</td>\n",
       "        <td>32.0</td>\n",
       "    </tr>\n",
       "    <tr>\n",
       "        <td>52</td>\n",
       "        <td>None</td>\n",
       "        <td>None</td>\n",
       "        <td>MD</td>\n",
       "        <td>None</td>\n",
       "        <td>Jan</td>\n",
       "        <td>None</td>\n",
       "        <td>3000.0</td>\n",
       "        <td>2012</td>\n",
       "        <td>None</td>\n",
       "        <td>None</td>\n",
       "        <td>None</td>\n",
       "        <td>None</td>\n",
       "        <td>None</td>\n",
       "        <td>Sun</td>\n",
       "        <td>Vaginal</td>\n",
       "        <td>None</td>\n",
       "        <td>None</td>\n",
       "        <td>None</td>\n",
       "        <td>None</td>\n",
       "        <td>38.0</td>\n",
       "        <td>F</td>\n",
       "        <td>21</td>\n",
       "        <td>None</td>\n",
       "        <td>None</td>\n",
       "        <td>None</td>\n",
       "        <td>No</td>\n",
       "        <td>White</td>\n",
       "        <td>None</td>\n",
       "        <td>None</td>\n",
       "        <td>None</td>\n",
       "        <td>Resident</td>\n",
       "        <td>S</td>\n",
       "        <td>None</td>\n",
       "        <td>births12.txt</td>\n",
       "        <td>1327245443</td>\n",
       "        <td>None</td>\n",
       "        <td>24.0</td>\n",
       "    </tr>\n",
       "    <tr>\n",
       "        <td>53</td>\n",
       "        <td>None</td>\n",
       "        <td>None</td>\n",
       "        <td>MD</td>\n",
       "        <td>None</td>\n",
       "        <td>Feb</td>\n",
       "        <td>None</td>\n",
       "        <td>4000.0</td>\n",
       "        <td>2012</td>\n",
       "        <td>None</td>\n",
       "        <td>None</td>\n",
       "        <td>None</td>\n",
       "        <td>None</td>\n",
       "        <td>None</td>\n",
       "        <td>Wed</td>\n",
       "        <td>Cesarean</td>\n",
       "        <td>None</td>\n",
       "        <td>None</td>\n",
       "        <td>None</td>\n",
       "        <td>None</td>\n",
       "        <td>39.0</td>\n",
       "        <td>M</td>\n",
       "        <td>35</td>\n",
       "        <td>None</td>\n",
       "        <td>None</td>\n",
       "        <td>None</td>\n",
       "        <td>Yes</td>\n",
       "        <td>White</td>\n",
       "        <td>None</td>\n",
       "        <td>None</td>\n",
       "        <td>None</td>\n",
       "        <td>Intra-State/Territor Non-resident (diff county)</td>\n",
       "        <td>S</td>\n",
       "        <td>None</td>\n",
       "        <td>births12.txt</td>\n",
       "        <td>1328148996</td>\n",
       "        <td>None</td>\n",
       "        <td>30.0</td>\n",
       "    </tr>\n",
       "    <tr>\n",
       "        <td>54</td>\n",
       "        <td>None</td>\n",
       "        <td>None</td>\n",
       "        <td>MD</td>\n",
       "        <td>None</td>\n",
       "        <td>Feb</td>\n",
       "        <td>None</td>\n",
       "        <td>3000.0</td>\n",
       "        <td>2012</td>\n",
       "        <td>None</td>\n",
       "        <td>None</td>\n",
       "        <td>None</td>\n",
       "        <td>None</td>\n",
       "        <td>None</td>\n",
       "        <td>Wed</td>\n",
       "        <td>Vaginal</td>\n",
       "        <td>None</td>\n",
       "        <td>None</td>\n",
       "        <td>None</td>\n",
       "        <td>None</td>\n",
       "        <td>38.0</td>\n",
       "        <td>F</td>\n",
       "        <td>29</td>\n",
       "        <td>None</td>\n",
       "        <td>None</td>\n",
       "        <td>None</td>\n",
       "        <td>Yes</td>\n",
       "        <td>White</td>\n",
       "        <td>None</td>\n",
       "        <td>None</td>\n",
       "        <td>None</td>\n",
       "        <td>Resident</td>\n",
       "        <td>S</td>\n",
       "        <td>None</td>\n",
       "        <td>births12.txt</td>\n",
       "        <td>1328933795</td>\n",
       "        <td>None</td>\n",
       "        <td>34.0</td>\n",
       "    </tr>\n",
       "    <tr>\n",
       "        <td>55</td>\n",
       "        <td>None</td>\n",
       "        <td>None</td>\n",
       "        <td>MD</td>\n",
       "        <td>None</td>\n",
       "        <td>Feb</td>\n",
       "        <td>None</td>\n",
       "        <td>2000.0</td>\n",
       "        <td>2012</td>\n",
       "        <td>None</td>\n",
       "        <td>None</td>\n",
       "        <td>None</td>\n",
       "        <td>None</td>\n",
       "        <td>None</td>\n",
       "        <td>Sat</td>\n",
       "        <td>Vaginal</td>\n",
       "        <td>None</td>\n",
       "        <td>None</td>\n",
       "        <td>None</td>\n",
       "        <td>None</td>\n",
       "        <td>31.0</td>\n",
       "        <td>M</td>\n",
       "        <td>27</td>\n",
       "        <td>None</td>\n",
       "        <td>None</td>\n",
       "        <td>None</td>\n",
       "        <td>No</td>\n",
       "        <td>Black</td>\n",
       "        <td>None</td>\n",
       "        <td>None</td>\n",
       "        <td>None</td>\n",
       "        <td>Intra-State/Territor Non-resident (diff county)</td>\n",
       "        <td>S</td>\n",
       "        <td>None</td>\n",
       "        <td>births12.txt</td>\n",
       "        <td>1329753116</td>\n",
       "        <td>None</td>\n",
       "        <td>25.0</td>\n",
       "    </tr>\n",
       "    <tr>\n",
       "        <td>56</td>\n",
       "        <td>None</td>\n",
       "        <td>None</td>\n",
       "        <td>MD</td>\n",
       "        <td>None</td>\n",
       "        <td>Mar</td>\n",
       "        <td>None</td>\n",
       "        <td>4000.0</td>\n",
       "        <td>2012</td>\n",
       "        <td>None</td>\n",
       "        <td>None</td>\n",
       "        <td>None</td>\n",
       "        <td>None</td>\n",
       "        <td>None</td>\n",
       "        <td>Tu</td>\n",
       "        <td>Vaginal</td>\n",
       "        <td>None</td>\n",
       "        <td>None</td>\n",
       "        <td>None</td>\n",
       "        <td>None</td>\n",
       "        <td>40.0</td>\n",
       "        <td>F</td>\n",
       "        <td>18</td>\n",
       "        <td>None</td>\n",
       "        <td>None</td>\n",
       "        <td>None</td>\n",
       "        <td>No</td>\n",
       "        <td>White</td>\n",
       "        <td>None</td>\n",
       "        <td>None</td>\n",
       "        <td>None</td>\n",
       "        <td>Resident</td>\n",
       "        <td>S</td>\n",
       "        <td>None</td>\n",
       "        <td>births12.txt</td>\n",
       "        <td>1330659032</td>\n",
       "        <td>None</td>\n",
       "        <td>50.0</td>\n",
       "    </tr>\n",
       "    <tr>\n",
       "        <td>57</td>\n",
       "        <td>None</td>\n",
       "        <td>None</td>\n",
       "        <td>MD</td>\n",
       "        <td>None</td>\n",
       "        <td>Mar</td>\n",
       "        <td>None</td>\n",
       "        <td>4000.0</td>\n",
       "        <td>2012</td>\n",
       "        <td>None</td>\n",
       "        <td>None</td>\n",
       "        <td>None</td>\n",
       "        <td>None</td>\n",
       "        <td>None</td>\n",
       "        <td>Sun</td>\n",
       "        <td>Vaginal</td>\n",
       "        <td>None</td>\n",
       "        <td>None</td>\n",
       "        <td>None</td>\n",
       "        <td>None</td>\n",
       "        <td>38.0</td>\n",
       "        <td>F</td>\n",
       "        <td>29</td>\n",
       "        <td>None</td>\n",
       "        <td>None</td>\n",
       "        <td>None</td>\n",
       "        <td>Yes</td>\n",
       "        <td>Black</td>\n",
       "        <td>None</td>\n",
       "        <td>None</td>\n",
       "        <td>None</td>\n",
       "        <td>Resident</td>\n",
       "        <td>S</td>\n",
       "        <td>None</td>\n",
       "        <td>births12.txt</td>\n",
       "        <td>1331541002</td>\n",
       "        <td>None</td>\n",
       "        <td>50.0</td>\n",
       "    </tr>\n",
       "    <tr>\n",
       "        <td>58</td>\n",
       "        <td>None</td>\n",
       "        <td>None</td>\n",
       "        <td>MD</td>\n",
       "        <td>None</td>\n",
       "        <td>Mar</td>\n",
       "        <td>None</td>\n",
       "        <td>4000.0</td>\n",
       "        <td>2012</td>\n",
       "        <td>None</td>\n",
       "        <td>None</td>\n",
       "        <td>None</td>\n",
       "        <td>None</td>\n",
       "        <td>None</td>\n",
       "        <td>Mon</td>\n",
       "        <td>Vaginal</td>\n",
       "        <td>None</td>\n",
       "        <td>None</td>\n",
       "        <td>None</td>\n",
       "        <td>None</td>\n",
       "        <td>39.0</td>\n",
       "        <td>F</td>\n",
       "        <td>29</td>\n",
       "        <td>None</td>\n",
       "        <td>None</td>\n",
       "        <td>None</td>\n",
       "        <td>No</td>\n",
       "        <td>White</td>\n",
       "        <td>None</td>\n",
       "        <td>None</td>\n",
       "        <td>None</td>\n",
       "        <td>Resident</td>\n",
       "        <td>S</td>\n",
       "        <td>None</td>\n",
       "        <td>births12.txt</td>\n",
       "        <td>1332469424</td>\n",
       "        <td>None</td>\n",
       "        <td>31.0</td>\n",
       "    </tr>\n",
       "    <tr>\n",
       "        <td>59</td>\n",
       "        <td>None</td>\n",
       "        <td>None</td>\n",
       "        <td>MD</td>\n",
       "        <td>None</td>\n",
       "        <td>Apr</td>\n",
       "        <td>None</td>\n",
       "        <td>4000.0</td>\n",
       "        <td>2012</td>\n",
       "        <td>None</td>\n",
       "        <td>None</td>\n",
       "        <td>None</td>\n",
       "        <td>None</td>\n",
       "        <td>None</td>\n",
       "        <td>Sat</td>\n",
       "        <td>Vaginal</td>\n",
       "        <td>None</td>\n",
       "        <td>None</td>\n",
       "        <td>None</td>\n",
       "        <td>None</td>\n",
       "        <td>39.0</td>\n",
       "        <td>M</td>\n",
       "        <td>30</td>\n",
       "        <td>None</td>\n",
       "        <td>None</td>\n",
       "        <td>None</td>\n",
       "        <td>No</td>\n",
       "        <td>White</td>\n",
       "        <td>None</td>\n",
       "        <td>None</td>\n",
       "        <td>None</td>\n",
       "        <td>Resident</td>\n",
       "        <td>S</td>\n",
       "        <td>None</td>\n",
       "        <td>births12.txt</td>\n",
       "        <td>1333389308</td>\n",
       "        <td>None</td>\n",
       "        <td>3.0</td>\n",
       "    </tr>\n",
       "</table>"
      ],
      "text/plain": [
       "[(50L, None, None, u'MD', None, u'Jan', None, 5000.0, 2012L, None, None, None, None, None, u'Fri', u'Vaginal', None, None, None, None, 42.0, u'F', 20L, None, None, None, u'Yes', u'White', None, None, None, u'Resident', u'S', None, u'births12.txt', 1325456800L, None, 30.0),\n",
       " (51L, None, None, u'MD', None, u'Jan', None, 3000.0, 2012L, None, None, None, None, None, u'Fri', u'Vaginal', None, None, None, None, 42.0, u'F', 20L, None, None, None, u'Yes', u'White', None, None, None, u'Resident', u'S', None, u'births12.txt', 1326371490L, None, 32.0),\n",
       " (52L, None, None, u'MD', None, u'Jan', None, 3000.0, 2012L, None, None, None, None, None, u'Sun', u'Vaginal', None, None, None, None, 38.0, u'F', 21L, None, None, None, u'No', u'White', None, None, None, u'Resident', u'S', None, u'births12.txt', 1327245443L, None, 24.0),\n",
       " (53L, None, None, u'MD', None, u'Feb', None, 4000.0, 2012L, None, None, None, None, None, u'Wed', u'Cesarean', None, None, None, None, 39.0, u'M', 35L, None, None, None, u'Yes', u'White', None, None, None, u'Intra-State/Territor Non-resident (diff county)', u'S', None, u'births12.txt', 1328148996L, None, 30.0),\n",
       " (54L, None, None, u'MD', None, u'Feb', None, 3000.0, 2012L, None, None, None, None, None, u'Wed', u'Vaginal', None, None, None, None, 38.0, u'F', 29L, None, None, None, u'Yes', u'White', None, None, None, u'Resident', u'S', None, u'births12.txt', 1328933795L, None, 34.0),\n",
       " (55L, None, None, u'MD', None, u'Feb', None, 2000.0, 2012L, None, None, None, None, None, u'Sat', u'Vaginal', None, None, None, None, 31.0, u'M', 27L, None, None, None, u'No', u'Black', None, None, None, u'Intra-State/Territor Non-resident (diff county)', u'S', None, u'births12.txt', 1329753116L, None, 25.0),\n",
       " (56L, None, None, u'MD', None, u'Mar', None, 4000.0, 2012L, None, None, None, None, None, u'Tu', u'Vaginal', None, None, None, None, 40.0, u'F', 18L, None, None, None, u'No', u'White', None, None, None, u'Resident', u'S', None, u'births12.txt', 1330659032L, None, 50.0),\n",
       " (57L, None, None, u'MD', None, u'Mar', None, 4000.0, 2012L, None, None, None, None, None, u'Sun', u'Vaginal', None, None, None, None, 38.0, u'F', 29L, None, None, None, u'Yes', u'Black', None, None, None, u'Resident', u'S', None, u'births12.txt', 1331541002L, None, 50.0),\n",
       " (58L, None, None, u'MD', None, u'Mar', None, 4000.0, 2012L, None, None, None, None, None, u'Mon', u'Vaginal', None, None, None, None, 39.0, u'F', 29L, None, None, None, u'No', u'White', None, None, None, u'Resident', u'S', None, u'births12.txt', 1332469424L, None, 31.0),\n",
       " (59L, None, None, u'MD', None, u'Apr', None, 4000.0, 2012L, None, None, None, None, None, u'Sat', u'Vaginal', None, None, None, None, 39.0, u'M', 30L, None, None, None, u'No', u'White', None, None, None, u'Resident', u'S', None, u'births12.txt', 1333389308L, None, 3.0)]"
      ]
     },
     "execution_count": 3,
     "metadata": {},
     "output_type": "execute_result"
    }
   ],
   "source": [
    "%%sql\n",
    "SELECT * FROM birth_data_table\n",
    "LIMIT 10\n",
    "OFFSET 50"
   ]
  },
  {
   "cell_type": "markdown",
   "metadata": {},
   "source": [
    "What is the most common day for a delivery?"
   ]
  },
  {
   "cell_type": "markdown",
   "metadata": {},
   "source": [
    "Let's first create a view containing the days of the week and the count for each day"
   ]
  },
  {
   "cell_type": "code",
   "execution_count": 19,
   "metadata": {
    "collapsed": false
   },
   "outputs": [
    {
     "name": "stdout",
     "output_type": "stream",
     "text": [
      "(psycopg2.ProgrammingError) relation \"day_counts\" already exists\n",
      " [SQL: 'CREATE VIEW day_counts AS\\nSELECT day, COUNT(*) AS count\\nFROM birth_data_table\\nGROUP BY day']\n"
     ]
    }
   ],
   "source": [
    "%%sql \n",
    "CREATE VIEW day_counts AS\n",
    "SELECT day, COUNT(*) AS count\n",
    "FROM birth_data_table\n",
    "GROUP BY day"
   ]
  },
  {
   "cell_type": "code",
   "execution_count": 44,
   "metadata": {
    "collapsed": false
   },
   "outputs": [
    {
     "name": "stdout",
     "output_type": "stream",
     "text": [
      "7 rows affected.\n"
     ]
    },
    {
     "data": {
      "text/html": [
       "<table>\n",
       "    <tr>\n",
       "        <th>day</th>\n",
       "        <th>count</th>\n",
       "    </tr>\n",
       "    <tr>\n",
       "        <td>Tu</td>\n",
       "        <td>449</td>\n",
       "    </tr>\n",
       "    <tr>\n",
       "        <td>Sat</td>\n",
       "        <td>307</td>\n",
       "    </tr>\n",
       "    <tr>\n",
       "        <td>Mon</td>\n",
       "        <td>403</td>\n",
       "    </tr>\n",
       "    <tr>\n",
       "        <td>Wed</td>\n",
       "        <td>415</td>\n",
       "    </tr>\n",
       "    <tr>\n",
       "        <td>Sun</td>\n",
       "        <td>281</td>\n",
       "    </tr>\n",
       "    <tr>\n",
       "        <td>Th</td>\n",
       "        <td>432</td>\n",
       "    </tr>\n",
       "    <tr>\n",
       "        <td>Fri</td>\n",
       "        <td>429</td>\n",
       "    </tr>\n",
       "</table>"
      ],
      "text/plain": [
       "[(u'Tu', 449L),\n",
       " (u'Sat', 307L),\n",
       " (u'Mon', 403L),\n",
       " (u'Wed', 415L),\n",
       " (u'Sun', 281L),\n",
       " (u'Th', 432L),\n",
       " (u'Fri', 429L)]"
      ]
     },
     "execution_count": 44,
     "metadata": {},
     "output_type": "execute_result"
    }
   ],
   "source": [
    "%sql SELECT * FROM day_counts"
   ]
  },
  {
   "cell_type": "markdown",
   "metadata": {},
   "source": [
    "We can view this table ordered by count."
   ]
  },
  {
   "cell_type": "code",
   "execution_count": 18,
   "metadata": {
    "collapsed": false
   },
   "outputs": [
    {
     "name": "stdout",
     "output_type": "stream",
     "text": [
      "7 rows affected.\n"
     ]
    },
    {
     "data": {
      "text/html": [
       "<table>\n",
       "    <tr>\n",
       "        <th>day</th>\n",
       "        <th>count</th>\n",
       "    </tr>\n",
       "    <tr>\n",
       "        <td>Tu</td>\n",
       "        <td>449</td>\n",
       "    </tr>\n",
       "    <tr>\n",
       "        <td>Th</td>\n",
       "        <td>432</td>\n",
       "    </tr>\n",
       "    <tr>\n",
       "        <td>Fri</td>\n",
       "        <td>429</td>\n",
       "    </tr>\n",
       "    <tr>\n",
       "        <td>Wed</td>\n",
       "        <td>415</td>\n",
       "    </tr>\n",
       "    <tr>\n",
       "        <td>Mon</td>\n",
       "        <td>403</td>\n",
       "    </tr>\n",
       "    <tr>\n",
       "        <td>Sat</td>\n",
       "        <td>307</td>\n",
       "    </tr>\n",
       "    <tr>\n",
       "        <td>Sun</td>\n",
       "        <td>281</td>\n",
       "    </tr>\n",
       "</table>"
      ],
      "text/plain": [
       "[(u'Tu', 449L),\n",
       " (u'Th', 432L),\n",
       " (u'Fri', 429L),\n",
       " (u'Wed', 415L),\n",
       " (u'Mon', 403L),\n",
       " (u'Sat', 307L),\n",
       " (u'Sun', 281L)]"
      ]
     },
     "execution_count": 18,
     "metadata": {},
     "output_type": "execute_result"
    }
   ],
   "source": [
    "%%sql \n",
    "SELECT * \n",
    "FROM day_counts \n",
    "ORDER BY count DESC  -- return in descending order"
   ]
  },
  {
   "cell_type": "markdown",
   "metadata": {},
   "source": [
    "For a solution with one query and one sub-query, see below. Note that this solution creates a temporary table instead of a view."
   ]
  },
  {
   "cell_type": "code",
   "execution_count": 17,
   "metadata": {
    "collapsed": false
   },
   "outputs": [
    {
     "name": "stdout",
     "output_type": "stream",
     "text": [
      "1 rows affected.\n"
     ]
    },
    {
     "data": {
      "text/html": [
       "<table>\n",
       "    <tr>\n",
       "        <th>day</th>\n",
       "    </tr>\n",
       "    <tr>\n",
       "        <td>Tu</td>\n",
       "    </tr>\n",
       "</table>"
      ],
      "text/plain": [
       "[(u'Tu',)]"
      ]
     },
     "execution_count": 17,
     "metadata": {},
     "output_type": "execute_result"
    }
   ],
   "source": [
    "%%sql\n",
    "SELECT day\n",
    "FROM (SELECT day, COUNT(*) AS count   -- the parenthesis enclose a subquery\n",
    "      FROM birth_data_table\n",
    "      GROUP BY day\n",
    "     ) AS day_counts       -- name the temporary table\n",
    "WHERE count = (SELECT MAX(count) FROM day_counts)"
   ]
  },
  {
   "cell_type": "markdown",
   "metadata": {},
   "source": [
    "Now let's get counts by attendant. First we'll see what unique values are in the table."
   ]
  },
  {
   "cell_type": "code",
   "execution_count": 20,
   "metadata": {
    "collapsed": false
   },
   "outputs": [
    {
     "name": "stdout",
     "output_type": "stream",
     "text": [
      "5 rows affected.\n"
     ]
    },
    {
     "data": {
      "text/html": [
       "<table>\n",
       "    <tr>\n",
       "        <th>attendant</th>\n",
       "    </tr>\n",
       "    <tr>\n",
       "        <td>None</td>\n",
       "    </tr>\n",
       "    <tr>\n",
       "        <td>Certified Nurse or Midwife</td>\n",
       "    </tr>\n",
       "    <tr>\n",
       "        <td>MD</td>\n",
       "    </tr>\n",
       "    <tr>\n",
       "        <td>Osteopathy</td>\n",
       "    </tr>\n",
       "    <tr>\n",
       "        <td>Other Midwife</td>\n",
       "    </tr>\n",
       "</table>"
      ],
      "text/plain": [
       "[(None,),\n",
       " (u'Certified Nurse or Midwife',),\n",
       " (u'MD',),\n",
       " (u'Osteopathy',),\n",
       " (u'Other Midwife',)]"
      ]
     },
     "execution_count": 20,
     "metadata": {},
     "output_type": "execute_result"
    }
   ],
   "source": [
    "%sql SELECT DISTINCT attendant FROM birth_data_table"
   ]
  },
  {
   "cell_type": "code",
   "execution_count": 21,
   "metadata": {
    "collapsed": false
   },
   "outputs": [
    {
     "name": "stdout",
     "output_type": "stream",
     "text": [
      "5 rows affected.\n"
     ]
    },
    {
     "data": {
      "text/html": [
       "<table>\n",
       "    <tr>\n",
       "        <th>attendant</th>\n",
       "        <th>count</th>\n",
       "    </tr>\n",
       "    <tr>\n",
       "        <td>None</td>\n",
       "        <td>16</td>\n",
       "    </tr>\n",
       "    <tr>\n",
       "        <td>Certified Nurse or Midwife</td>\n",
       "        <td>248</td>\n",
       "    </tr>\n",
       "    <tr>\n",
       "        <td>MD</td>\n",
       "        <td>2285</td>\n",
       "    </tr>\n",
       "    <tr>\n",
       "        <td>Osteopathy</td>\n",
       "        <td>154</td>\n",
       "    </tr>\n",
       "    <tr>\n",
       "        <td>Other Midwife</td>\n",
       "        <td>13</td>\n",
       "    </tr>\n",
       "</table>"
      ],
      "text/plain": [
       "[(None, 16L),\n",
       " (u'Certified Nurse or Midwife', 248L),\n",
       " (u'MD', 2285L),\n",
       " (u'Osteopathy', 154L),\n",
       " (u'Other Midwife', 13L)]"
      ]
     },
     "execution_count": 21,
     "metadata": {},
     "output_type": "execute_result"
    }
   ],
   "source": [
    "%%sql\n",
    "SELECT attendant, COUNT(*) as count\n",
    "FROM birth_data_table\n",
    "GROUP BY attendant"
   ]
  },
  {
   "cell_type": "markdown",
   "metadata": {},
   "source": [
    "Hmm, I wonder if there is any relation between attendant and day of the week for a delivery. Let's make a pivot table, where one column is attendant and the other columns are the days of the week, containing counts for each attendant for each day."
   ]
  },
  {
   "cell_type": "code",
   "execution_count": 25,
   "metadata": {
    "collapsed": false
   },
   "outputs": [
    {
     "name": "stdout",
     "output_type": "stream",
     "text": [
      "34 rows affected.\n"
     ]
    },
    {
     "data": {
      "text/html": [
       "<table>\n",
       "    <tr>\n",
       "        <th>attendant</th>\n",
       "        <th>day</th>\n",
       "        <th>count</th>\n",
       "    </tr>\n",
       "    <tr>\n",
       "        <td>Other Midwife</td>\n",
       "        <td>Tu</td>\n",
       "        <td>2</td>\n",
       "    </tr>\n",
       "    <tr>\n",
       "        <td>None</td>\n",
       "        <td>Sun</td>\n",
       "        <td>2</td>\n",
       "    </tr>\n",
       "    <tr>\n",
       "        <td>Other Midwife</td>\n",
       "        <td>Fri</td>\n",
       "        <td>1</td>\n",
       "    </tr>\n",
       "    <tr>\n",
       "        <td>MD</td>\n",
       "        <td>Tu</td>\n",
       "        <td>381</td>\n",
       "    </tr>\n",
       "    <tr>\n",
       "        <td>Osteopathy</td>\n",
       "        <td>Tu</td>\n",
       "        <td>23</td>\n",
       "    </tr>\n",
       "    <tr>\n",
       "        <td>Certified Nurse or Midwife</td>\n",
       "        <td>Sat</td>\n",
       "        <td>38</td>\n",
       "    </tr>\n",
       "    <tr>\n",
       "        <td>Other Midwife</td>\n",
       "        <td>Sat</td>\n",
       "        <td>3</td>\n",
       "    </tr>\n",
       "    <tr>\n",
       "        <td>Certified Nurse or Midwife</td>\n",
       "        <td>Fri</td>\n",
       "        <td>33</td>\n",
       "    </tr>\n",
       "    <tr>\n",
       "        <td>Certified Nurse or Midwife</td>\n",
       "        <td>Tu</td>\n",
       "        <td>39</td>\n",
       "    </tr>\n",
       "    <tr>\n",
       "        <td>None</td>\n",
       "        <td>Mon</td>\n",
       "        <td>2</td>\n",
       "    </tr>\n",
       "    <tr>\n",
       "        <td>MD</td>\n",
       "        <td>Sat</td>\n",
       "        <td>255</td>\n",
       "    </tr>\n",
       "    <tr>\n",
       "        <td>None</td>\n",
       "        <td>Wed</td>\n",
       "        <td>2</td>\n",
       "    </tr>\n",
       "    <tr>\n",
       "        <td>Osteopathy</td>\n",
       "        <td>Sat</td>\n",
       "        <td>10</td>\n",
       "    </tr>\n",
       "    <tr>\n",
       "        <td>None</td>\n",
       "        <td>Th</td>\n",
       "        <td>2</td>\n",
       "    </tr>\n",
       "    <tr>\n",
       "        <td>Certified Nurse or Midwife</td>\n",
       "        <td>Sun</td>\n",
       "        <td>30</td>\n",
       "    </tr>\n",
       "    <tr>\n",
       "        <td>MD</td>\n",
       "        <td>Mon</td>\n",
       "        <td>333</td>\n",
       "    </tr>\n",
       "    <tr>\n",
       "        <td>Osteopathy</td>\n",
       "        <td>Mon</td>\n",
       "        <td>26</td>\n",
       "    </tr>\n",
       "    <tr>\n",
       "        <td>MD</td>\n",
       "        <td>Wed</td>\n",
       "        <td>354</td>\n",
       "    </tr>\n",
       "    <tr>\n",
       "        <td>MD</td>\n",
       "        <td>Th</td>\n",
       "        <td>367</td>\n",
       "    </tr>\n",
       "    <tr>\n",
       "        <td>Osteopathy</td>\n",
       "        <td>Wed</td>\n",
       "        <td>23</td>\n",
       "    </tr>\n",
       "    <tr>\n",
       "        <td>Osteopathy</td>\n",
       "        <td>Th</td>\n",
       "        <td>29</td>\n",
       "    </tr>\n",
       "    <tr>\n",
       "        <td>None</td>\n",
       "        <td>Sat</td>\n",
       "        <td>1</td>\n",
       "    </tr>\n",
       "    <tr>\n",
       "        <td>Other Midwife</td>\n",
       "        <td>Wed</td>\n",
       "        <td>1</td>\n",
       "    </tr>\n",
       "    <tr>\n",
       "        <td>Other Midwife</td>\n",
       "        <td>Mon</td>\n",
       "        <td>3</td>\n",
       "    </tr>\n",
       "    <tr>\n",
       "        <td>Certified Nurse or Midwife</td>\n",
       "        <td>Mon</td>\n",
       "        <td>39</td>\n",
       "    </tr>\n",
       "    <tr>\n",
       "        <td>None</td>\n",
       "        <td>Tu</td>\n",
       "        <td>4</td>\n",
       "    </tr>\n",
       "    <tr>\n",
       "        <td>Certified Nurse or Midwife</td>\n",
       "        <td>Wed</td>\n",
       "        <td>35</td>\n",
       "    </tr>\n",
       "    <tr>\n",
       "        <td>Certified Nurse or Midwife</td>\n",
       "        <td>Th</td>\n",
       "        <td>34</td>\n",
       "    </tr>\n",
       "    <tr>\n",
       "        <td>MD</td>\n",
       "        <td>Sun</td>\n",
       "        <td>233</td>\n",
       "    </tr>\n",
       "    <tr>\n",
       "        <td>Osteopathy</td>\n",
       "        <td>Sun</td>\n",
       "        <td>13</td>\n",
       "    </tr>\n",
       "    <tr>\n",
       "        <td>None</td>\n",
       "        <td>Fri</td>\n",
       "        <td>3</td>\n",
       "    </tr>\n",
       "    <tr>\n",
       "        <td>Other Midwife</td>\n",
       "        <td>Sun</td>\n",
       "        <td>3</td>\n",
       "    </tr>\n",
       "    <tr>\n",
       "        <td>MD</td>\n",
       "        <td>Fri</td>\n",
       "        <td>362</td>\n",
       "    </tr>\n",
       "    <tr>\n",
       "        <td>Osteopathy</td>\n",
       "        <td>Fri</td>\n",
       "        <td>30</td>\n",
       "    </tr>\n",
       "</table>"
      ],
      "text/plain": [
       "[(u'Other Midwife', u'Tu', 2L),\n",
       " (None, u'Sun', 2L),\n",
       " (u'Other Midwife', u'Fri', 1L),\n",
       " (u'MD', u'Tu', 381L),\n",
       " (u'Osteopathy', u'Tu', 23L),\n",
       " (u'Certified Nurse or Midwife', u'Sat', 38L),\n",
       " (u'Other Midwife', u'Sat', 3L),\n",
       " (u'Certified Nurse or Midwife', u'Fri', 33L),\n",
       " (u'Certified Nurse or Midwife', u'Tu', 39L),\n",
       " (None, u'Mon', 2L),\n",
       " (u'MD', u'Sat', 255L),\n",
       " (None, u'Wed', 2L),\n",
       " (u'Osteopathy', u'Sat', 10L),\n",
       " (None, u'Th', 2L),\n",
       " (u'Certified Nurse or Midwife', u'Sun', 30L),\n",
       " (u'MD', u'Mon', 333L),\n",
       " (u'Osteopathy', u'Mon', 26L),\n",
       " (u'MD', u'Wed', 354L),\n",
       " (u'MD', u'Th', 367L),\n",
       " (u'Osteopathy', u'Wed', 23L),\n",
       " (u'Osteopathy', u'Th', 29L),\n",
       " (None, u'Sat', 1L),\n",
       " (u'Other Midwife', u'Wed', 1L),\n",
       " (u'Other Midwife', u'Mon', 3L),\n",
       " (u'Certified Nurse or Midwife', u'Mon', 39L),\n",
       " (None, u'Tu', 4L),\n",
       " (u'Certified Nurse or Midwife', u'Wed', 35L),\n",
       " (u'Certified Nurse or Midwife', u'Th', 34L),\n",
       " (u'MD', u'Sun', 233L),\n",
       " (u'Osteopathy', u'Sun', 13L),\n",
       " (None, u'Fri', 3L),\n",
       " (u'Other Midwife', u'Sun', 3L),\n",
       " (u'MD', u'Fri', 362L),\n",
       " (u'Osteopathy', u'Fri', 30L)]"
      ]
     },
     "execution_count": 25,
     "metadata": {},
     "output_type": "execute_result"
    }
   ],
   "source": [
    "%%sql\n",
    "SELECT attendant, day, COUNT(*) as count\n",
    "FROM birth_data_table\n",
    "GROUP BY attendant, day"
   ]
  },
  {
   "cell_type": "markdown",
   "metadata": {},
   "source": [
    "That query gave us a long-form table, but we want a short-form table, where row-level information is converted into columns."
   ]
  },
  {
   "cell_type": "markdown",
   "metadata": {},
   "source": [
    "CROSSTAB (short for cross tabulation) is the PostgreSQL version of PIVOT, demonstrated below. First, load the extension - this needs to be done once per database. Note: you need to be logged in as a superuser to do this."
   ]
  },
  {
   "cell_type": "code",
   "execution_count": 44,
   "metadata": {
    "collapsed": false
   },
   "outputs": [
    {
     "name": "stdout",
     "output_type": "stream",
     "text": [
      "Done.\n"
     ]
    },
    {
     "data": {
      "text/plain": [
       "[]"
      ]
     },
     "execution_count": 44,
     "metadata": {},
     "output_type": "execute_result"
    }
   ],
   "source": [
    "%sql CREATE EXTENSION tablefunc"
   ]
  },
  {
   "cell_type": "markdown",
   "metadata": {},
   "source": [
    "First, find the distinct values for the column of interest. We will hard-code these as the new columns."
   ]
  },
  {
   "cell_type": "code",
   "execution_count": 45,
   "metadata": {
    "collapsed": false
   },
   "outputs": [
    {
     "name": "stdout",
     "output_type": "stream",
     "text": [
      "7 rows affected.\n"
     ]
    },
    {
     "data": {
      "text/html": [
       "<table>\n",
       "    <tr>\n",
       "        <th>day</th>\n",
       "    </tr>\n",
       "    <tr>\n",
       "        <td>Tu</td>\n",
       "    </tr>\n",
       "    <tr>\n",
       "        <td>Sat</td>\n",
       "    </tr>\n",
       "    <tr>\n",
       "        <td>Mon</td>\n",
       "    </tr>\n",
       "    <tr>\n",
       "        <td>Wed</td>\n",
       "    </tr>\n",
       "    <tr>\n",
       "        <td>Sun</td>\n",
       "    </tr>\n",
       "    <tr>\n",
       "        <td>Th</td>\n",
       "    </tr>\n",
       "    <tr>\n",
       "        <td>Fri</td>\n",
       "    </tr>\n",
       "</table>"
      ],
      "text/plain": [
       "[(u'Tu',), (u'Sat',), (u'Mon',), (u'Wed',), (u'Sun',), (u'Th',), (u'Fri',)]"
      ]
     },
     "execution_count": 45,
     "metadata": {},
     "output_type": "execute_result"
    }
   ],
   "source": [
    "%sql SELECT DISTINCT day FROM birth_data_table"
   ]
  },
  {
   "cell_type": "code",
   "execution_count": 54,
   "metadata": {
    "collapsed": false
   },
   "outputs": [
    {
     "name": "stdout",
     "output_type": "stream",
     "text": [
      "5 rows affected.\n"
     ]
    },
    {
     "data": {
      "text/html": [
       "<table>\n",
       "    <tr>\n",
       "        <th>Attendant</th>\n",
       "        <th>Sun</th>\n",
       "        <th>Mon</th>\n",
       "        <th>Tu</th>\n",
       "        <th>Wed</th>\n",
       "        <th>Th</th>\n",
       "        <th>Fri</th>\n",
       "        <th>Sat</th>\n",
       "    </tr>\n",
       "    <tr>\n",
       "        <td>Certified Nurse or Midwife</td>\n",
       "        <td>30</td>\n",
       "        <td>39</td>\n",
       "        <td>39</td>\n",
       "        <td>35</td>\n",
       "        <td>34</td>\n",
       "        <td>33</td>\n",
       "        <td>38</td>\n",
       "    </tr>\n",
       "    <tr>\n",
       "        <td>MD</td>\n",
       "        <td>233</td>\n",
       "        <td>333</td>\n",
       "        <td>381</td>\n",
       "        <td>354</td>\n",
       "        <td>367</td>\n",
       "        <td>362</td>\n",
       "        <td>255</td>\n",
       "    </tr>\n",
       "    <tr>\n",
       "        <td>Osteopathy</td>\n",
       "        <td>13</td>\n",
       "        <td>26</td>\n",
       "        <td>23</td>\n",
       "        <td>23</td>\n",
       "        <td>29</td>\n",
       "        <td>30</td>\n",
       "        <td>10</td>\n",
       "    </tr>\n",
       "    <tr>\n",
       "        <td>Other Midwife</td>\n",
       "        <td>3</td>\n",
       "        <td>3</td>\n",
       "        <td>2</td>\n",
       "        <td>1</td>\n",
       "        <td>None</td>\n",
       "        <td>1</td>\n",
       "        <td>3</td>\n",
       "    </tr>\n",
       "    <tr>\n",
       "        <td>None</td>\n",
       "        <td>2</td>\n",
       "        <td>2</td>\n",
       "        <td>4</td>\n",
       "        <td>2</td>\n",
       "        <td>2</td>\n",
       "        <td>3</td>\n",
       "        <td>1</td>\n",
       "    </tr>\n",
       "</table>"
      ],
      "text/plain": [
       "[(u'Certified Nurse or Midwife', u'30', u'39', u'39', u'35', u'34', u'33', u'38'),\n",
       " (u'MD', u'233', u'333', u'381', u'354', u'367', u'362', u'255'),\n",
       " (u'Osteopathy', u'13', u'26', u'23', u'23', u'29', u'30', u'10'),\n",
       " (u'Other Midwife', u'3', u'3', u'2', u'1', None, u'1', u'3'),\n",
       " (None, u'2', u'2', u'4', u'2', u'2', u'3', u'1')]"
      ]
     },
     "execution_count": 54,
     "metadata": {},
     "output_type": "execute_result"
    }
   ],
   "source": [
    "%%sql\n",
    "SELECT *\n",
    "FROM crosstab(\n",
    "    'SELECT attendant, day, COUNT(*) as ct FROM birth_data_table GROUP BY attendant, day ORDER BY 1,2'\n",
    "      -- below, we list all the unique values in day\n",
    "      -- these will become the columns\n",
    "      -- hard-coding them ensures that the order matches what we specify later\n",
    ",$$VALUES ('Sun'::text), ('Mon'::text), ('Tu'::text), ('Wed'::text), ('Th'::text), ('Fri'::text), ('Sat'::text)$$\n",
    ")\n",
    "AS ct (\n",
    "  -- first column has each unique value for the rows\n",
    "\"Attendant\" text,\n",
    "  -- now we list the columns\n",
    "\"Sun\" text, \"Mon\" text, \"Tu\" text, \"Wed\" text, \"Th\" text, \"Fri\" text, \"Sat\" text\n",
    ");"
   ]
  },
  {
   "cell_type": "markdown",
   "metadata": {},
   "source": [
    "For more details, see: https://stackoverflow.com/questions/3002499/postgresql-crosstab-query/11751905#11751905"
   ]
  },
  {
   "cell_type": "markdown",
   "metadata": {},
   "source": [
    "Testing date calculations"
   ]
  },
  {
   "cell_type": "code",
   "execution_count": 18,
   "metadata": {
    "collapsed": false
   },
   "outputs": [
    {
     "name": "stdout",
     "output_type": "stream",
     "text": [
      "5 rows affected.\n"
     ]
    },
    {
     "data": {
      "text/html": [
       "<table>\n",
       "    <tr>\n",
       "        <th>index</th>\n",
       "        <th>alcohol_use</th>\n",
       "        <th>anencephaly</th>\n",
       "        <th>attendant</th>\n",
       "        <th>birth_loc_type</th>\n",
       "        <th>birth_month</th>\n",
       "        <th>birth_state</th>\n",
       "        <th>birth_weight</th>\n",
       "        <th>birth_year</th>\n",
       "        <th>cigarette_use</th>\n",
       "        <th>cigarettes_per_day</th>\n",
       "        <th>cigarettes_trimester1</th>\n",
       "        <th>cigarettes_trimester2</th>\n",
       "        <th>cigarettes_trimester3</th>\n",
       "        <th>day</th>\n",
       "        <th>delivery_method</th>\n",
       "        <th>downs syndrome</th>\n",
       "        <th>drinks_per_week</th>\n",
       "        <th>father_age</th>\n",
       "        <th>father_race</th>\n",
       "        <th>gestation_weeks</th>\n",
       "        <th>infant_sex</th>\n",
       "        <th>mother_age</th>\n",
       "        <th>mother_birth_country</th>\n",
       "        <th>mother_birth_state</th>\n",
       "        <th>mother_education</th>\n",
       "        <th>mother_marital_status</th>\n",
       "        <th>mother_race</th>\n",
       "        <th>mother_state</th>\n",
       "        <th>population</th>\n",
       "        <th>pregnancy_weight</th>\n",
       "        <th>resident</th>\n",
       "        <th>revision</th>\n",
       "        <th>spina_bifida</th>\n",
       "        <th>table</th>\n",
       "        <th>timestamp</th>\n",
       "        <th>uses_tobacco</th>\n",
       "        <th>weight_gain</th>\n",
       "        <th>age</th>\n",
       "    </tr>\n",
       "    <tr>\n",
       "        <td>0</td>\n",
       "        <td>None</td>\n",
       "        <td>None</td>\n",
       "        <td>MD</td>\n",
       "        <td>None</td>\n",
       "        <td>Jan</td>\n",
       "        <td>None</td>\n",
       "        <td>4500.0</td>\n",
       "        <td>2012</td>\n",
       "        <td>None</td>\n",
       "        <td>None</td>\n",
       "        <td>None</td>\n",
       "        <td>None</td>\n",
       "        <td>None</td>\n",
       "        <td>Fri</td>\n",
       "        <td>Vaginal</td>\n",
       "        <td>None</td>\n",
       "        <td>None</td>\n",
       "        <td>None</td>\n",
       "        <td>None</td>\n",
       "        <td>40.0</td>\n",
       "        <td>M</td>\n",
       "        <td>32</td>\n",
       "        <td>None</td>\n",
       "        <td>None</td>\n",
       "        <td>None</td>\n",
       "        <td>Yes</td>\n",
       "        <td>White</td>\n",
       "        <td>None</td>\n",
       "        <td>None</td>\n",
       "        <td>None</td>\n",
       "        <td>Resident</td>\n",
       "        <td>S</td>\n",
       "        <td>None</td>\n",
       "        <td>births12.txt</td>\n",
       "        <td>1325405431</td>\n",
       "        <td>None</td>\n",
       "        <td>40.0</td>\n",
       "        <td>5.0</td>\n",
       "    </tr>\n",
       "    <tr>\n",
       "        <td>1</td>\n",
       "        <td>None</td>\n",
       "        <td>None</td>\n",
       "        <td>MD</td>\n",
       "        <td>None</td>\n",
       "        <td>Jan</td>\n",
       "        <td>None</td>\n",
       "        <td>4500.0</td>\n",
       "        <td>2012</td>\n",
       "        <td>None</td>\n",
       "        <td>None</td>\n",
       "        <td>None</td>\n",
       "        <td>None</td>\n",
       "        <td>None</td>\n",
       "        <td>Wed</td>\n",
       "        <td>Cesarean</td>\n",
       "        <td>None</td>\n",
       "        <td>None</td>\n",
       "        <td>None</td>\n",
       "        <td>None</td>\n",
       "        <td>39.0</td>\n",
       "        <td>F</td>\n",
       "        <td>28</td>\n",
       "        <td>None</td>\n",
       "        <td>None</td>\n",
       "        <td>None</td>\n",
       "        <td>Yes</td>\n",
       "        <td>White</td>\n",
       "        <td>None</td>\n",
       "        <td>None</td>\n",
       "        <td>None</td>\n",
       "        <td>Intra-State/Territor Non-resident (diff county)</td>\n",
       "        <td>S</td>\n",
       "        <td>None</td>\n",
       "        <td>births12.txt</td>\n",
       "        <td>1325882986</td>\n",
       "        <td>None</td>\n",
       "        <td>49.0</td>\n",
       "        <td>5.0</td>\n",
       "    </tr>\n",
       "    <tr>\n",
       "        <td>2</td>\n",
       "        <td>None</td>\n",
       "        <td>None</td>\n",
       "        <td>MD</td>\n",
       "        <td>None</td>\n",
       "        <td>Jan</td>\n",
       "        <td>None</td>\n",
       "        <td>2500.0</td>\n",
       "        <td>2012</td>\n",
       "        <td>None</td>\n",
       "        <td>None</td>\n",
       "        <td>None</td>\n",
       "        <td>None</td>\n",
       "        <td>None</td>\n",
       "        <td>Sat</td>\n",
       "        <td>Cesarean</td>\n",
       "        <td>None</td>\n",
       "        <td>None</td>\n",
       "        <td>None</td>\n",
       "        <td>None</td>\n",
       "        <td>36.0</td>\n",
       "        <td>M</td>\n",
       "        <td>28</td>\n",
       "        <td>None</td>\n",
       "        <td>None</td>\n",
       "        <td>None</td>\n",
       "        <td>No</td>\n",
       "        <td>Black</td>\n",
       "        <td>None</td>\n",
       "        <td>None</td>\n",
       "        <td>None</td>\n",
       "        <td>Resident</td>\n",
       "        <td>S</td>\n",
       "        <td>None</td>\n",
       "        <td>births12.txt</td>\n",
       "        <td>1326367089</td>\n",
       "        <td>None</td>\n",
       "        <td>30.0</td>\n",
       "        <td>5.0</td>\n",
       "    </tr>\n",
       "    <tr>\n",
       "        <td>3</td>\n",
       "        <td>None</td>\n",
       "        <td>None</td>\n",
       "        <td>MD</td>\n",
       "        <td>None</td>\n",
       "        <td>Jan</td>\n",
       "        <td>None</td>\n",
       "        <td>3000.0</td>\n",
       "        <td>2012</td>\n",
       "        <td>None</td>\n",
       "        <td>None</td>\n",
       "        <td>None</td>\n",
       "        <td>None</td>\n",
       "        <td>None</td>\n",
       "        <td>Sun</td>\n",
       "        <td>Vaginal</td>\n",
       "        <td>None</td>\n",
       "        <td>None</td>\n",
       "        <td>None</td>\n",
       "        <td>None</td>\n",
       "        <td>40.0</td>\n",
       "        <td>M</td>\n",
       "        <td>28</td>\n",
       "        <td>None</td>\n",
       "        <td>None</td>\n",
       "        <td>None</td>\n",
       "        <td>No</td>\n",
       "        <td>Black</td>\n",
       "        <td>None</td>\n",
       "        <td>None</td>\n",
       "        <td>None</td>\n",
       "        <td>Resident</td>\n",
       "        <td>S</td>\n",
       "        <td>None</td>\n",
       "        <td>births12.txt</td>\n",
       "        <td>1326838810</td>\n",
       "        <td>None</td>\n",
       "        <td>15.0</td>\n",
       "        <td>5.0</td>\n",
       "    </tr>\n",
       "    <tr>\n",
       "        <td>4</td>\n",
       "        <td>None</td>\n",
       "        <td>None</td>\n",
       "        <td>MD</td>\n",
       "        <td>None</td>\n",
       "        <td>Jan</td>\n",
       "        <td>None</td>\n",
       "        <td>4000.0</td>\n",
       "        <td>2012</td>\n",
       "        <td>None</td>\n",
       "        <td>None</td>\n",
       "        <td>None</td>\n",
       "        <td>None</td>\n",
       "        <td>None</td>\n",
       "        <td>Th</td>\n",
       "        <td>Vaginal</td>\n",
       "        <td>None</td>\n",
       "        <td>None</td>\n",
       "        <td>None</td>\n",
       "        <td>None</td>\n",
       "        <td>39.0</td>\n",
       "        <td>F</td>\n",
       "        <td>22</td>\n",
       "        <td>None</td>\n",
       "        <td>None</td>\n",
       "        <td>None</td>\n",
       "        <td>No</td>\n",
       "        <td>American Indian</td>\n",
       "        <td>None</td>\n",
       "        <td>None</td>\n",
       "        <td>None</td>\n",
       "        <td>Intra-State/Territor Non-resident (diff county)</td>\n",
       "        <td>S</td>\n",
       "        <td>None</td>\n",
       "        <td>births12.txt</td>\n",
       "        <td>1327339729</td>\n",
       "        <td>None</td>\n",
       "        <td>48.0</td>\n",
       "        <td>5.0</td>\n",
       "    </tr>\n",
       "</table>"
      ],
      "text/plain": [
       "[(0L, None, None, u'MD', None, u'Jan', None, 4500.0, 2012L, None, None, None, None, None, u'Fri', u'Vaginal', None, None, None, None, 40.0, u'M', 32L, None, None, None, u'Yes', u'White', None, None, None, u'Resident', u'S', None, u'births12.txt', 1325405431L, None, 40.0, 5.0),\n",
       " (1L, None, None, u'MD', None, u'Jan', None, 4500.0, 2012L, None, None, None, None, None, u'Wed', u'Cesarean', None, None, None, None, 39.0, u'F', 28L, None, None, None, u'Yes', u'White', None, None, None, u'Intra-State/Territor Non-resident (diff county)', u'S', None, u'births12.txt', 1325882986L, None, 49.0, 5.0),\n",
       " (2L, None, None, u'MD', None, u'Jan', None, 2500.0, 2012L, None, None, None, None, None, u'Sat', u'Cesarean', None, None, None, None, 36.0, u'M', 28L, None, None, None, u'No', u'Black', None, None, None, u'Resident', u'S', None, u'births12.txt', 1326367089L, None, 30.0, 5.0),\n",
       " (3L, None, None, u'MD', None, u'Jan', None, 3000.0, 2012L, None, None, None, None, None, u'Sun', u'Vaginal', None, None, None, None, 40.0, u'M', 28L, None, None, None, u'No', u'Black', None, None, None, u'Resident', u'S', None, u'births12.txt', 1326838810L, None, 15.0, 5.0),\n",
       " (4L, None, None, u'MD', None, u'Jan', None, 4000.0, 2012L, None, None, None, None, None, u'Th', u'Vaginal', None, None, None, None, 39.0, u'F', 22L, None, None, None, u'No', u'American Indian', None, None, None, u'Intra-State/Territor Non-resident (diff county)', u'S', None, u'births12.txt', 1327339729L, None, 48.0, 5.0)]"
      ]
     },
     "execution_count": 18,
     "metadata": {},
     "output_type": "execute_result"
    }
   ],
   "source": [
    "%%sql\n",
    "SELECT *, (EXTRACT(year FROM current_date) - birth_year) AS age\n",
    "FROM birth_data_table\n",
    "LIMIT 5"
   ]
  },
  {
   "cell_type": "code",
   "execution_count": 14,
   "metadata": {
    "collapsed": false
   },
   "outputs": [
    {
     "name": "stdout",
     "output_type": "stream",
     "text": [
      "1 rows affected.\n"
     ]
    },
    {
     "data": {
      "text/html": [
       "<table>\n",
       "    <tr>\n",
       "        <th>date_part</th>\n",
       "    </tr>\n",
       "    <tr>\n",
       "        <td>2017.0</td>\n",
       "    </tr>\n",
       "</table>"
      ],
      "text/plain": [
       "[(2017.0,)]"
      ]
     },
     "execution_count": 14,
     "metadata": {},
     "output_type": "execute_result"
    }
   ],
   "source": [
    "%sql SELECT EXTRACT(year FROM CURRENT_DATE)"
   ]
  },
  {
   "cell_type": "code",
   "execution_count": 28,
   "metadata": {
    "collapsed": false
   },
   "outputs": [
    {
     "name": "stdout",
     "output_type": "stream",
     "text": [
      "1 rows affected.\n"
     ]
    },
    {
     "data": {
      "text/html": [
       "<table>\n",
       "    <tr>\n",
       "        <th>avg</th>\n",
       "        <th>min</th>\n",
       "        <th>max</th>\n",
       "    </tr>\n",
       "    <tr>\n",
       "        <td>5.0</td>\n",
       "        <td>5.0</td>\n",
       "        <td>5.0</td>\n",
       "    </tr>\n",
       "</table>"
      ],
      "text/plain": [
       "[(5.0, 5.0, 5.0)]"
      ]
     },
     "execution_count": 28,
     "metadata": {},
     "output_type": "execute_result"
    }
   ],
   "source": [
    "%%sql\n",
    "WITH age_table AS \n",
    "(SELECT birth_month, birth_year, (EXTRACT(year FROM current_date) - birth_year) AS age \n",
    "FROM birth_data_table)\n",
    "SELECT birth_month, AVG(age), MIN(age), MAX(age)\n",
    "FROM age_table\n",
    "GROUP BY birth_month"
   ]
  },
  {
   "cell_type": "code",
   "execution_count": null,
   "metadata": {
    "collapsed": true
   },
   "outputs": [],
   "source": []
  }
 ],
 "metadata": {
  "anaconda-cloud": {},
  "kernelspec": {
   "display_name": "Python [conda env:my_insight_env]",
   "language": "python",
   "name": "conda-env-my_insight_env-py"
  },
  "language_info": {
   "codemirror_mode": {
    "name": "ipython",
    "version": 2
   },
   "file_extension": ".py",
   "mimetype": "text/x-python",
   "name": "python",
   "nbconvert_exporter": "python",
   "pygments_lexer": "ipython2",
   "version": "2.7.13"
  }
 },
 "nbformat": 4,
 "nbformat_minor": 1
}
