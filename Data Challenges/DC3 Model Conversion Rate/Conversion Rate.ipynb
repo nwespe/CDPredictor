{
 "cells": [
  {
   "cell_type": "code",
   "execution_count": 1,
   "metadata": {
    "collapsed": false
   },
   "outputs": [
    {
     "name": "stdout",
     "output_type": "stream",
     "text": [
      "Populating the interactive namespace from numpy and matplotlib\n"
     ]
    }
   ],
   "source": [
    "import pandas as pd\n",
    "import seaborn as sns\n",
    "sns.set(context='poster', font_scale=1.2, style='white')\n",
    "\n",
    "%pylab inline"
   ]
  },
  {
   "cell_type": "markdown",
   "metadata": {},
   "source": [
    "We have data about users who hit our site: whether they converted or not as well as some of\n",
    "their characteristics such as their country, the marketing channel, their age, whether they are\n",
    "repeat users and the number of pages visited during that session (as a proxy for site\n",
    "activity/time spent on site).\n",
    "\n",
    "Your project is to:\n",
    "    - Predict conversion rate\n",
    "    - Come up with recommendations for the product team and the marketing team to improve conversion rate"
   ]
  },
  {
   "cell_type": "code",
   "execution_count": 2,
   "metadata": {
    "collapsed": true
   },
   "outputs": [],
   "source": [
    "conversion_data = pd.read_csv('./conversion_data.csv')"
   ]
  },
  {
   "cell_type": "code",
   "execution_count": 3,
   "metadata": {
    "collapsed": false
   },
   "outputs": [
    {
     "data": {
      "text/html": [
       "<div>\n",
       "<style>\n",
       "    .dataframe thead tr:only-child th {\n",
       "        text-align: right;\n",
       "    }\n",
       "\n",
       "    .dataframe thead th {\n",
       "        text-align: left;\n",
       "    }\n",
       "\n",
       "    .dataframe tbody tr th {\n",
       "        vertical-align: top;\n",
       "    }\n",
       "</style>\n",
       "<table border=\"1\" class=\"dataframe\">\n",
       "  <thead>\n",
       "    <tr style=\"text-align: right;\">\n",
       "      <th></th>\n",
       "      <th>country</th>\n",
       "      <th>age</th>\n",
       "      <th>new_user</th>\n",
       "      <th>source</th>\n",
       "      <th>total_pages_visited</th>\n",
       "      <th>converted</th>\n",
       "    </tr>\n",
       "  </thead>\n",
       "  <tbody>\n",
       "    <tr>\n",
       "      <th>0</th>\n",
       "      <td>UK</td>\n",
       "      <td>25</td>\n",
       "      <td>1</td>\n",
       "      <td>Ads</td>\n",
       "      <td>1</td>\n",
       "      <td>0</td>\n",
       "    </tr>\n",
       "    <tr>\n",
       "      <th>1</th>\n",
       "      <td>US</td>\n",
       "      <td>23</td>\n",
       "      <td>1</td>\n",
       "      <td>Seo</td>\n",
       "      <td>5</td>\n",
       "      <td>0</td>\n",
       "    </tr>\n",
       "    <tr>\n",
       "      <th>2</th>\n",
       "      <td>US</td>\n",
       "      <td>28</td>\n",
       "      <td>1</td>\n",
       "      <td>Seo</td>\n",
       "      <td>4</td>\n",
       "      <td>0</td>\n",
       "    </tr>\n",
       "    <tr>\n",
       "      <th>3</th>\n",
       "      <td>China</td>\n",
       "      <td>39</td>\n",
       "      <td>1</td>\n",
       "      <td>Seo</td>\n",
       "      <td>5</td>\n",
       "      <td>0</td>\n",
       "    </tr>\n",
       "    <tr>\n",
       "      <th>4</th>\n",
       "      <td>US</td>\n",
       "      <td>30</td>\n",
       "      <td>1</td>\n",
       "      <td>Seo</td>\n",
       "      <td>6</td>\n",
       "      <td>0</td>\n",
       "    </tr>\n",
       "  </tbody>\n",
       "</table>\n",
       "</div>"
      ],
      "text/plain": [
       "  country  age  new_user source  total_pages_visited  converted\n",
       "0      UK   25         1    Ads                    1          0\n",
       "1      US   23         1    Seo                    5          0\n",
       "2      US   28         1    Seo                    4          0\n",
       "3   China   39         1    Seo                    5          0\n",
       "4      US   30         1    Seo                    6          0"
      ]
     },
     "execution_count": 3,
     "metadata": {},
     "output_type": "execute_result"
    }
   ],
   "source": [
    "conversion_data.head()"
   ]
  },
  {
   "cell_type": "code",
   "execution_count": 4,
   "metadata": {
    "collapsed": false
   },
   "outputs": [
    {
     "data": {
      "text/html": [
       "<div>\n",
       "<style>\n",
       "    .dataframe thead tr:only-child th {\n",
       "        text-align: right;\n",
       "    }\n",
       "\n",
       "    .dataframe thead th {\n",
       "        text-align: left;\n",
       "    }\n",
       "\n",
       "    .dataframe tbody tr th {\n",
       "        vertical-align: top;\n",
       "    }\n",
       "</style>\n",
       "<table border=\"1\" class=\"dataframe\">\n",
       "  <thead>\n",
       "    <tr style=\"text-align: right;\">\n",
       "      <th></th>\n",
       "      <th>country</th>\n",
       "      <th>age</th>\n",
       "      <th>new_user</th>\n",
       "      <th>source</th>\n",
       "      <th>total_pages_visited</th>\n",
       "    </tr>\n",
       "    <tr>\n",
       "      <th>converted</th>\n",
       "      <th></th>\n",
       "      <th></th>\n",
       "      <th></th>\n",
       "      <th></th>\n",
       "      <th></th>\n",
       "    </tr>\n",
       "  </thead>\n",
       "  <tbody>\n",
       "    <tr>\n",
       "      <th>0</th>\n",
       "      <td>306000</td>\n",
       "      <td>306000</td>\n",
       "      <td>306000</td>\n",
       "      <td>306000</td>\n",
       "      <td>306000</td>\n",
       "    </tr>\n",
       "    <tr>\n",
       "      <th>1</th>\n",
       "      <td>10200</td>\n",
       "      <td>10200</td>\n",
       "      <td>10200</td>\n",
       "      <td>10200</td>\n",
       "      <td>10200</td>\n",
       "    </tr>\n",
       "  </tbody>\n",
       "</table>\n",
       "</div>"
      ],
      "text/plain": [
       "           country     age  new_user  source  total_pages_visited\n",
       "converted                                                        \n",
       "0           306000  306000    306000  306000               306000\n",
       "1            10200   10200     10200   10200                10200"
      ]
     },
     "execution_count": 4,
     "metadata": {},
     "output_type": "execute_result"
    }
   ],
   "source": [
    "conversion_data.groupby(['converted']).count()"
   ]
  },
  {
   "cell_type": "markdown",
   "metadata": {},
   "source": [
    "One thing that would be good information to have is to link multiple visits by the same user. Right now, I only know if they have visited the site before, but not the details of previous visits. Since I don't have temporal information either, it makes sense to not know about previous visits."
   ]
  },
  {
   "cell_type": "markdown",
   "metadata": {},
   "source": [
    "So I'll create a model with 'converted' as the outcome to predict and each of the remaining columns as a feature. Let's see what our unique values are for each column, since there will be some one hot encoding involved."
   ]
  },
  {
   "cell_type": "code",
   "execution_count": 5,
   "metadata": {
    "collapsed": false
   },
   "outputs": [
    {
     "name": "stdout",
     "output_type": "stream",
     "text": [
      "['China' 'Germany' 'UK' 'US']\n",
      "[ 17  18  19  20  21  22  23  24  25  26  27  28  29  30  31  32  33  34\n",
      "  35  36  37  38  39  40  41  42  43  44  45  46  47  48  49  50  51  52\n",
      "  53  54  55  56  57  58  59  60  61  62  63  64  65  66  67  68  69  70\n",
      "  72  73  77  79 111 123]\n",
      "[0 1]\n",
      "['Ads' 'Direct' 'Seo']\n",
      "[ 1  2  3  4  5  6  7  8  9 10 11 12 13 14 15 16 17 18 19 20 21 22 23 24 25\n",
      " 26 27 28 29]\n",
      "[0 1]\n"
     ]
    }
   ],
   "source": [
    "for col in conversion_data.columns:\n",
    "    print unique(conversion_data[col].values)"
   ]
  },
  {
   "cell_type": "markdown",
   "metadata": {},
   "source": [
    "I should take care of those age outliers (111, 123) - I'll just replace with NaN"
   ]
  },
  {
   "cell_type": "code",
   "execution_count": 6,
   "metadata": {
    "collapsed": false
   },
   "outputs": [
    {
     "data": {
      "text/plain": [
       "array([ 17.,  18.,  19.,  20.,  21.,  22.,  23.,  24.,  25.,  26.,  27.,\n",
       "        28.,  29.,  30.,  31.,  32.,  33.,  34.,  35.,  36.,  37.,  38.,\n",
       "        39.,  40.,  41.,  42.,  43.,  44.,  45.,  46.,  47.,  48.,  49.,\n",
       "        50.,  51.,  52.,  53.,  54.,  55.,  56.,  57.,  58.,  59.,  60.,\n",
       "        61.,  62.,  63.,  64.,  65.,  66.,  67.,  68.,  69.,  70.,  72.,\n",
       "        73.,  77.,  79.,  nan,  nan])"
      ]
     },
     "execution_count": 6,
     "metadata": {},
     "output_type": "execute_result"
    }
   ],
   "source": [
    "conversion_data['age'].replace(to_replace=[111,123], value=np.nan, inplace=True)\n",
    "unique(conversion_data['age'].values)"
   ]
  },
  {
   "cell_type": "code",
   "execution_count": 8,
   "metadata": {
    "collapsed": false
   },
   "outputs": [
    {
     "data": {
      "image/png": "[encoded data removed]",
      "text/plain": [
       "<matplotlib.figure.Figure at 0x119b08c90>"
      ]
     },
     "metadata": {},
     "output_type": "display_data"
    }
   ],
   "source": [
    "nrows = len(conversion_data.columns)-1\n",
    "fig, axes = plt.subplots(nrows, 2, figsize=(12, nrows*4))\n",
    "fig.tight_layout()\n",
    "fig.subplots_adjust(wspace=0.5, hspace=0.5)\n",
    "for i, col in enumerate(conversion_data.columns[:-1]):\n",
    "    data_series = conversion_data.groupby([col])['converted'].aggregate(['mean', 'count'])\n",
    "    data_converted = data_series.reset_index()\n",
    "    sns.barplot(x=col, y='mean', data=data_converted, ax=axes[i, 0])\n",
    "    sns.barplot(x=col, y='count', data=data_converted, ax=axes[i, 1])\n",
    "#data_converted.head()\n",
    "axes[0, 0].set_title('Mean conversion rate')\n",
    "axes[0, 1].set_title('Value count')\n",
    "plt.show()"
   ]
  },
  {
   "cell_type": "markdown",
   "metadata": {},
   "source": [
    "Most visitors are new but are much less likely to convert than a repeat visitor. That makes sense. Weirdly, the visitors coming from ads or search engine have a higher conversion rate than visitors directly typing in the url. I wonder how new vs. repeat visitors are accessing the site."
   ]
  },
  {
   "cell_type": "code",
   "execution_count": 34,
   "metadata": {
    "collapsed": false
   },
   "outputs": [
    {
     "data": {
      "image/png": "[encoded data removed]",
      "text/plain": [
       "<matplotlib.figure.Figure at 0x122fd3050>"
      ]
     },
     "metadata": {},
     "output_type": "display_data"
    }
   ],
   "source": [
    "data_series = conversion_data.groupby(['source', 'new_user'])['new_user'].aggregate(['count'])\n",
    "data_converted = data_series.reset_index()\n",
    "sns.factorplot(x='source', y='count', data=data_converted, hue='new_user', kind='bar', size=3, aspect=2)\n",
    "plt.show()"
   ]
  },
  {
   "cell_type": "code",
   "execution_count": 37,
   "metadata": {
    "collapsed": false
   },
   "outputs": [
    {
     "data": {
      "text/html": [
       "<div>\n",
       "<style>\n",
       "    .dataframe thead tr:only-child th {\n",
       "        text-align: right;\n",
       "    }\n",
       "\n",
       "    .dataframe thead th {\n",
       "        text-align: left;\n",
       "    }\n",
       "\n",
       "    .dataframe tbody tr th {\n",
       "        vertical-align: top;\n",
       "    }\n",
       "</style>\n",
       "<table border=\"1\" class=\"dataframe\">\n",
       "  <thead>\n",
       "    <tr style=\"text-align: right;\">\n",
       "      <th></th>\n",
       "      <th></th>\n",
       "      <th>count</th>\n",
       "      <th>pct</th>\n",
       "    </tr>\n",
       "    <tr>\n",
       "      <th>source</th>\n",
       "      <th>new_user</th>\n",
       "      <th></th>\n",
       "      <th></th>\n",
       "    </tr>\n",
       "  </thead>\n",
       "  <tbody>\n",
       "    <tr>\n",
       "      <th rowspan=\"2\" valign=\"top\">Ads</th>\n",
       "      <th>0</th>\n",
       "      <td>27891</td>\n",
       "      <td>31.430020</td>\n",
       "    </tr>\n",
       "    <tr>\n",
       "      <th>1</th>\n",
       "      <td>60849</td>\n",
       "      <td>68.569980</td>\n",
       "    </tr>\n",
       "    <tr>\n",
       "      <th rowspan=\"2\" valign=\"top\">Direct</th>\n",
       "      <th>0</th>\n",
       "      <td>22678</td>\n",
       "      <td>31.314554</td>\n",
       "    </tr>\n",
       "    <tr>\n",
       "      <th>1</th>\n",
       "      <td>49742</td>\n",
       "      <td>68.685446</td>\n",
       "    </tr>\n",
       "    <tr>\n",
       "      <th rowspan=\"2\" valign=\"top\">Seo</th>\n",
       "      <th>0</th>\n",
       "      <td>48887</td>\n",
       "      <td>31.531863</td>\n",
       "    </tr>\n",
       "    <tr>\n",
       "      <th>1</th>\n",
       "      <td>106153</td>\n",
       "      <td>68.468137</td>\n",
       "    </tr>\n",
       "  </tbody>\n",
       "</table>\n",
       "</div>"
      ],
      "text/plain": [
       "                  count        pct\n",
       "source new_user                   \n",
       "Ads    0          27891  31.430020\n",
       "       1          60849  68.569980\n",
       "Direct 0          22678  31.314554\n",
       "       1          49742  68.685446\n",
       "Seo    0          48887  31.531863\n",
       "       1         106153  68.468137"
      ]
     },
     "execution_count": 37,
     "metadata": {},
     "output_type": "execute_result"
    }
   ],
   "source": [
    "source_counts = data_series.groupby(['source']).agg({'count': 'sum'})\n",
    "data_series['pct'] = data_series.div(source_counts, level='source') * 100"
   ]
  },
  {
   "cell_type": "markdown",
   "metadata": {},
   "source": [
    "Okay, looks like source won't be an informative feature."
   ]
  },
  {
   "cell_type": "markdown",
   "metadata": {},
   "source": [
    "Here are some histograms for the non-binary features."
   ]
  },
  {
   "cell_type": "code",
   "execution_count": 38,
   "metadata": {
    "collapsed": false
   },
   "outputs": [
    {
     "data": {
      "image/png": "[encoded data removed]",
      "text/plain": [
       "<matplotlib.figure.Figure at 0x122fd38d0>"
      ]
     },
     "metadata": {},
     "output_type": "display_data"
    }
   ],
   "source": [
    "yes = conversion_data[conversion_data['converted'] == 1]\n",
    "no = conversion_data[conversion_data['converted'] == 0]\n",
    "fig, axes = plt.subplots(1, 2, figsize=(12, 4))\n",
    "fig.tight_layout()\n",
    "fig.subplots_adjust(wspace=0.5, hspace=0.5)\n",
    "for i, f in enumerate(['age', 'total_pages_visited']):\n",
    "    axes[i].hist(no[f].dropna(), alpha=1)\n",
    "    axes[i].hist(yes[f].dropna(), alpha=1)\n",
    "    axes[i].set_xlabel(f)\n",
    "plt.show()"
   ]
  },
  {
   "cell_type": "code",
   "execution_count": 39,
   "metadata": {
    "collapsed": false
   },
   "outputs": [
    {
     "name": "stdout",
     "output_type": "stream",
     "text": [
      "                mean\n",
      "converted           \n",
      "0          30.703961\n",
      "1          26.529025\n"
     ]
    }
   ],
   "source": [
    "print conversion_data.groupby(['converted'])['age'].aggregate(['mean'])"
   ]
  },
  {
   "cell_type": "markdown",
   "metadata": {},
   "source": [
    "## Summary of EDA"
   ]
  },
  {
   "cell_type": "markdown",
   "metadata": {},
   "source": [
    "From plotting the conversion rates for different subsets of users based on each feature, it looks like most features (other than source) will have some predictive power. Probably an easy modeling problem."
   ]
  },
  {
   "cell_type": "markdown",
   "metadata": {},
   "source": [
    "# Modeling"
   ]
  },
  {
   "cell_type": "markdown",
   "metadata": {},
   "source": [
    "I will start with using a couple different classification models to predict whether or not a site visitor will convert. First I will one-hot encode the data and arrange into an array using patsy."
   ]
  },
  {
   "cell_type": "code",
   "execution_count": 40,
   "metadata": {
    "collapsed": false
   },
   "outputs": [],
   "source": [
    "import patsy\n",
    "# the '-1' term refers to not adding an intercept column (a column of all 1s).\n",
    "y, X = patsy.dmatrices('converted ~ country + age + new_user + source + total_pages_visited -1', conversion_data, return_type='dataframe')"
   ]
  },
  {
   "cell_type": "code",
   "execution_count": 41,
   "metadata": {
    "collapsed": false
   },
   "outputs": [
    {
     "data": {
      "text/html": [
       "<div>\n",
       "<style>\n",
       "    .dataframe thead tr:only-child th {\n",
       "        text-align: right;\n",
       "    }\n",
       "\n",
       "    .dataframe thead th {\n",
       "        text-align: left;\n",
       "    }\n",
       "\n",
       "    .dataframe tbody tr th {\n",
       "        vertical-align: top;\n",
       "    }\n",
       "</style>\n",
       "<table border=\"1\" class=\"dataframe\">\n",
       "  <thead>\n",
       "    <tr style=\"text-align: right;\">\n",
       "      <th></th>\n",
       "      <th>country[China]</th>\n",
       "      <th>country[Germany]</th>\n",
       "      <th>country[UK]</th>\n",
       "      <th>country[US]</th>\n",
       "      <th>source[T.Direct]</th>\n",
       "      <th>source[T.Seo]</th>\n",
       "      <th>age</th>\n",
       "      <th>new_user</th>\n",
       "      <th>total_pages_visited</th>\n",
       "    </tr>\n",
       "  </thead>\n",
       "  <tbody>\n",
       "    <tr>\n",
       "      <th>0</th>\n",
       "      <td>0.0</td>\n",
       "      <td>0.0</td>\n",
       "      <td>1.0</td>\n",
       "      <td>0.0</td>\n",
       "      <td>0.0</td>\n",
       "      <td>0.0</td>\n",
       "      <td>25.0</td>\n",
       "      <td>1.0</td>\n",
       "      <td>1.0</td>\n",
       "    </tr>\n",
       "    <tr>\n",
       "      <th>1</th>\n",
       "      <td>0.0</td>\n",
       "      <td>0.0</td>\n",
       "      <td>0.0</td>\n",
       "      <td>1.0</td>\n",
       "      <td>0.0</td>\n",
       "      <td>1.0</td>\n",
       "      <td>23.0</td>\n",
       "      <td>1.0</td>\n",
       "      <td>5.0</td>\n",
       "    </tr>\n",
       "    <tr>\n",
       "      <th>2</th>\n",
       "      <td>0.0</td>\n",
       "      <td>0.0</td>\n",
       "      <td>0.0</td>\n",
       "      <td>1.0</td>\n",
       "      <td>0.0</td>\n",
       "      <td>1.0</td>\n",
       "      <td>28.0</td>\n",
       "      <td>1.0</td>\n",
       "      <td>4.0</td>\n",
       "    </tr>\n",
       "    <tr>\n",
       "      <th>3</th>\n",
       "      <td>1.0</td>\n",
       "      <td>0.0</td>\n",
       "      <td>0.0</td>\n",
       "      <td>0.0</td>\n",
       "      <td>0.0</td>\n",
       "      <td>1.0</td>\n",
       "      <td>39.0</td>\n",
       "      <td>1.0</td>\n",
       "      <td>5.0</td>\n",
       "    </tr>\n",
       "    <tr>\n",
       "      <th>4</th>\n",
       "      <td>0.0</td>\n",
       "      <td>0.0</td>\n",
       "      <td>0.0</td>\n",
       "      <td>1.0</td>\n",
       "      <td>0.0</td>\n",
       "      <td>1.0</td>\n",
       "      <td>30.0</td>\n",
       "      <td>1.0</td>\n",
       "      <td>6.0</td>\n",
       "    </tr>\n",
       "  </tbody>\n",
       "</table>\n",
       "</div>"
      ],
      "text/plain": [
       "   country[China]  country[Germany]  country[UK]  country[US]  \\\n",
       "0             0.0               0.0          1.0          0.0   \n",
       "1             0.0               0.0          0.0          1.0   \n",
       "2             0.0               0.0          0.0          1.0   \n",
       "3             1.0               0.0          0.0          0.0   \n",
       "4             0.0               0.0          0.0          1.0   \n",
       "\n",
       "   source[T.Direct]  source[T.Seo]   age  new_user  total_pages_visited  \n",
       "0               0.0            0.0  25.0       1.0                  1.0  \n",
       "1               0.0            1.0  23.0       1.0                  5.0  \n",
       "2               0.0            1.0  28.0       1.0                  4.0  \n",
       "3               0.0            1.0  39.0       1.0                  5.0  \n",
       "4               0.0            1.0  30.0       1.0                  6.0  "
      ]
     },
     "execution_count": 41,
     "metadata": {},
     "output_type": "execute_result"
    }
   ],
   "source": [
    "X.head()"
   ]
  },
  {
   "cell_type": "code",
   "execution_count": 42,
   "metadata": {
    "collapsed": true
   },
   "outputs": [],
   "source": [
    "from sklearn.preprocessing import StandardScaler\n",
    "from sklearn.linear_model import LogisticRegression\n",
    "from sklearn.linear_model import SGDClassifier\n",
    "from sklearn.tree import DecisionTreeClassifier\n",
    "from sklearn.tree import export_graphviz\n",
    "from sklearn.ensemble import RandomForestClassifier\n",
    "from sklearn.model_selection import train_test_split\n",
    "from sklearn.model_selection import GridSearchCV\n",
    "from sklearn.model_selection import cross_val_predict\n",
    "from sklearn.model_selection import learning_curve\n",
    "from sklearn import metrics"
   ]
  },
  {
   "cell_type": "markdown",
   "metadata": {},
   "source": [
    "I have functions here for scaling the data, but this only seems to reduce the predictive power."
   ]
  },
  {
   "cell_type": "code",
   "execution_count": 43,
   "metadata": {
    "collapsed": true
   },
   "outputs": [],
   "source": [
    "def scale_train_vals(df):\n",
    "    # split data - ignore columns where only values are 0 and 1\n",
    "    binary_cols = [c for c in df.columns if list(np.unique(df[c].values)) == [0, 1]]\n",
    "    numeric_cols = [c for c in df.columns if list(np.unique(df[c].values)) != [0, 1]]\n",
    "    numeric_df = pd.DataFrame(data=df, columns=numeric_cols)\n",
    "    binary_df = pd.DataFrame(data=df, columns=binary_cols)\n",
    "\n",
    "    scaler = StandardScaler()\n",
    "    scaled_x = scaler.fit_transform(numeric_df)\n",
    "\n",
    "    scaled_x_df = pd.DataFrame(scaled_x, columns=numeric_df.columns)\n",
    "    \n",
    "    return scaled_x_df, scaler\n",
    "\n",
    "def scale_test_vals(df, scaler):\n",
    "    # split data - ignore columns where only values are 0 and 1\n",
    "    binary_cols = [c for c in df.columns if list(np.unique(df[c].values)) == [0, 1]]\n",
    "    numeric_cols = [c for c in df.columns if list(np.unique(df[c].values)) != [0, 1]]\n",
    "    numeric_df = pd.DataFrame(data=df, columns=numeric_cols)\n",
    "    binary_df = pd.DataFrame(data=df, columns=binary_cols)\n",
    "\n",
    "    scaled_x = scaler.transform(numeric_df)\n",
    "\n",
    "    scaled_x_df = pd.DataFrame(scaled_x, columns=numeric_df.columns)\n",
    "    \n",
    "    return scaled_x_df"
   ]
  },
  {
   "cell_type": "code",
   "execution_count": 44,
   "metadata": {
    "collapsed": true
   },
   "outputs": [],
   "source": [
    "X_train, X_test, y_train, y_test = train_test_split(X, y, test_size=0.3, stratify=y)\n",
    "y_train_series = y_train['converted']"
   ]
  },
  {
   "cell_type": "code",
   "execution_count": 45,
   "metadata": {
    "collapsed": false
   },
   "outputs": [
    {
     "name": "stdout",
     "output_type": "stream",
     "text": [
      "Accuracy: 0.940638299795\n",
      "Classification report: \n",
      "             precision    recall  f1-score   support\n",
      "\n",
      "        0.0       1.00      0.94      0.97    214199\n",
      "        1.0       0.35      0.94      0.50      7139\n",
      "\n",
      "avg / total       0.98      0.94      0.95    221338\n",
      "\n",
      "Confusion matrix results: \n",
      "[[201506  12693]\n",
      " [   446   6693]]\n",
      "False positives: 12693\n",
      "False negatives: 446\n"
     ]
    }
   ],
   "source": [
    "log_model = LogisticRegression(class_weight='balanced')\n",
    "log_model.fit(X_train, y_train_series)\n",
    "\n",
    "# scale age and total_pages_visited columns\n",
    "# X_train_scaled, scaler = scale_train_vals(X_train)\n",
    "# log_model.fit(X_train_scaled, y_train_series)\n",
    "\n",
    "predictions = cross_val_predict(log_model, X_train, y_train_series, cv=3) # _scaled\n",
    "print 'Accuracy: ' + str(metrics.accuracy_score(y_train, predictions))\n",
    "print 'Classification report: \\n' + str(metrics.classification_report(y_train, predictions))\n",
    "mat = metrics.confusion_matrix(y_train, predictions)\n",
    "print 'Confusion matrix results: \\n' + str(mat)\n",
    "print 'False positives: ' + str(mat[0, 1])\n",
    "print 'False negatives: ' + str(mat[1, 0])"
   ]
  },
  {
   "cell_type": "markdown",
   "metadata": {},
   "source": [
    "So even with having the class_weight parameter = 'balanced', I suspect that the precision is so low because the model is being fit on unbalanced data. I will run the model on data with the majority class undersampled."
   ]
  },
  {
   "cell_type": "code",
   "execution_count": 46,
   "metadata": {
    "collapsed": true
   },
   "outputs": [],
   "source": [
    "def balance_dataset(dataset, label, undersample=True):\n",
    "    # function to downsample dataset\n",
    "    # gets list of datasets split by class in label column\n",
    "    data_split = [dataset[dataset[label] == l].copy() for l in list(set(dataset[label].values))]\n",
    "    sizes = [f.shape[0] for f in data_split]  # list of dataset lengths\n",
    "    dataset = pd.concat([f.sample(n=(min(sizes) if undersample else max(sizes)),\n",
    "                               replace=(not undersample), random_state=42).copy() for f in data_split], axis=0).sample(frac=1)\n",
    "\n",
    "    print 'Balanced dataset by undersampling dominant class, now have dataset of length: ' + \\\n",
    "          str(len(dataset))\n",
    "\n",
    "    return dataset"
   ]
  },
  {
   "cell_type": "code",
   "execution_count": 50,
   "metadata": {
    "collapsed": false
   },
   "outputs": [
    {
     "name": "stdout",
     "output_type": "stream",
     "text": [
      "Balanced dataset by undersampling dominant class, now have dataset of length: 20400\n"
     ]
    }
   ],
   "source": [
    "bal_data = balance_dataset(conversion_data, 'converted', undersample=True)\n",
    "y_bal, X_bal = patsy.dmatrices('converted ~ country + age + new_user + source + total_pages_visited -1', \n",
    "                       bal_data, return_type='dataframe')\n",
    "\n",
    "X_train_bal, X_test_bal, y_train_bal, y_test_bal = train_test_split(X_bal, y_bal, test_size=0.3, stratify=y_bal)\n",
    "y_train_bal_series = y_train_bal['converted']"
   ]
  },
  {
   "cell_type": "code",
   "execution_count": 51,
   "metadata": {
    "collapsed": false
   },
   "outputs": [
    {
     "name": "stdout",
     "output_type": "stream",
     "text": [
      "Accuracy: 0.941798571228\n",
      "Classification report: \n",
      "             precision    recall  f1-score   support\n",
      "\n",
      "        0.0       0.94      0.94      0.94      7140\n",
      "        1.0       0.94      0.94      0.94      7138\n",
      "\n",
      "avg / total       0.94      0.94      0.94     14278\n",
      "\n",
      "Confusion matrix results: \n",
      "[[6734  406]\n",
      " [ 425 6713]]\n",
      "False positives: 406\n",
      "False negatives: 425\n"
     ]
    }
   ],
   "source": [
    "log_model = LogisticRegression()\n",
    "log_model.fit(X_train_bal, y_train_bal_series)\n",
    "\n",
    "# X_train_scaled, scaler = scale_train_vals(X_train)\n",
    "# log_model.fit(X_train_scaled, y_train_series)\n",
    "\n",
    "predictions = cross_val_predict(log_model, X_train_bal, y_train_bal_series, cv=3)\n",
    "print 'Accuracy: ' + str(metrics.accuracy_score(y_train_bal, predictions))\n",
    "print 'Classification report: \\n' + str(metrics.classification_report(y_train_bal, predictions))\n",
    "mat = metrics.confusion_matrix(y_train_bal, predictions)\n",
    "print 'Confusion matrix results: \\n' + str(mat)\n",
    "print 'False positives: ' + str(mat[0, 1])\n",
    "print 'False negatives: ' + str(mat[1, 0])"
   ]
  },
  {
   "cell_type": "markdown",
   "metadata": {},
   "source": [
    "## Evaluate model on test set"
   ]
  },
  {
   "cell_type": "code",
   "execution_count": 53,
   "metadata": {
    "collapsed": false
   },
   "outputs": [
    {
     "name": "stdout",
     "output_type": "stream",
     "text": [
      "Accuracy: 0.937581699346\n",
      "Classification report: \n",
      "             precision    recall  f1-score   support\n",
      "\n",
      "        0.0       0.93      0.94      0.94      3060\n",
      "        1.0       0.94      0.93      0.94      3060\n",
      "\n",
      "avg / total       0.94      0.94      0.94      6120\n",
      "\n"
     ]
    },
    {
     "data": {
      "image/png": "[encoded data removed]",
      "text/plain": [
       "<matplotlib.figure.Figure at 0x1229c4ed0>"
      ]
     },
     "metadata": {},
     "output_type": "display_data"
    }
   ],
   "source": [
    "predictions = log_model.predict(X_test_bal)\n",
    "print 'Accuracy: ' + str(metrics.accuracy_score(y_test_bal, predictions))\n",
    "print 'Classification report: \\n' + str(metrics.classification_report(y_test_bal, predictions))\n",
    "mat = metrics.confusion_matrix(y_test_bal, predictions)\n",
    "\n",
    "preds = log_model.predict_proba(X_test_bal)[:, 1]\n",
    "fpr, tpr, _ = metrics.roc_curve(y_test_bal, preds)\n",
    "roc_auc = metrics.auc(fpr, tpr)\n",
    "\n",
    "plt.plot(fpr, tpr, color='blue', label='ROC curve (AUC = %0.2f)' % roc_auc)\n",
    "\n",
    "plt.plot([0, 1], [0, 1], color='k', linestyle='--')\n",
    "plt.xlim([-0.05, 1.0])\n",
    "plt.ylim([0.0, 1.05])\n",
    "plt.xlabel('False Positive Rate')\n",
    "plt.ylabel('True Positive Rate')\n",
    "plt.title('Receiver Operating Characteristic Curve')\n",
    "plt.legend(loc=\"lower right\")\n",
    "plt.show()"
   ]
  },
  {
   "cell_type": "markdown",
   "metadata": {},
   "source": [
    "Let's look at the relative feature importances for this model."
   ]
  },
  {
   "cell_type": "code",
   "execution_count": 54,
   "metadata": {
    "collapsed": false
   },
   "outputs": [
    {
     "data": {
      "text/plain": [
       "total_pages_visited    4.639007\n",
       "country[Germany]       0.034007\n",
       "source[T.Seo]          0.006500\n",
       "country[UK]            0.001202\n",
       "source[T.Direct]      -0.024548\n",
       "country[US]           -0.113804\n",
       "age                   -0.539505\n",
       "new_user              -0.855951\n",
       "country[China]        -1.213675\n",
       "Name: 1, dtype: float64"
      ]
     },
     "execution_count": 54,
     "metadata": {},
     "output_type": "execute_result"
    }
   ],
   "source": [
    "coefs = np.around(log_model.coef_, 3)\n",
    "coefs.reshape(-1)\n",
    "std = X_train_bal.std(axis=0)\n",
    "std_coef_series = pd.Series(np.reshape(np.array(std)*coefs, -1), index=std.index)\n",
    "featimp_df = pd.DataFrame(data=[std, std_coef_series])\n",
    "model_feature_importance = featimp_df.loc[1].sort_values(ascending=False) #\n",
    "model_feature_importance"
   ]
  },
  {
   "cell_type": "markdown",
   "metadata": {},
   "source": [
    "Okay, this matches with what I would suspect from just looking at the data. Visiting more pages increases the likelihood of conversion, and users from China and new users are less likely to convert. Age is also negatively correlated with conversion."
   ]
  },
  {
   "cell_type": "markdown",
   "metadata": {},
   "source": [
    "# Tree-based models"
   ]
  },
  {
   "cell_type": "markdown",
   "metadata": {},
   "source": [
    "Let's try out a decision tree classifier and random forest as well. These will also be trained on a balanced dataset."
   ]
  },
  {
   "cell_type": "code",
   "execution_count": 55,
   "metadata": {
    "collapsed": false
   },
   "outputs": [
    {
     "name": "stdout",
     "output_type": "stream",
     "text": [
      "Accuracy: 0.934374562264\n",
      "Classification report: \n",
      "             precision    recall  f1-score   support\n",
      "\n",
      "        0.0       0.93      0.94      0.93      7140\n",
      "        1.0       0.94      0.93      0.93      7138\n",
      "\n",
      "avg / total       0.93      0.93      0.93     14278\n",
      "\n",
      "Confusion matrix results: \n",
      "[[6712  428]\n",
      " [ 509 6629]]\n",
      "False positives: 428\n",
      "False negatives: 509\n"
     ]
    }
   ],
   "source": [
    "tree_model = DecisionTreeClassifier(max_depth=20, min_samples_leaf=10)\n",
    "tree_model.fit(X_train_bal, y_train_bal_series)\n",
    "\n",
    "predictions = cross_val_predict(tree_model, X_train_bal, y_train_bal_series, cv=3)\n",
    "print 'Accuracy: ' + str(metrics.accuracy_score(y_train_bal, predictions))\n",
    "print 'Classification report: \\n' + str(metrics.classification_report(y_train_bal, predictions))\n",
    "mat = metrics.confusion_matrix(y_train_bal, predictions)\n",
    "print 'Confusion matrix results: \\n' + str(mat)\n",
    "print 'False positives: ' + str(mat[0, 1])\n",
    "print 'False negatives: ' + str(mat[1, 0])"
   ]
  },
  {
   "cell_type": "code",
   "execution_count": 56,
   "metadata": {
    "collapsed": false
   },
   "outputs": [],
   "source": [
    "with open(\"tree_classifier.txt\", \"w\") as f:\n",
    "    f = export_graphviz(tree_model, out_file=f)"
   ]
  },
  {
   "cell_type": "code",
   "execution_count": 58,
   "metadata": {
    "collapsed": false
   },
   "outputs": [
    {
     "name": "stdout",
     "output_type": "stream",
     "text": [
      "Accuracy: 0.939137134052\n",
      "Classification report: \n",
      "             precision    recall  f1-score   support\n",
      "\n",
      "        0.0       0.94      0.94      0.94      7140\n",
      "        1.0       0.94      0.94      0.94      7138\n",
      "\n",
      "avg / total       0.94      0.94      0.94     14278\n",
      "\n",
      "Confusion matrix results: \n",
      "[[6728  412]\n",
      " [ 457 6681]]\n",
      "False positives: 412\n",
      "False negatives: 457\n"
     ]
    }
   ],
   "source": [
    "rf_model = RandomForestClassifier(max_depth=20, min_samples_leaf=10)\n",
    "rf_model.fit(X_train_bal, y_train_bal_series)\n",
    "\n",
    "predictions = cross_val_predict(rf_model, X_train_bal, y_train_bal_series, cv=3)\n",
    "print 'Accuracy: ' + str(metrics.accuracy_score(y_train_bal, predictions))\n",
    "print 'Classification report: \\n' + str(metrics.classification_report(y_train_bal, predictions))\n",
    "mat = metrics.confusion_matrix(y_train_bal, predictions)\n",
    "print 'Confusion matrix results: \\n' + str(mat)\n",
    "print 'False positives: ' + str(mat[0, 1])\n",
    "print 'False negatives: ' + str(mat[1, 0])"
   ]
  },
  {
   "cell_type": "markdown",
   "metadata": {},
   "source": [
    "## Evaluate Random Forest on test set"
   ]
  },
  {
   "cell_type": "code",
   "execution_count": 59,
   "metadata": {
    "collapsed": false
   },
   "outputs": [
    {
     "name": "stdout",
     "output_type": "stream",
     "text": [
      "Accuracy: 0.938071895425\n",
      "Classification report: \n",
      "             precision    recall  f1-score   support\n",
      "\n",
      "        0.0       0.93      0.95      0.94      3060\n",
      "        1.0       0.95      0.93      0.94      3060\n",
      "\n",
      "avg / total       0.94      0.94      0.94      6120\n",
      "\n"
     ]
    },
    {
     "data": {
      "image/png": "[encoded data removed]",
      "text/plain": [
       "<matplotlib.figure.Figure at 0x122a71350>"
      ]
     },
     "metadata": {},
     "output_type": "display_data"
    }
   ],
   "source": [
    "predictions = rf_model.predict(X_test_bal)\n",
    "print 'Accuracy: ' + str(metrics.accuracy_score(y_test_bal, predictions))\n",
    "print 'Classification report: \\n' + str(metrics.classification_report(y_test_bal, predictions))\n",
    "mat = metrics.confusion_matrix(y_test_bal, predictions)\n",
    "\n",
    "preds = rf_model.predict_proba(X_test_bal)[:, 1]\n",
    "fpr, tpr, thresholds = metrics.roc_curve(y_test_bal, preds)\n",
    "roc_auc = metrics.auc(fpr, tpr)\n",
    "\n",
    "plt.figure(figsize=(5, 5))\n",
    "plt.plot(fpr, tpr, color='blue', label='ROC curve (AUC = %0.2f)' % roc_auc)\n",
    "\n",
    "plt.plot([0, 1], [0, 1], color='k', linestyle='--')\n",
    "plt.xlim([0, 1.0])\n",
    "plt.ylim([0.0, 1.0])\n",
    "plt.xlabel('False Positive Rate')\n",
    "plt.ylabel('True Positive Rate')\n",
    "plt.title('Receiver Operating Characteristic Curve')\n",
    "plt.legend(loc=\"lower right\")\n",
    "plt.show()"
   ]
  },
  {
   "cell_type": "code",
   "execution_count": 60,
   "metadata": {
    "collapsed": false
   },
   "outputs": [
    {
     "data": {
      "text/html": [
       "<div>\n",
       "<style>\n",
       "    .dataframe thead tr:only-child th {\n",
       "        text-align: right;\n",
       "    }\n",
       "\n",
       "    .dataframe thead th {\n",
       "        text-align: left;\n",
       "    }\n",
       "\n",
       "    .dataframe tbody tr th {\n",
       "        vertical-align: top;\n",
       "    }\n",
       "</style>\n",
       "<table border=\"1\" class=\"dataframe\">\n",
       "  <thead>\n",
       "    <tr style=\"text-align: right;\">\n",
       "      <th></th>\n",
       "      <th>importance</th>\n",
       "      <th>name</th>\n",
       "    </tr>\n",
       "  </thead>\n",
       "  <tbody>\n",
       "    <tr>\n",
       "      <th>8</th>\n",
       "      <td>0.788373</td>\n",
       "      <td>total_pages_visited</td>\n",
       "    </tr>\n",
       "    <tr>\n",
       "      <th>7</th>\n",
       "      <td>0.113390</td>\n",
       "      <td>new_user</td>\n",
       "    </tr>\n",
       "    <tr>\n",
       "      <th>0</th>\n",
       "      <td>0.046474</td>\n",
       "      <td>country[China]</td>\n",
       "    </tr>\n",
       "    <tr>\n",
       "      <th>6</th>\n",
       "      <td>0.033498</td>\n",
       "      <td>age</td>\n",
       "    </tr>\n",
       "    <tr>\n",
       "      <th>2</th>\n",
       "      <td>0.011341</td>\n",
       "      <td>country[UK]</td>\n",
       "    </tr>\n",
       "    <tr>\n",
       "      <th>3</th>\n",
       "      <td>0.002935</td>\n",
       "      <td>country[US]</td>\n",
       "    </tr>\n",
       "    <tr>\n",
       "      <th>1</th>\n",
       "      <td>0.001517</td>\n",
       "      <td>country[Germany]</td>\n",
       "    </tr>\n",
       "    <tr>\n",
       "      <th>5</th>\n",
       "      <td>0.001293</td>\n",
       "      <td>source[T.Seo]</td>\n",
       "    </tr>\n",
       "    <tr>\n",
       "      <th>4</th>\n",
       "      <td>0.001179</td>\n",
       "      <td>source[T.Direct]</td>\n",
       "    </tr>\n",
       "  </tbody>\n",
       "</table>\n",
       "</div>"
      ],
      "text/plain": [
       "   importance                 name\n",
       "8    0.788373  total_pages_visited\n",
       "7    0.113390             new_user\n",
       "0    0.046474       country[China]\n",
       "6    0.033498                  age\n",
       "2    0.011341          country[UK]\n",
       "3    0.002935          country[US]\n",
       "1    0.001517     country[Germany]\n",
       "5    0.001293        source[T.Seo]\n",
       "4    0.001179     source[T.Direct]"
      ]
     },
     "execution_count": 60,
     "metadata": {},
     "output_type": "execute_result"
    }
   ],
   "source": [
    "feature_imps = pd.DataFrame({'name': list(X_train.columns), 'importance': rf_model.feature_importances_})\n",
    "feature_imps.sort_values('importance', ascending=False)[:10]"
   ]
  },
  {
   "cell_type": "markdown",
   "metadata": {
    "collapsed": true
   },
   "source": [
    "# Recommendations"
   ]
  },
  {
   "cell_type": "markdown",
   "metadata": {},
   "source": [
    "Total pages visited is the best predictor and could be indicative of visitor interest before visiting the site. However, because the source doesn't seem to be predictive, this may be evidence that interest before visiting (indicated by directly typing the url) isn't much of a factor.\n",
    "\n",
    "The company might want to figure out why the conversion rate is so low among visitors from China, since this is a very large market and they already are getting a good number of visitors from there, just not a lot of buyers."
   ]
  },
  {
   "cell_type": "code",
   "execution_count": null,
   "metadata": {
    "collapsed": true
   },
   "outputs": [],
   "source": []
  }
 ],
 "metadata": {
  "anaconda-cloud": {},
  "kernelspec": {
   "display_name": "Python [conda env:my_insight_env]",
   "language": "python",
   "name": "conda-env-my_insight_env-py"
  },
  "language_info": {
   "codemirror_mode": {
    "name": "ipython",
    "version": 2
   },
   "file_extension": ".py",
   "mimetype": "text/x-python",
   "name": "python",
   "nbconvert_exporter": "python",
   "pygments_lexer": "ipython2",
   "version": "2.7.13"
  }
 },
 "nbformat": 4,
 "nbformat_minor": 1
}
